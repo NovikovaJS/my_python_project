{
  "nbformat": 4,
  "nbformat_minor": 0,
  "metadata": {
    "colab": {
      "name": "СТАТ.АНАЛИЗ вакансий HH.ru Новикова Юлия",
      "provenance": [],
      "collapsed_sections": [
        "0hZgxBzbIeSU",
        "n5QeE0mS72vw",
        "YvbRI8KOJnVu"
      ]
    },
    "kernelspec": {
      "name": "python3",
      "display_name": "Python 3"
    },
    "language_info": {
      "name": "python"
    }
  },
  "cells": [
    {
      "cell_type": "markdown",
      "source": [
        "##Подгрузка датасета"
      ],
      "metadata": {
        "id": "0hZgxBzbIeSU"
      }
    },
    {
      "cell_type": "code",
      "execution_count": null,
      "metadata": {
        "id": "0HtNyGBNIbM3",
        "colab": {
          "base_uri": "https://localhost:8080/"
        },
        "outputId": "1b8595e7-8cdb-4765-cd87-84a91d244448"
      },
      "outputs": [
        {
          "output_type": "stream",
          "name": "stdout",
          "text": [
            "/usr/local/lib/python3.7/dist-packages/gdown/cli.py:131: FutureWarning: Option `--id` was deprecated in version 4.3.1 and will be removed in 5.0. You don't need to pass it anymore to use a file ID.\n",
            "  category=FutureWarning,\n",
            "Downloading...\n",
            "From: https://drive.google.com/uc?id=1IgyD6jJJem6uF5VnDDkCP6AIK5og1KTR\n",
            "To: /content/Вакансии_для_статистики.csv\n",
            "100% 18.6M/18.6M [00:00<00:00, 269MB/s]\n"
          ]
        }
      ],
      "source": [
        "!gdown --id 1IgyD6jJJem6uF5VnDDkCP6AIK5og1KTR"
      ]
    },
    {
      "cell_type": "markdown",
      "source": [
        "## Подгрузка данных в питон и начало работы с ними"
      ],
      "metadata": {
        "id": "n5QeE0mS72vw"
      }
    },
    {
      "cell_type": "code",
      "execution_count": null,
      "metadata": {
        "id": "u6djlDpb6C-N"
      },
      "outputs": [],
      "source": [
        "import pandas as pd"
      ]
    },
    {
      "cell_type": "code",
      "source": [
        "dataset = pd.read_csv('Вакансии_для_статистики.csv') #подругрузка файла"
      ],
      "metadata": {
        "id": "TKmrOuMb6MOx"
      },
      "execution_count": null,
      "outputs": []
    },
    {
      "cell_type": "code",
      "source": [
        "df = pd.DataFrame(dataset)"
      ],
      "metadata": {
        "id": "joqheZtu-71u"
      },
      "execution_count": null,
      "outputs": []
    },
    {
      "cell_type": "markdown",
      "source": [
        "##Отключение ограничения показа всех строк таблиц"
      ],
      "metadata": {
        "id": "YvbRI8KOJnVu"
      }
    },
    {
      "cell_type": "code",
      "source": [
        "#pd.set_option('display.max_rows', None)\n",
        "#pd.set_option('display.max_columns', None)\n",
        "#pd.set_option('display.max_colwidth', None)"
      ],
      "metadata": {
        "id": "v9LbIXaHeWGn"
      },
      "execution_count": null,
      "outputs": []
    },
    {
      "cell_type": "markdown",
      "source": [
        "##Подключение библиотек"
      ],
      "metadata": {
        "id": "DC8GLaTIIyEV"
      }
    },
    {
      "cell_type": "code",
      "source": [
        "%matplotlib inline\n",
        "import numpy as np\n",
        "import pandas as pd\n",
        "import matplotlib.pyplot as plt\n",
        "import scipy\n",
        "import scipy.stats as stats\n",
        "import seaborn as sns\n",
        "import sklearn.linear_model as lm\n",
        "import statsmodels.api as sm\n",
        "import statsmodels.formula.api as smf\n",
        "\n",
        "pd.options.display.max_rows = 8 #параметр отображения графиков\n",
        "\n",
        "import warnings\n",
        "warnings.filterwarnings('ignore') #отключение предупреждений библиотек"
      ],
      "metadata": {
        "id": "SFXC324zI7G-"
      },
      "execution_count": null,
      "outputs": []
    },
    {
      "cell_type": "markdown",
      "source": [
        "##Проверим зависимость начальной зарплаты от типа графика работы и от опыта работы"
      ],
      "metadata": {
        "id": "pPTu23-YVTnL"
      }
    },
    {
      "cell_type": "markdown",
      "source": [
        "Мы готовы совершить ошибку первого рода с вероятностью 0.05 (сравниваем с p-value)\n",
        "\n",
        "---\n",
        "\n"
      ],
      "metadata": {
        "id": "266wE1Bmm_sX"
      }
    },
    {
      "cell_type": "markdown",
      "source": [
        "###Фильтрация датафрейма по средней зарплате. Убираем вакансии, в которых не указана начальная зарплата"
      ],
      "metadata": {
        "id": "Oaj0rr_dVahV"
      }
    },
    {
      "cell_type": "code",
      "source": [
        "df['experience'] = df['experience'].str.replace(' ', '_')"
      ],
      "metadata": {
        "id": "XBwa5nB6F5bn"
      },
      "execution_count": null,
      "outputs": []
    },
    {
      "cell_type": "code",
      "source": [
        "df['schedule'] = df['schedule'].str.replace(' ', '_')"
      ],
      "metadata": {
        "id": "WLtRDMwwyXCT"
      },
      "execution_count": null,
      "outputs": []
    },
    {
      "cell_type": "code",
      "source": [
        "df.rename(columns = {'Средняя заработная плата' : 'Средняя_зп'}, inplace = True) "
      ],
      "metadata": {
        "id": "7j0oJSIO-7vH"
      },
      "execution_count": null,
      "outputs": []
    },
    {
      "cell_type": "code",
      "source": [
        "df1 = df[df['Средняя_зп'] > 0]"
      ],
      "metadata": {
        "id": "JPUoMQVlJQMb"
      },
      "execution_count": null,
      "outputs": []
    },
    {
      "cell_type": "markdown",
      "source": [
        "#Проведем статистический анализ вакансий по 1С"
      ],
      "metadata": {
        "id": "dXHshn-5Vyrl"
      }
    },
    {
      "cell_type": "code",
      "source": [
        "df2 = df1[df1[\"name_prof\"] == \"1С разработчик\"]"
      ],
      "metadata": {
        "id": "ezkDHF5WWpAn"
      },
      "execution_count": null,
      "outputs": []
    },
    {
      "cell_type": "markdown",
      "source": [
        "##Создадим новый датафрейм со столбцами график, начальная зарплата, опыт"
      ],
      "metadata": {
        "id": "E0Mz-z8XbkoJ"
      }
    },
    {
      "cell_type": "code",
      "source": [
        "df3 = df2[['schedule','experience','Средняя_зп']]\n",
        "df3"
      ],
      "metadata": {
        "colab": {
          "base_uri": "https://localhost:8080/"
        },
        "id": "n1m3UM-pOlsN",
        "outputId": "835fc992-8074-4132-d641-8759b57c0ebe"
      },
      "execution_count": null,
      "outputs": [
        {
          "output_type": "execute_result",
          "data": {
            "text/plain": [
              "               schedule          experience  Средняя_зп\n",
              "12889  Удаленная_работа  От_1_года_до_3_лет    203000.0\n",
              "12890       Полный_день       От_3_до_6_лет    120000.0\n",
              "12891       Полный_день       От_3_до_6_лет    120000.0\n",
              "12892  Удаленная_работа           Нет_опыта     35000.0\n",
              "...                 ...                 ...         ...\n",
              "17279       Полный_день           Нет_опыта     25000.0\n",
              "17282       Полный_день  От_1_года_до_3_лет    185000.0\n",
              "17284       Полный_день  От_1_года_до_3_лет    100000.0\n",
              "17287       Полный_день  От_1_года_до_3_лет    175000.0\n",
              "\n",
              "[2555 rows x 3 columns]"
            ],
            "text/html": [
              "\n",
              "  <div id=\"df-6a467613-a925-4414-8cfd-6b80edce0e34\">\n",
              "    <div class=\"colab-df-container\">\n",
              "      <div>\n",
              "<style scoped>\n",
              "    .dataframe tbody tr th:only-of-type {\n",
              "        vertical-align: middle;\n",
              "    }\n",
              "\n",
              "    .dataframe tbody tr th {\n",
              "        vertical-align: top;\n",
              "    }\n",
              "\n",
              "    .dataframe thead th {\n",
              "        text-align: right;\n",
              "    }\n",
              "</style>\n",
              "<table border=\"1\" class=\"dataframe\">\n",
              "  <thead>\n",
              "    <tr style=\"text-align: right;\">\n",
              "      <th></th>\n",
              "      <th>schedule</th>\n",
              "      <th>experience</th>\n",
              "      <th>Средняя_зп</th>\n",
              "    </tr>\n",
              "  </thead>\n",
              "  <tbody>\n",
              "    <tr>\n",
              "      <th>12889</th>\n",
              "      <td>Удаленная_работа</td>\n",
              "      <td>От_1_года_до_3_лет</td>\n",
              "      <td>203000.0</td>\n",
              "    </tr>\n",
              "    <tr>\n",
              "      <th>12890</th>\n",
              "      <td>Полный_день</td>\n",
              "      <td>От_3_до_6_лет</td>\n",
              "      <td>120000.0</td>\n",
              "    </tr>\n",
              "    <tr>\n",
              "      <th>12891</th>\n",
              "      <td>Полный_день</td>\n",
              "      <td>От_3_до_6_лет</td>\n",
              "      <td>120000.0</td>\n",
              "    </tr>\n",
              "    <tr>\n",
              "      <th>12892</th>\n",
              "      <td>Удаленная_работа</td>\n",
              "      <td>Нет_опыта</td>\n",
              "      <td>35000.0</td>\n",
              "    </tr>\n",
              "    <tr>\n",
              "      <th>...</th>\n",
              "      <td>...</td>\n",
              "      <td>...</td>\n",
              "      <td>...</td>\n",
              "    </tr>\n",
              "    <tr>\n",
              "      <th>17279</th>\n",
              "      <td>Полный_день</td>\n",
              "      <td>Нет_опыта</td>\n",
              "      <td>25000.0</td>\n",
              "    </tr>\n",
              "    <tr>\n",
              "      <th>17282</th>\n",
              "      <td>Полный_день</td>\n",
              "      <td>От_1_года_до_3_лет</td>\n",
              "      <td>185000.0</td>\n",
              "    </tr>\n",
              "    <tr>\n",
              "      <th>17284</th>\n",
              "      <td>Полный_день</td>\n",
              "      <td>От_1_года_до_3_лет</td>\n",
              "      <td>100000.0</td>\n",
              "    </tr>\n",
              "    <tr>\n",
              "      <th>17287</th>\n",
              "      <td>Полный_день</td>\n",
              "      <td>От_1_года_до_3_лет</td>\n",
              "      <td>175000.0</td>\n",
              "    </tr>\n",
              "  </tbody>\n",
              "</table>\n",
              "<p>2555 rows × 3 columns</p>\n",
              "</div>\n",
              "      <button class=\"colab-df-convert\" onclick=\"convertToInteractive('df-6a467613-a925-4414-8cfd-6b80edce0e34')\"\n",
              "              title=\"Convert this dataframe to an interactive table.\"\n",
              "              style=\"display:none;\">\n",
              "        \n",
              "  <svg xmlns=\"http://www.w3.org/2000/svg\" height=\"24px\"viewBox=\"0 0 24 24\"\n",
              "       width=\"24px\">\n",
              "    <path d=\"M0 0h24v24H0V0z\" fill=\"none\"/>\n",
              "    <path d=\"M18.56 5.44l.94 2.06.94-2.06 2.06-.94-2.06-.94-.94-2.06-.94 2.06-2.06.94zm-11 1L8.5 8.5l.94-2.06 2.06-.94-2.06-.94L8.5 2.5l-.94 2.06-2.06.94zm10 10l.94 2.06.94-2.06 2.06-.94-2.06-.94-.94-2.06-.94 2.06-2.06.94z\"/><path d=\"M17.41 7.96l-1.37-1.37c-.4-.4-.92-.59-1.43-.59-.52 0-1.04.2-1.43.59L10.3 9.45l-7.72 7.72c-.78.78-.78 2.05 0 2.83L4 21.41c.39.39.9.59 1.41.59.51 0 1.02-.2 1.41-.59l7.78-7.78 2.81-2.81c.8-.78.8-2.07 0-2.86zM5.41 20L4 18.59l7.72-7.72 1.47 1.35L5.41 20z\"/>\n",
              "  </svg>\n",
              "      </button>\n",
              "      \n",
              "  <style>\n",
              "    .colab-df-container {\n",
              "      display:flex;\n",
              "      flex-wrap:wrap;\n",
              "      gap: 12px;\n",
              "    }\n",
              "\n",
              "    .colab-df-convert {\n",
              "      background-color: #E8F0FE;\n",
              "      border: none;\n",
              "      border-radius: 50%;\n",
              "      cursor: pointer;\n",
              "      display: none;\n",
              "      fill: #1967D2;\n",
              "      height: 32px;\n",
              "      padding: 0 0 0 0;\n",
              "      width: 32px;\n",
              "    }\n",
              "\n",
              "    .colab-df-convert:hover {\n",
              "      background-color: #E2EBFA;\n",
              "      box-shadow: 0px 1px 2px rgba(60, 64, 67, 0.3), 0px 1px 3px 1px rgba(60, 64, 67, 0.15);\n",
              "      fill: #174EA6;\n",
              "    }\n",
              "\n",
              "    [theme=dark] .colab-df-convert {\n",
              "      background-color: #3B4455;\n",
              "      fill: #D2E3FC;\n",
              "    }\n",
              "\n",
              "    [theme=dark] .colab-df-convert:hover {\n",
              "      background-color: #434B5C;\n",
              "      box-shadow: 0px 1px 3px 1px rgba(0, 0, 0, 0.15);\n",
              "      filter: drop-shadow(0px 1px 2px rgba(0, 0, 0, 0.3));\n",
              "      fill: #FFFFFF;\n",
              "    }\n",
              "  </style>\n",
              "\n",
              "      <script>\n",
              "        const buttonEl =\n",
              "          document.querySelector('#df-6a467613-a925-4414-8cfd-6b80edce0e34 button.colab-df-convert');\n",
              "        buttonEl.style.display =\n",
              "          google.colab.kernel.accessAllowed ? 'block' : 'none';\n",
              "\n",
              "        async function convertToInteractive(key) {\n",
              "          const element = document.querySelector('#df-6a467613-a925-4414-8cfd-6b80edce0e34');\n",
              "          const dataTable =\n",
              "            await google.colab.kernel.invokeFunction('convertToInteractive',\n",
              "                                                     [key], {});\n",
              "          if (!dataTable) return;\n",
              "\n",
              "          const docLinkHtml = 'Like what you see? Visit the ' +\n",
              "            '<a target=\"_blank\" href=https://colab.research.google.com/notebooks/data_table.ipynb>data table notebook</a>'\n",
              "            + ' to learn more about interactive tables.';\n",
              "          element.innerHTML = '';\n",
              "          dataTable['output_type'] = 'display_data';\n",
              "          await google.colab.output.renderOutput(dataTable, element);\n",
              "          const docLink = document.createElement('div');\n",
              "          docLink.innerHTML = docLinkHtml;\n",
              "          element.appendChild(docLink);\n",
              "        }\n",
              "      </script>\n",
              "    </div>\n",
              "  </div>\n",
              "  "
            ]
          },
          "metadata": {},
          "execution_count": 239
        }
      ]
    },
    {
      "cell_type": "markdown",
      "source": [
        "##Описательные статистики"
      ],
      "metadata": {
        "id": "thyOHPxWYiQF"
      }
    },
    {
      "cell_type": "markdown",
      "source": [
        "Посмотрим описательные статистики для числовых переменных, т.е. для средней заработной платы"
      ],
      "metadata": {
        "id": "W5KloVicYvBl"
      }
    },
    {
      "cell_type": "code",
      "source": [
        "df3['Средняя_зп'].describe()"
      ],
      "metadata": {
        "colab": {
          "base_uri": "https://localhost:8080/"
        },
        "id": "mFxUmR-mYmAx",
        "outputId": "d68a6652-3027-46b0-f423-c27e4cc56689"
      },
      "execution_count": null,
      "outputs": [
        {
          "output_type": "execute_result",
          "data": {
            "text/plain": [
              "count      2555.000000\n",
              "mean     120609.012329\n",
              "std       53933.904644\n",
              "min         130.000000\n",
              "25%       80000.000000\n",
              "50%      120000.000000\n",
              "75%      150000.000000\n",
              "max      350000.000000\n",
              "Name: Средняя_зп, dtype: float64"
            ]
          },
          "metadata": {},
          "execution_count": 240
        }
      ]
    },
    {
      "cell_type": "markdown",
      "source": [
        "Средняя заработная плата 1с программиста составляет 120690 руб, Максимальное значение 350000 руб."
      ],
      "metadata": {
        "id": "9cyLJdBwZkRa"
      }
    },
    {
      "cell_type": "markdown",
      "source": [
        "##Проверка нормальности по критерию Шапиро-Уилка\n",
        "Нулевая гипотеза о том, что средняя заработная плата подчиняется нормальному закону распрееления."
      ],
      "metadata": {
        "id": "HkOwwzxuZ482"
      }
    },
    {
      "cell_type": "code",
      "source": [
        "stats.shapiro(df3['Средняя_зп'])"
      ],
      "metadata": {
        "colab": {
          "base_uri": "https://localhost:8080/"
        },
        "id": "8AORLr_wZ7fT",
        "outputId": "5400c929-d786-4749-9731-55e760a3a4f3"
      },
      "execution_count": null,
      "outputs": [
        {
          "output_type": "execute_result",
          "data": {
            "text/plain": [
              "ShapiroResult(statistic=0.9820705652236938, pvalue=1.9534144789403116e-17)"
            ]
          },
          "metadata": {},
          "execution_count": 241
        }
      ]
    },
    {
      "cell_type": "markdown",
      "source": [
        "p-value 1.9534144789403116e-17 меньше, чем 0.05, следовательно нулевая гипотеза отклоняется"
      ],
      "metadata": {
        "id": "R6fgSuV3ar3A"
      }
    },
    {
      "cell_type": "markdown",
      "source": [
        "# **Нулевая гипотеза №1** Опыт соискателя не влияет на уровень заработной платы. (Анализ влияния категориальных признаков. Критерии сравнения групп.) "
      ],
      "metadata": {
        "id": "2QXw08rEbe8J"
      }
    },
    {
      "cell_type": "markdown",
      "source": [
        "##Описательные статистики"
      ],
      "metadata": {
        "id": "wafoNnf30kej"
      }
    },
    {
      "cell_type": "code",
      "source": [
        "df3.drop(['experience'],axis=1).describe()"
      ],
      "metadata": {
        "colab": {
          "base_uri": "https://localhost:8080/",
          "height": 300
        },
        "id": "E7LFlU9j0j15",
        "outputId": "33020128-f8f3-4c39-e417-98cc999c62de"
      },
      "execution_count": null,
      "outputs": [
        {
          "output_type": "execute_result",
          "data": {
            "text/plain": [
              "          Средняя_зп\n",
              "count    2555.000000\n",
              "mean   120609.012329\n",
              "std     53933.904644\n",
              "min       130.000000\n",
              "25%     80000.000000\n",
              "50%    120000.000000\n",
              "75%    150000.000000\n",
              "max    350000.000000"
            ],
            "text/html": [
              "\n",
              "  <div id=\"df-53ce09b0-daef-4459-a43c-ea298f25e0b0\">\n",
              "    <div class=\"colab-df-container\">\n",
              "      <div>\n",
              "<style scoped>\n",
              "    .dataframe tbody tr th:only-of-type {\n",
              "        vertical-align: middle;\n",
              "    }\n",
              "\n",
              "    .dataframe tbody tr th {\n",
              "        vertical-align: top;\n",
              "    }\n",
              "\n",
              "    .dataframe thead th {\n",
              "        text-align: right;\n",
              "    }\n",
              "</style>\n",
              "<table border=\"1\" class=\"dataframe\">\n",
              "  <thead>\n",
              "    <tr style=\"text-align: right;\">\n",
              "      <th></th>\n",
              "      <th>Средняя_зп</th>\n",
              "    </tr>\n",
              "  </thead>\n",
              "  <tbody>\n",
              "    <tr>\n",
              "      <th>count</th>\n",
              "      <td>2555.000000</td>\n",
              "    </tr>\n",
              "    <tr>\n",
              "      <th>mean</th>\n",
              "      <td>120609.012329</td>\n",
              "    </tr>\n",
              "    <tr>\n",
              "      <th>std</th>\n",
              "      <td>53933.904644</td>\n",
              "    </tr>\n",
              "    <tr>\n",
              "      <th>min</th>\n",
              "      <td>130.000000</td>\n",
              "    </tr>\n",
              "    <tr>\n",
              "      <th>25%</th>\n",
              "      <td>80000.000000</td>\n",
              "    </tr>\n",
              "    <tr>\n",
              "      <th>50%</th>\n",
              "      <td>120000.000000</td>\n",
              "    </tr>\n",
              "    <tr>\n",
              "      <th>75%</th>\n",
              "      <td>150000.000000</td>\n",
              "    </tr>\n",
              "    <tr>\n",
              "      <th>max</th>\n",
              "      <td>350000.000000</td>\n",
              "    </tr>\n",
              "  </tbody>\n",
              "</table>\n",
              "</div>\n",
              "      <button class=\"colab-df-convert\" onclick=\"convertToInteractive('df-53ce09b0-daef-4459-a43c-ea298f25e0b0')\"\n",
              "              title=\"Convert this dataframe to an interactive table.\"\n",
              "              style=\"display:none;\">\n",
              "        \n",
              "  <svg xmlns=\"http://www.w3.org/2000/svg\" height=\"24px\"viewBox=\"0 0 24 24\"\n",
              "       width=\"24px\">\n",
              "    <path d=\"M0 0h24v24H0V0z\" fill=\"none\"/>\n",
              "    <path d=\"M18.56 5.44l.94 2.06.94-2.06 2.06-.94-2.06-.94-.94-2.06-.94 2.06-2.06.94zm-11 1L8.5 8.5l.94-2.06 2.06-.94-2.06-.94L8.5 2.5l-.94 2.06-2.06.94zm10 10l.94 2.06.94-2.06 2.06-.94-2.06-.94-.94-2.06-.94 2.06-2.06.94z\"/><path d=\"M17.41 7.96l-1.37-1.37c-.4-.4-.92-.59-1.43-.59-.52 0-1.04.2-1.43.59L10.3 9.45l-7.72 7.72c-.78.78-.78 2.05 0 2.83L4 21.41c.39.39.9.59 1.41.59.51 0 1.02-.2 1.41-.59l7.78-7.78 2.81-2.81c.8-.78.8-2.07 0-2.86zM5.41 20L4 18.59l7.72-7.72 1.47 1.35L5.41 20z\"/>\n",
              "  </svg>\n",
              "      </button>\n",
              "      \n",
              "  <style>\n",
              "    .colab-df-container {\n",
              "      display:flex;\n",
              "      flex-wrap:wrap;\n",
              "      gap: 12px;\n",
              "    }\n",
              "\n",
              "    .colab-df-convert {\n",
              "      background-color: #E8F0FE;\n",
              "      border: none;\n",
              "      border-radius: 50%;\n",
              "      cursor: pointer;\n",
              "      display: none;\n",
              "      fill: #1967D2;\n",
              "      height: 32px;\n",
              "      padding: 0 0 0 0;\n",
              "      width: 32px;\n",
              "    }\n",
              "\n",
              "    .colab-df-convert:hover {\n",
              "      background-color: #E2EBFA;\n",
              "      box-shadow: 0px 1px 2px rgba(60, 64, 67, 0.3), 0px 1px 3px 1px rgba(60, 64, 67, 0.15);\n",
              "      fill: #174EA6;\n",
              "    }\n",
              "\n",
              "    [theme=dark] .colab-df-convert {\n",
              "      background-color: #3B4455;\n",
              "      fill: #D2E3FC;\n",
              "    }\n",
              "\n",
              "    [theme=dark] .colab-df-convert:hover {\n",
              "      background-color: #434B5C;\n",
              "      box-shadow: 0px 1px 3px 1px rgba(0, 0, 0, 0.15);\n",
              "      filter: drop-shadow(0px 1px 2px rgba(0, 0, 0, 0.3));\n",
              "      fill: #FFFFFF;\n",
              "    }\n",
              "  </style>\n",
              "\n",
              "      <script>\n",
              "        const buttonEl =\n",
              "          document.querySelector('#df-53ce09b0-daef-4459-a43c-ea298f25e0b0 button.colab-df-convert');\n",
              "        buttonEl.style.display =\n",
              "          google.colab.kernel.accessAllowed ? 'block' : 'none';\n",
              "\n",
              "        async function convertToInteractive(key) {\n",
              "          const element = document.querySelector('#df-53ce09b0-daef-4459-a43c-ea298f25e0b0');\n",
              "          const dataTable =\n",
              "            await google.colab.kernel.invokeFunction('convertToInteractive',\n",
              "                                                     [key], {});\n",
              "          if (!dataTable) return;\n",
              "\n",
              "          const docLinkHtml = 'Like what you see? Visit the ' +\n",
              "            '<a target=\"_blank\" href=https://colab.research.google.com/notebooks/data_table.ipynb>data table notebook</a>'\n",
              "            + ' to learn more about interactive tables.';\n",
              "          element.innerHTML = '';\n",
              "          dataTable['output_type'] = 'display_data';\n",
              "          await google.colab.output.renderOutput(dataTable, element);\n",
              "          const docLink = document.createElement('div');\n",
              "          docLink.innerHTML = docLinkHtml;\n",
              "          element.appendChild(docLink);\n",
              "        }\n",
              "      </script>\n",
              "    </div>\n",
              "  </div>\n",
              "  "
            ]
          },
          "metadata": {},
          "execution_count": 242
        }
      ]
    },
    {
      "cell_type": "markdown",
      "source": [
        "Рассмотрим как выглядит среднее значение средней зп в зависимости опыта работы"
      ],
      "metadata": {
        "id": "brDLV6vgby3d"
      }
    },
    {
      "cell_type": "code",
      "source": [
        "df3.groupby('experience')[['Средняя_зп']].mean()"
      ],
      "metadata": {
        "colab": {
          "base_uri": "https://localhost:8080/",
          "height": 206
        },
        "id": "_IdJPPMPbcIB",
        "outputId": "13801621-d88b-4d5d-9b94-52894a3c5e23"
      },
      "execution_count": null,
      "outputs": [
        {
          "output_type": "execute_result",
          "data": {
            "text/plain": [
              "                       Средняя_зп\n",
              "experience                       \n",
              "Более_6_лет         181206.250000\n",
              "Нет_опыта            57818.578378\n",
              "От_1_года_до_3_лет  108872.066920\n",
              "От_3_до_6_лет       143380.842564"
            ],
            "text/html": [
              "\n",
              "  <div id=\"df-e6ed60fb-ffc4-42da-9ee1-fafb4cb37174\">\n",
              "    <div class=\"colab-df-container\">\n",
              "      <div>\n",
              "<style scoped>\n",
              "    .dataframe tbody tr th:only-of-type {\n",
              "        vertical-align: middle;\n",
              "    }\n",
              "\n",
              "    .dataframe tbody tr th {\n",
              "        vertical-align: top;\n",
              "    }\n",
              "\n",
              "    .dataframe thead th {\n",
              "        text-align: right;\n",
              "    }\n",
              "</style>\n",
              "<table border=\"1\" class=\"dataframe\">\n",
              "  <thead>\n",
              "    <tr style=\"text-align: right;\">\n",
              "      <th></th>\n",
              "      <th>Средняя_зп</th>\n",
              "    </tr>\n",
              "    <tr>\n",
              "      <th>experience</th>\n",
              "      <th></th>\n",
              "    </tr>\n",
              "  </thead>\n",
              "  <tbody>\n",
              "    <tr>\n",
              "      <th>Более_6_лет</th>\n",
              "      <td>181206.250000</td>\n",
              "    </tr>\n",
              "    <tr>\n",
              "      <th>Нет_опыта</th>\n",
              "      <td>57818.578378</td>\n",
              "    </tr>\n",
              "    <tr>\n",
              "      <th>От_1_года_до_3_лет</th>\n",
              "      <td>108872.066920</td>\n",
              "    </tr>\n",
              "    <tr>\n",
              "      <th>От_3_до_6_лет</th>\n",
              "      <td>143380.842564</td>\n",
              "    </tr>\n",
              "  </tbody>\n",
              "</table>\n",
              "</div>\n",
              "      <button class=\"colab-df-convert\" onclick=\"convertToInteractive('df-e6ed60fb-ffc4-42da-9ee1-fafb4cb37174')\"\n",
              "              title=\"Convert this dataframe to an interactive table.\"\n",
              "              style=\"display:none;\">\n",
              "        \n",
              "  <svg xmlns=\"http://www.w3.org/2000/svg\" height=\"24px\"viewBox=\"0 0 24 24\"\n",
              "       width=\"24px\">\n",
              "    <path d=\"M0 0h24v24H0V0z\" fill=\"none\"/>\n",
              "    <path d=\"M18.56 5.44l.94 2.06.94-2.06 2.06-.94-2.06-.94-.94-2.06-.94 2.06-2.06.94zm-11 1L8.5 8.5l.94-2.06 2.06-.94-2.06-.94L8.5 2.5l-.94 2.06-2.06.94zm10 10l.94 2.06.94-2.06 2.06-.94-2.06-.94-.94-2.06-.94 2.06-2.06.94z\"/><path d=\"M17.41 7.96l-1.37-1.37c-.4-.4-.92-.59-1.43-.59-.52 0-1.04.2-1.43.59L10.3 9.45l-7.72 7.72c-.78.78-.78 2.05 0 2.83L4 21.41c.39.39.9.59 1.41.59.51 0 1.02-.2 1.41-.59l7.78-7.78 2.81-2.81c.8-.78.8-2.07 0-2.86zM5.41 20L4 18.59l7.72-7.72 1.47 1.35L5.41 20z\"/>\n",
              "  </svg>\n",
              "      </button>\n",
              "      \n",
              "  <style>\n",
              "    .colab-df-container {\n",
              "      display:flex;\n",
              "      flex-wrap:wrap;\n",
              "      gap: 12px;\n",
              "    }\n",
              "\n",
              "    .colab-df-convert {\n",
              "      background-color: #E8F0FE;\n",
              "      border: none;\n",
              "      border-radius: 50%;\n",
              "      cursor: pointer;\n",
              "      display: none;\n",
              "      fill: #1967D2;\n",
              "      height: 32px;\n",
              "      padding: 0 0 0 0;\n",
              "      width: 32px;\n",
              "    }\n",
              "\n",
              "    .colab-df-convert:hover {\n",
              "      background-color: #E2EBFA;\n",
              "      box-shadow: 0px 1px 2px rgba(60, 64, 67, 0.3), 0px 1px 3px 1px rgba(60, 64, 67, 0.15);\n",
              "      fill: #174EA6;\n",
              "    }\n",
              "\n",
              "    [theme=dark] .colab-df-convert {\n",
              "      background-color: #3B4455;\n",
              "      fill: #D2E3FC;\n",
              "    }\n",
              "\n",
              "    [theme=dark] .colab-df-convert:hover {\n",
              "      background-color: #434B5C;\n",
              "      box-shadow: 0px 1px 3px 1px rgba(0, 0, 0, 0.15);\n",
              "      filter: drop-shadow(0px 1px 2px rgba(0, 0, 0, 0.3));\n",
              "      fill: #FFFFFF;\n",
              "    }\n",
              "  </style>\n",
              "\n",
              "      <script>\n",
              "        const buttonEl =\n",
              "          document.querySelector('#df-e6ed60fb-ffc4-42da-9ee1-fafb4cb37174 button.colab-df-convert');\n",
              "        buttonEl.style.display =\n",
              "          google.colab.kernel.accessAllowed ? 'block' : 'none';\n",
              "\n",
              "        async function convertToInteractive(key) {\n",
              "          const element = document.querySelector('#df-e6ed60fb-ffc4-42da-9ee1-fafb4cb37174');\n",
              "          const dataTable =\n",
              "            await google.colab.kernel.invokeFunction('convertToInteractive',\n",
              "                                                     [key], {});\n",
              "          if (!dataTable) return;\n",
              "\n",
              "          const docLinkHtml = 'Like what you see? Visit the ' +\n",
              "            '<a target=\"_blank\" href=https://colab.research.google.com/notebooks/data_table.ipynb>data table notebook</a>'\n",
              "            + ' to learn more about interactive tables.';\n",
              "          element.innerHTML = '';\n",
              "          dataTable['output_type'] = 'display_data';\n",
              "          await google.colab.output.renderOutput(dataTable, element);\n",
              "          const docLink = document.createElement('div');\n",
              "          docLink.innerHTML = docLinkHtml;\n",
              "          element.appendChild(docLink);\n",
              "        }\n",
              "      </script>\n",
              "    </div>\n",
              "  </div>\n",
              "  "
            ]
          },
          "metadata": {},
          "execution_count": 243
        }
      ]
    },
    {
      "cell_type": "markdown",
      "source": [
        "Разбив на 4 группы, получаем в каждой категории разное количество вакансий с данным опытом работы. Количество достаточно маленькое, поэтому можем применить непараметрический критерий. Исходная совокупность Гауссовской не подчиняется, выборка небольшая."
      ],
      "metadata": {
        "id": "Xf1kZTUxiiif"
      }
    },
    {
      "cell_type": "markdown",
      "source": [
        "##Количество наблюдений"
      ],
      "metadata": {
        "id": "EP4dYIvJ1BTK"
      }
    },
    {
      "cell_type": "code",
      "source": [
        "df3['experience'].value_counts()"
      ],
      "metadata": {
        "colab": {
          "base_uri": "https://localhost:8080/"
        },
        "id": "htaoYiVLx8LQ",
        "outputId": "ab12d5f7-9843-4552-9066-86bb3fc61313"
      },
      "execution_count": null,
      "outputs": [
        {
          "output_type": "execute_result",
          "data": {
            "text/plain": [
              "От_1_года_до_3_лет    1315\n",
              "От_3_до_6_лет          975\n",
              "Нет_опыта              185\n",
              "Более_6_лет             80\n",
              "Name: experience, dtype: int64"
            ]
          },
          "metadata": {},
          "execution_count": 244
        }
      ]
    },
    {
      "cell_type": "code",
      "source": [
        "df3.groupby('experience')[['Средняя_зп']].count()"
      ],
      "metadata": {
        "colab": {
          "base_uri": "https://localhost:8080/",
          "height": 206
        },
        "id": "XAjo5mRNiY89",
        "outputId": "2f733981-768b-40bb-985f-34d6d8dca7ab"
      },
      "execution_count": null,
      "outputs": [
        {
          "output_type": "execute_result",
          "data": {
            "text/plain": [
              "                    Средняя_зп\n",
              "experience                    \n",
              "Более_6_лет                 80\n",
              "Нет_опыта                  185\n",
              "От_1_года_до_3_лет        1315\n",
              "От_3_до_6_лет              975"
            ],
            "text/html": [
              "\n",
              "  <div id=\"df-3e81dafc-7b85-411e-865c-d09ad5f82313\">\n",
              "    <div class=\"colab-df-container\">\n",
              "      <div>\n",
              "<style scoped>\n",
              "    .dataframe tbody tr th:only-of-type {\n",
              "        vertical-align: middle;\n",
              "    }\n",
              "\n",
              "    .dataframe tbody tr th {\n",
              "        vertical-align: top;\n",
              "    }\n",
              "\n",
              "    .dataframe thead th {\n",
              "        text-align: right;\n",
              "    }\n",
              "</style>\n",
              "<table border=\"1\" class=\"dataframe\">\n",
              "  <thead>\n",
              "    <tr style=\"text-align: right;\">\n",
              "      <th></th>\n",
              "      <th>Средняя_зп</th>\n",
              "    </tr>\n",
              "    <tr>\n",
              "      <th>experience</th>\n",
              "      <th></th>\n",
              "    </tr>\n",
              "  </thead>\n",
              "  <tbody>\n",
              "    <tr>\n",
              "      <th>Более_6_лет</th>\n",
              "      <td>80</td>\n",
              "    </tr>\n",
              "    <tr>\n",
              "      <th>Нет_опыта</th>\n",
              "      <td>185</td>\n",
              "    </tr>\n",
              "    <tr>\n",
              "      <th>От_1_года_до_3_лет</th>\n",
              "      <td>1315</td>\n",
              "    </tr>\n",
              "    <tr>\n",
              "      <th>От_3_до_6_лет</th>\n",
              "      <td>975</td>\n",
              "    </tr>\n",
              "  </tbody>\n",
              "</table>\n",
              "</div>\n",
              "      <button class=\"colab-df-convert\" onclick=\"convertToInteractive('df-3e81dafc-7b85-411e-865c-d09ad5f82313')\"\n",
              "              title=\"Convert this dataframe to an interactive table.\"\n",
              "              style=\"display:none;\">\n",
              "        \n",
              "  <svg xmlns=\"http://www.w3.org/2000/svg\" height=\"24px\"viewBox=\"0 0 24 24\"\n",
              "       width=\"24px\">\n",
              "    <path d=\"M0 0h24v24H0V0z\" fill=\"none\"/>\n",
              "    <path d=\"M18.56 5.44l.94 2.06.94-2.06 2.06-.94-2.06-.94-.94-2.06-.94 2.06-2.06.94zm-11 1L8.5 8.5l.94-2.06 2.06-.94-2.06-.94L8.5 2.5l-.94 2.06-2.06.94zm10 10l.94 2.06.94-2.06 2.06-.94-2.06-.94-.94-2.06-.94 2.06-2.06.94z\"/><path d=\"M17.41 7.96l-1.37-1.37c-.4-.4-.92-.59-1.43-.59-.52 0-1.04.2-1.43.59L10.3 9.45l-7.72 7.72c-.78.78-.78 2.05 0 2.83L4 21.41c.39.39.9.59 1.41.59.51 0 1.02-.2 1.41-.59l7.78-7.78 2.81-2.81c.8-.78.8-2.07 0-2.86zM5.41 20L4 18.59l7.72-7.72 1.47 1.35L5.41 20z\"/>\n",
              "  </svg>\n",
              "      </button>\n",
              "      \n",
              "  <style>\n",
              "    .colab-df-container {\n",
              "      display:flex;\n",
              "      flex-wrap:wrap;\n",
              "      gap: 12px;\n",
              "    }\n",
              "\n",
              "    .colab-df-convert {\n",
              "      background-color: #E8F0FE;\n",
              "      border: none;\n",
              "      border-radius: 50%;\n",
              "      cursor: pointer;\n",
              "      display: none;\n",
              "      fill: #1967D2;\n",
              "      height: 32px;\n",
              "      padding: 0 0 0 0;\n",
              "      width: 32px;\n",
              "    }\n",
              "\n",
              "    .colab-df-convert:hover {\n",
              "      background-color: #E2EBFA;\n",
              "      box-shadow: 0px 1px 2px rgba(60, 64, 67, 0.3), 0px 1px 3px 1px rgba(60, 64, 67, 0.15);\n",
              "      fill: #174EA6;\n",
              "    }\n",
              "\n",
              "    [theme=dark] .colab-df-convert {\n",
              "      background-color: #3B4455;\n",
              "      fill: #D2E3FC;\n",
              "    }\n",
              "\n",
              "    [theme=dark] .colab-df-convert:hover {\n",
              "      background-color: #434B5C;\n",
              "      box-shadow: 0px 1px 3px 1px rgba(0, 0, 0, 0.15);\n",
              "      filter: drop-shadow(0px 1px 2px rgba(0, 0, 0, 0.3));\n",
              "      fill: #FFFFFF;\n",
              "    }\n",
              "  </style>\n",
              "\n",
              "      <script>\n",
              "        const buttonEl =\n",
              "          document.querySelector('#df-3e81dafc-7b85-411e-865c-d09ad5f82313 button.colab-df-convert');\n",
              "        buttonEl.style.display =\n",
              "          google.colab.kernel.accessAllowed ? 'block' : 'none';\n",
              "\n",
              "        async function convertToInteractive(key) {\n",
              "          const element = document.querySelector('#df-3e81dafc-7b85-411e-865c-d09ad5f82313');\n",
              "          const dataTable =\n",
              "            await google.colab.kernel.invokeFunction('convertToInteractive',\n",
              "                                                     [key], {});\n",
              "          if (!dataTable) return;\n",
              "\n",
              "          const docLinkHtml = 'Like what you see? Visit the ' +\n",
              "            '<a target=\"_blank\" href=https://colab.research.google.com/notebooks/data_table.ipynb>data table notebook</a>'\n",
              "            + ' to learn more about interactive tables.';\n",
              "          element.innerHTML = '';\n",
              "          dataTable['output_type'] = 'display_data';\n",
              "          await google.colab.output.renderOutput(dataTable, element);\n",
              "          const docLink = document.createElement('div');\n",
              "          docLink.innerHTML = docLinkHtml;\n",
              "          element.appendChild(docLink);\n",
              "        }\n",
              "      </script>\n",
              "    </div>\n",
              "  </div>\n",
              "  "
            ]
          },
          "metadata": {},
          "execution_count": 245
        }
      ]
    },
    {
      "cell_type": "markdown",
      "source": [
        "Количество соискателей с данным уровнем опыта."
      ],
      "metadata": {
        "id": "FU159oahwy6p"
      }
    },
    {
      "cell_type": "markdown",
      "source": [
        "##Гистограмма зависимости Средней заработной платы от опыта работы"
      ],
      "metadata": {
        "id": "EatC8Zkj0yLu"
      }
    },
    {
      "cell_type": "code",
      "source": [
        "df3.plot('experience','Средняя_зп',kind=\"scatter\")"
      ],
      "metadata": {
        "colab": {
          "base_uri": "https://localhost:8080/",
          "height": 298
        },
        "id": "CXnfC1s9vYlS",
        "outputId": "48982cb1-df77-4711-da07-7713f222cedb"
      },
      "execution_count": null,
      "outputs": [
        {
          "output_type": "execute_result",
          "data": {
            "text/plain": [
              "<matplotlib.axes._subplots.AxesSubplot at 0x7fa240de9890>"
            ]
          },
          "metadata": {},
          "execution_count": 246
        },
        {
          "output_type": "display_data",
          "data": {
            "text/plain": [
              "<Figure size 432x288 with 1 Axes>"
            ],
            "image/png": "[encoded data removed]"
          },
          "metadata": {
            "needs_background": "light"
          }
        }
      ]
    },
    {
      "cell_type": "code",
      "source": [
        "f, ax = plt.subplots(figsize=(6, 6))\n",
        "fig = sns.boxplot(x='experience', y='Средняя_зп', data=df3)"
      ],
      "metadata": {
        "colab": {
          "base_uri": "https://localhost:8080/",
          "height": 389
        },
        "id": "nCncaHwdczcH",
        "outputId": "9846eaa1-314c-4a10-bedb-791eaaf86910"
      },
      "execution_count": null,
      "outputs": [
        {
          "output_type": "display_data",
          "data": {
            "text/plain": [
              "<Figure size 432x432 with 1 Axes>"
            ],
            "image/png": "[encoded data removed]"
          },
          "metadata": {
            "needs_background": "light"
          }
        }
      ]
    },
    {
      "cell_type": "markdown",
      "source": [
        "Из графика видим, что средняя зарплата зависит от опыта работы. Проверим это с помощью статистических метоов."
      ],
      "metadata": {
        "id": "d6NVMbgvc6Hf"
      }
    },
    {
      "cell_type": "markdown",
      "source": [
        "##Проверка нормальности по критерию Шапиро-Уилка"
      ],
      "metadata": {
        "id": "q3DTPb8sdGIh"
      }
    },
    {
      "cell_type": "markdown",
      "source": [
        "Разбиваем на наборы данных по опыту работы и проверяем на нормальность распределения."
      ],
      "metadata": {
        "id": "ulL0pXUXf1E6"
      }
    },
    {
      "cell_type": "code",
      "source": [
        "d0 = df3[df3['experience']==\"Нет_опыта\"]\n",
        "d1 = df3[df3['experience']==\"От_1_года_до_3_лет\"]\n",
        "d2 = df3[df3['experience']==\"От_3_до_6_лет\"]\n",
        "d3 = df3[df3['experience']==\"Более_6_лет\"]\n",
        "\n",
        "print(stats.shapiro(d0['Средняя_зп']))\n",
        "print(stats.shapiro(d1['Средняя_зп']))\n",
        "print(stats.shapiro(d2['Средняя_зп']))\n",
        "print(stats.shapiro(d3['Средняя_зп']))\n"
      ],
      "metadata": {
        "colab": {
          "base_uri": "https://localhost:8080/"
        },
        "id": "i_TWa9wzdA-u",
        "outputId": "f0fd1b9e-1937-45d2-b723-3855de4340ae"
      },
      "execution_count": null,
      "outputs": [
        {
          "output_type": "stream",
          "name": "stdout",
          "text": [
            "ShapiroResult(statistic=0.8354174494743347, pvalue=3.477063743265868e-13)\n",
            "ShapiroResult(statistic=0.9636837840080261, pvalue=1.2844139605645743e-17)\n",
            "ShapiroResult(statistic=0.9877930879592896, pvalue=2.9840194315511326e-07)\n",
            "ShapiroResult(statistic=0.9450513124465942, pvalue=0.0018145530484616756)\n"
          ]
        }
      ]
    },
    {
      "cell_type": "markdown",
      "source": [
        "Данные количественные, но не нормальные, т.к. p-value < 0.05."
      ],
      "metadata": {
        "id": "u35QTdUFeGe2"
      }
    },
    {
      "cell_type": "markdown",
      "source": [
        "По критерию попадаем в непараметрические совокупности, групп 4, они независимые, поэтому берем критерий Краскала-Уоллеса. Процедура сравнивает средние значения.Проверим, является ли уровень опыта статистически важным."
      ],
      "metadata": {
        "id": "FzgOfxvYfvN6"
      }
    },
    {
      "cell_type": "code",
      "source": [
        "kwd1=np.array(df3[df3['experience']==\"Нет_опыта\"]['Средняя_зп'])\n",
        "kwd2=np.array(df3[df3['experience']==\"От_1_года_до_3_лет\"]['Средняя_зп'])\n",
        "kwd3=np.array(df3[df3['experience']==\"От_3_до_6_лет\"]['Средняя_зп'])\n",
        "kwd4=np.array(df3[df3['experience']==\"Более_6_лет\"]['Средняя_зп'])\n",
        "stats.mstats.kruskalwallis(kwd1,kwd2,kwd3,kwd4)"
      ],
      "metadata": {
        "colab": {
          "base_uri": "https://localhost:8080/"
        },
        "id": "5ca1ty0IheY9",
        "outputId": "0149bf0c-38cb-452a-a554-18ba32e12451"
      },
      "execution_count": null,
      "outputs": [
        {
          "output_type": "execute_result",
          "data": {
            "text/plain": [
              "KruskalResult(statistic=588.2827282365665, pvalue=3.495410143833619e-127)"
            ]
          },
          "metadata": {},
          "execution_count": 249
        }
      ]
    },
    {
      "cell_type": "markdown",
      "source": [
        "##Вывод"
      ],
      "metadata": {
        "id": "PCj1VAuz1am6"
      }
    },
    {
      "cell_type": "markdown",
      "source": [
        "**Так как pvalue=3.495410143833619e-127 < 0.05, поэтому на данном уровне значимости нулевая гипотеза о равенстве средних отклоняется. Данные отличие является статистически важным и данный фактор будет влиять на наблюдение.**\n",
        "\n",
        "---\n",
        "\n"
      ],
      "metadata": {
        "id": "iBl759YxnZqY"
      }
    },
    {
      "cell_type": "markdown",
      "source": [
        "#Нулевая гипотеза №2 Уровень заработной платы не зависит от графика работы(уровня занятости). (ВЛИЯНИЕ КАТЕГОРИАЛЬНЫХ ФАКТОРОВ. ONE HOT ENCODING. Dummy variables)"
      ],
      "metadata": {
        "id": "LlecL80TmdVW"
      }
    },
    {
      "cell_type": "markdown",
      "source": [
        "##Гистограмма зависимости Средней заработной платы от опыта работы"
      ],
      "metadata": {
        "id": "Waeh4jL4FUB_"
      }
    },
    {
      "cell_type": "code",
      "source": [
        "f, ax = plt.subplots(figsize=(10, 6))\n",
        "fig = sns.boxplot(x='schedule', y='Средняя_зп', data=df3)"
      ],
      "metadata": {
        "colab": {
          "base_uri": "https://localhost:8080/",
          "height": 389
        },
        "id": "eJSatR_WFXcA",
        "outputId": "75f8c612-17ff-4bdd-aa00-0b4f774947e8"
      },
      "execution_count": null,
      "outputs": [
        {
          "output_type": "display_data",
          "data": {
            "text/plain": [
              "<Figure size 720x432 with 1 Axes>"
            ],
            "image/png": "[encoded data removed]"
          },
          "metadata": {
            "needs_background": "light"
          }
        }
      ]
    },
    {
      "cell_type": "markdown",
      "source": [
        "##Описательные статистики"
      ],
      "metadata": {
        "id": "2X8Ziic71xsk"
      }
    },
    {
      "cell_type": "code",
      "source": [
        "df3.drop(['schedule'],axis=1).describe()"
      ],
      "metadata": {
        "colab": {
          "base_uri": "https://localhost:8080/",
          "height": 300
        },
        "outputId": "7a8547d4-3319-4b6c-f437-1fac4e6960a3",
        "id": "VyRtpEOL1xsl"
      },
      "execution_count": null,
      "outputs": [
        {
          "output_type": "execute_result",
          "data": {
            "text/plain": [
              "          Средняя_зп\n",
              "count    2555.000000\n",
              "mean   120609.012329\n",
              "std     53933.904644\n",
              "min       130.000000\n",
              "25%     80000.000000\n",
              "50%    120000.000000\n",
              "75%    150000.000000\n",
              "max    350000.000000"
            ],
            "text/html": [
              "\n",
              "  <div id=\"df-d6b1e406-958d-43b4-a673-f20e01e99c1d\">\n",
              "    <div class=\"colab-df-container\">\n",
              "      <div>\n",
              "<style scoped>\n",
              "    .dataframe tbody tr th:only-of-type {\n",
              "        vertical-align: middle;\n",
              "    }\n",
              "\n",
              "    .dataframe tbody tr th {\n",
              "        vertical-align: top;\n",
              "    }\n",
              "\n",
              "    .dataframe thead th {\n",
              "        text-align: right;\n",
              "    }\n",
              "</style>\n",
              "<table border=\"1\" class=\"dataframe\">\n",
              "  <thead>\n",
              "    <tr style=\"text-align: right;\">\n",
              "      <th></th>\n",
              "      <th>Средняя_зп</th>\n",
              "    </tr>\n",
              "  </thead>\n",
              "  <tbody>\n",
              "    <tr>\n",
              "      <th>count</th>\n",
              "      <td>2555.000000</td>\n",
              "    </tr>\n",
              "    <tr>\n",
              "      <th>mean</th>\n",
              "      <td>120609.012329</td>\n",
              "    </tr>\n",
              "    <tr>\n",
              "      <th>std</th>\n",
              "      <td>53933.904644</td>\n",
              "    </tr>\n",
              "    <tr>\n",
              "      <th>min</th>\n",
              "      <td>130.000000</td>\n",
              "    </tr>\n",
              "    <tr>\n",
              "      <th>25%</th>\n",
              "      <td>80000.000000</td>\n",
              "    </tr>\n",
              "    <tr>\n",
              "      <th>50%</th>\n",
              "      <td>120000.000000</td>\n",
              "    </tr>\n",
              "    <tr>\n",
              "      <th>75%</th>\n",
              "      <td>150000.000000</td>\n",
              "    </tr>\n",
              "    <tr>\n",
              "      <th>max</th>\n",
              "      <td>350000.000000</td>\n",
              "    </tr>\n",
              "  </tbody>\n",
              "</table>\n",
              "</div>\n",
              "      <button class=\"colab-df-convert\" onclick=\"convertToInteractive('df-d6b1e406-958d-43b4-a673-f20e01e99c1d')\"\n",
              "              title=\"Convert this dataframe to an interactive table.\"\n",
              "              style=\"display:none;\">\n",
              "        \n",
              "  <svg xmlns=\"http://www.w3.org/2000/svg\" height=\"24px\"viewBox=\"0 0 24 24\"\n",
              "       width=\"24px\">\n",
              "    <path d=\"M0 0h24v24H0V0z\" fill=\"none\"/>\n",
              "    <path d=\"M18.56 5.44l.94 2.06.94-2.06 2.06-.94-2.06-.94-.94-2.06-.94 2.06-2.06.94zm-11 1L8.5 8.5l.94-2.06 2.06-.94-2.06-.94L8.5 2.5l-.94 2.06-2.06.94zm10 10l.94 2.06.94-2.06 2.06-.94-2.06-.94-.94-2.06-.94 2.06-2.06.94z\"/><path d=\"M17.41 7.96l-1.37-1.37c-.4-.4-.92-.59-1.43-.59-.52 0-1.04.2-1.43.59L10.3 9.45l-7.72 7.72c-.78.78-.78 2.05 0 2.83L4 21.41c.39.39.9.59 1.41.59.51 0 1.02-.2 1.41-.59l7.78-7.78 2.81-2.81c.8-.78.8-2.07 0-2.86zM5.41 20L4 18.59l7.72-7.72 1.47 1.35L5.41 20z\"/>\n",
              "  </svg>\n",
              "      </button>\n",
              "      \n",
              "  <style>\n",
              "    .colab-df-container {\n",
              "      display:flex;\n",
              "      flex-wrap:wrap;\n",
              "      gap: 12px;\n",
              "    }\n",
              "\n",
              "    .colab-df-convert {\n",
              "      background-color: #E8F0FE;\n",
              "      border: none;\n",
              "      border-radius: 50%;\n",
              "      cursor: pointer;\n",
              "      display: none;\n",
              "      fill: #1967D2;\n",
              "      height: 32px;\n",
              "      padding: 0 0 0 0;\n",
              "      width: 32px;\n",
              "    }\n",
              "\n",
              "    .colab-df-convert:hover {\n",
              "      background-color: #E2EBFA;\n",
              "      box-shadow: 0px 1px 2px rgba(60, 64, 67, 0.3), 0px 1px 3px 1px rgba(60, 64, 67, 0.15);\n",
              "      fill: #174EA6;\n",
              "    }\n",
              "\n",
              "    [theme=dark] .colab-df-convert {\n",
              "      background-color: #3B4455;\n",
              "      fill: #D2E3FC;\n",
              "    }\n",
              "\n",
              "    [theme=dark] .colab-df-convert:hover {\n",
              "      background-color: #434B5C;\n",
              "      box-shadow: 0px 1px 3px 1px rgba(0, 0, 0, 0.15);\n",
              "      filter: drop-shadow(0px 1px 2px rgba(0, 0, 0, 0.3));\n",
              "      fill: #FFFFFF;\n",
              "    }\n",
              "  </style>\n",
              "\n",
              "      <script>\n",
              "        const buttonEl =\n",
              "          document.querySelector('#df-d6b1e406-958d-43b4-a673-f20e01e99c1d button.colab-df-convert');\n",
              "        buttonEl.style.display =\n",
              "          google.colab.kernel.accessAllowed ? 'block' : 'none';\n",
              "\n",
              "        async function convertToInteractive(key) {\n",
              "          const element = document.querySelector('#df-d6b1e406-958d-43b4-a673-f20e01e99c1d');\n",
              "          const dataTable =\n",
              "            await google.colab.kernel.invokeFunction('convertToInteractive',\n",
              "                                                     [key], {});\n",
              "          if (!dataTable) return;\n",
              "\n",
              "          const docLinkHtml = 'Like what you see? Visit the ' +\n",
              "            '<a target=\"_blank\" href=https://colab.research.google.com/notebooks/data_table.ipynb>data table notebook</a>'\n",
              "            + ' to learn more about interactive tables.';\n",
              "          element.innerHTML = '';\n",
              "          dataTable['output_type'] = 'display_data';\n",
              "          await google.colab.output.renderOutput(dataTable, element);\n",
              "          const docLink = document.createElement('div');\n",
              "          docLink.innerHTML = docLinkHtml;\n",
              "          element.appendChild(docLink);\n",
              "        }\n",
              "      </script>\n",
              "    </div>\n",
              "  </div>\n",
              "  "
            ]
          },
          "metadata": {},
          "execution_count": 250
        }
      ]
    },
    {
      "cell_type": "markdown",
      "source": [
        "Рассмотрим как выглядит среднее значение средней зп в зависимости графика работы"
      ],
      "metadata": {
        "id": "T4aAwjGM1xsl"
      }
    },
    {
      "cell_type": "code",
      "source": [
        "df3.groupby('schedule')[['Средняя_зп']].mean()"
      ],
      "metadata": {
        "colab": {
          "base_uri": "https://localhost:8080/",
          "height": 237
        },
        "outputId": "ba49a67e-1f18-4018-9bc7-900e708521c0",
        "id": "H34pZhU01xsm"
      },
      "execution_count": null,
      "outputs": [
        {
          "output_type": "execute_result",
          "data": {
            "text/plain": [
              "                     Средняя_зп\n",
              "schedule                       \n",
              "Вахтовый_метод    175000.000000\n",
              "Гибкий_график     128210.144928\n",
              "Полный_день       114604.496531\n",
              "Сменный_график     73750.000000\n",
              "Удаленная_работа  138716.033058"
            ],
            "text/html": [
              "\n",
              "  <div id=\"df-d3b05084-aafb-43e5-9a13-a92e77f8cc1a\">\n",
              "    <div class=\"colab-df-container\">\n",
              "      <div>\n",
              "<style scoped>\n",
              "    .dataframe tbody tr th:only-of-type {\n",
              "        vertical-align: middle;\n",
              "    }\n",
              "\n",
              "    .dataframe tbody tr th {\n",
              "        vertical-align: top;\n",
              "    }\n",
              "\n",
              "    .dataframe thead th {\n",
              "        text-align: right;\n",
              "    }\n",
              "</style>\n",
              "<table border=\"1\" class=\"dataframe\">\n",
              "  <thead>\n",
              "    <tr style=\"text-align: right;\">\n",
              "      <th></th>\n",
              "      <th>Средняя_зп</th>\n",
              "    </tr>\n",
              "    <tr>\n",
              "      <th>schedule</th>\n",
              "      <th></th>\n",
              "    </tr>\n",
              "  </thead>\n",
              "  <tbody>\n",
              "    <tr>\n",
              "      <th>Вахтовый_метод</th>\n",
              "      <td>175000.000000</td>\n",
              "    </tr>\n",
              "    <tr>\n",
              "      <th>Гибкий_график</th>\n",
              "      <td>128210.144928</td>\n",
              "    </tr>\n",
              "    <tr>\n",
              "      <th>Полный_день</th>\n",
              "      <td>114604.496531</td>\n",
              "    </tr>\n",
              "    <tr>\n",
              "      <th>Сменный_график</th>\n",
              "      <td>73750.000000</td>\n",
              "    </tr>\n",
              "    <tr>\n",
              "      <th>Удаленная_работа</th>\n",
              "      <td>138716.033058</td>\n",
              "    </tr>\n",
              "  </tbody>\n",
              "</table>\n",
              "</div>\n",
              "      <button class=\"colab-df-convert\" onclick=\"convertToInteractive('df-d3b05084-aafb-43e5-9a13-a92e77f8cc1a')\"\n",
              "              title=\"Convert this dataframe to an interactive table.\"\n",
              "              style=\"display:none;\">\n",
              "        \n",
              "  <svg xmlns=\"http://www.w3.org/2000/svg\" height=\"24px\"viewBox=\"0 0 24 24\"\n",
              "       width=\"24px\">\n",
              "    <path d=\"M0 0h24v24H0V0z\" fill=\"none\"/>\n",
              "    <path d=\"M18.56 5.44l.94 2.06.94-2.06 2.06-.94-2.06-.94-.94-2.06-.94 2.06-2.06.94zm-11 1L8.5 8.5l.94-2.06 2.06-.94-2.06-.94L8.5 2.5l-.94 2.06-2.06.94zm10 10l.94 2.06.94-2.06 2.06-.94-2.06-.94-.94-2.06-.94 2.06-2.06.94z\"/><path d=\"M17.41 7.96l-1.37-1.37c-.4-.4-.92-.59-1.43-.59-.52 0-1.04.2-1.43.59L10.3 9.45l-7.72 7.72c-.78.78-.78 2.05 0 2.83L4 21.41c.39.39.9.59 1.41.59.51 0 1.02-.2 1.41-.59l7.78-7.78 2.81-2.81c.8-.78.8-2.07 0-2.86zM5.41 20L4 18.59l7.72-7.72 1.47 1.35L5.41 20z\"/>\n",
              "  </svg>\n",
              "      </button>\n",
              "      \n",
              "  <style>\n",
              "    .colab-df-container {\n",
              "      display:flex;\n",
              "      flex-wrap:wrap;\n",
              "      gap: 12px;\n",
              "    }\n",
              "\n",
              "    .colab-df-convert {\n",
              "      background-color: #E8F0FE;\n",
              "      border: none;\n",
              "      border-radius: 50%;\n",
              "      cursor: pointer;\n",
              "      display: none;\n",
              "      fill: #1967D2;\n",
              "      height: 32px;\n",
              "      padding: 0 0 0 0;\n",
              "      width: 32px;\n",
              "    }\n",
              "\n",
              "    .colab-df-convert:hover {\n",
              "      background-color: #E2EBFA;\n",
              "      box-shadow: 0px 1px 2px rgba(60, 64, 67, 0.3), 0px 1px 3px 1px rgba(60, 64, 67, 0.15);\n",
              "      fill: #174EA6;\n",
              "    }\n",
              "\n",
              "    [theme=dark] .colab-df-convert {\n",
              "      background-color: #3B4455;\n",
              "      fill: #D2E3FC;\n",
              "    }\n",
              "\n",
              "    [theme=dark] .colab-df-convert:hover {\n",
              "      background-color: #434B5C;\n",
              "      box-shadow: 0px 1px 3px 1px rgba(0, 0, 0, 0.15);\n",
              "      filter: drop-shadow(0px 1px 2px rgba(0, 0, 0, 0.3));\n",
              "      fill: #FFFFFF;\n",
              "    }\n",
              "  </style>\n",
              "\n",
              "      <script>\n",
              "        const buttonEl =\n",
              "          document.querySelector('#df-d3b05084-aafb-43e5-9a13-a92e77f8cc1a button.colab-df-convert');\n",
              "        buttonEl.style.display =\n",
              "          google.colab.kernel.accessAllowed ? 'block' : 'none';\n",
              "\n",
              "        async function convertToInteractive(key) {\n",
              "          const element = document.querySelector('#df-d3b05084-aafb-43e5-9a13-a92e77f8cc1a');\n",
              "          const dataTable =\n",
              "            await google.colab.kernel.invokeFunction('convertToInteractive',\n",
              "                                                     [key], {});\n",
              "          if (!dataTable) return;\n",
              "\n",
              "          const docLinkHtml = 'Like what you see? Visit the ' +\n",
              "            '<a target=\"_blank\" href=https://colab.research.google.com/notebooks/data_table.ipynb>data table notebook</a>'\n",
              "            + ' to learn more about interactive tables.';\n",
              "          element.innerHTML = '';\n",
              "          dataTable['output_type'] = 'display_data';\n",
              "          await google.colab.output.renderOutput(dataTable, element);\n",
              "          const docLink = document.createElement('div');\n",
              "          docLink.innerHTML = docLinkHtml;\n",
              "          element.appendChild(docLink);\n",
              "        }\n",
              "      </script>\n",
              "    </div>\n",
              "  </div>\n",
              "  "
            ]
          },
          "metadata": {},
          "execution_count": 251
        }
      ]
    },
    {
      "cell_type": "markdown",
      "source": [
        "Разбив на 5 групп по типу графика работы, получаем в каждой категории разное количество вакансий. Количество достаточно маленькое."
      ],
      "metadata": {
        "id": "2Jtpw_q41xsm"
      }
    },
    {
      "cell_type": "markdown",
      "source": [
        "##Количество наблюдений"
      ],
      "metadata": {
        "id": "8imEYgwT1xsm"
      }
    },
    {
      "cell_type": "markdown",
      "source": [
        "Количество соискателей, работающих по разным графикам"
      ],
      "metadata": {
        "id": "sXgM29K-1xsn"
      }
    },
    {
      "cell_type": "code",
      "source": [
        "df3.groupby('schedule')[['Средняя_зп']].count()"
      ],
      "metadata": {
        "colab": {
          "base_uri": "https://localhost:8080/",
          "height": 237
        },
        "outputId": "4bc0100a-da59-45cf-c054-e00b2ad19c97",
        "id": "X5Adb3K71xsn"
      },
      "execution_count": null,
      "outputs": [
        {
          "output_type": "execute_result",
          "data": {
            "text/plain": [
              "                  Средняя_зп\n",
              "schedule                    \n",
              "Вахтовый_метод             1\n",
              "Гибкий_график             69\n",
              "Полный_день             1874\n",
              "Сменный_график             6\n",
              "Удаленная_работа         605"
            ],
            "text/html": [
              "\n",
              "  <div id=\"df-e0ec673a-33ae-4f50-9dba-6e5f2baac27d\">\n",
              "    <div class=\"colab-df-container\">\n",
              "      <div>\n",
              "<style scoped>\n",
              "    .dataframe tbody tr th:only-of-type {\n",
              "        vertical-align: middle;\n",
              "    }\n",
              "\n",
              "    .dataframe tbody tr th {\n",
              "        vertical-align: top;\n",
              "    }\n",
              "\n",
              "    .dataframe thead th {\n",
              "        text-align: right;\n",
              "    }\n",
              "</style>\n",
              "<table border=\"1\" class=\"dataframe\">\n",
              "  <thead>\n",
              "    <tr style=\"text-align: right;\">\n",
              "      <th></th>\n",
              "      <th>Средняя_зп</th>\n",
              "    </tr>\n",
              "    <tr>\n",
              "      <th>schedule</th>\n",
              "      <th></th>\n",
              "    </tr>\n",
              "  </thead>\n",
              "  <tbody>\n",
              "    <tr>\n",
              "      <th>Вахтовый_метод</th>\n",
              "      <td>1</td>\n",
              "    </tr>\n",
              "    <tr>\n",
              "      <th>Гибкий_график</th>\n",
              "      <td>69</td>\n",
              "    </tr>\n",
              "    <tr>\n",
              "      <th>Полный_день</th>\n",
              "      <td>1874</td>\n",
              "    </tr>\n",
              "    <tr>\n",
              "      <th>Сменный_график</th>\n",
              "      <td>6</td>\n",
              "    </tr>\n",
              "    <tr>\n",
              "      <th>Удаленная_работа</th>\n",
              "      <td>605</td>\n",
              "    </tr>\n",
              "  </tbody>\n",
              "</table>\n",
              "</div>\n",
              "      <button class=\"colab-df-convert\" onclick=\"convertToInteractive('df-e0ec673a-33ae-4f50-9dba-6e5f2baac27d')\"\n",
              "              title=\"Convert this dataframe to an interactive table.\"\n",
              "              style=\"display:none;\">\n",
              "        \n",
              "  <svg xmlns=\"http://www.w3.org/2000/svg\" height=\"24px\"viewBox=\"0 0 24 24\"\n",
              "       width=\"24px\">\n",
              "    <path d=\"M0 0h24v24H0V0z\" fill=\"none\"/>\n",
              "    <path d=\"M18.56 5.44l.94 2.06.94-2.06 2.06-.94-2.06-.94-.94-2.06-.94 2.06-2.06.94zm-11 1L8.5 8.5l.94-2.06 2.06-.94-2.06-.94L8.5 2.5l-.94 2.06-2.06.94zm10 10l.94 2.06.94-2.06 2.06-.94-2.06-.94-.94-2.06-.94 2.06-2.06.94z\"/><path d=\"M17.41 7.96l-1.37-1.37c-.4-.4-.92-.59-1.43-.59-.52 0-1.04.2-1.43.59L10.3 9.45l-7.72 7.72c-.78.78-.78 2.05 0 2.83L4 21.41c.39.39.9.59 1.41.59.51 0 1.02-.2 1.41-.59l7.78-7.78 2.81-2.81c.8-.78.8-2.07 0-2.86zM5.41 20L4 18.59l7.72-7.72 1.47 1.35L5.41 20z\"/>\n",
              "  </svg>\n",
              "      </button>\n",
              "      \n",
              "  <style>\n",
              "    .colab-df-container {\n",
              "      display:flex;\n",
              "      flex-wrap:wrap;\n",
              "      gap: 12px;\n",
              "    }\n",
              "\n",
              "    .colab-df-convert {\n",
              "      background-color: #E8F0FE;\n",
              "      border: none;\n",
              "      border-radius: 50%;\n",
              "      cursor: pointer;\n",
              "      display: none;\n",
              "      fill: #1967D2;\n",
              "      height: 32px;\n",
              "      padding: 0 0 0 0;\n",
              "      width: 32px;\n",
              "    }\n",
              "\n",
              "    .colab-df-convert:hover {\n",
              "      background-color: #E2EBFA;\n",
              "      box-shadow: 0px 1px 2px rgba(60, 64, 67, 0.3), 0px 1px 3px 1px rgba(60, 64, 67, 0.15);\n",
              "      fill: #174EA6;\n",
              "    }\n",
              "\n",
              "    [theme=dark] .colab-df-convert {\n",
              "      background-color: #3B4455;\n",
              "      fill: #D2E3FC;\n",
              "    }\n",
              "\n",
              "    [theme=dark] .colab-df-convert:hover {\n",
              "      background-color: #434B5C;\n",
              "      box-shadow: 0px 1px 3px 1px rgba(0, 0, 0, 0.15);\n",
              "      filter: drop-shadow(0px 1px 2px rgba(0, 0, 0, 0.3));\n",
              "      fill: #FFFFFF;\n",
              "    }\n",
              "  </style>\n",
              "\n",
              "      <script>\n",
              "        const buttonEl =\n",
              "          document.querySelector('#df-e0ec673a-33ae-4f50-9dba-6e5f2baac27d button.colab-df-convert');\n",
              "        buttonEl.style.display =\n",
              "          google.colab.kernel.accessAllowed ? 'block' : 'none';\n",
              "\n",
              "        async function convertToInteractive(key) {\n",
              "          const element = document.querySelector('#df-e0ec673a-33ae-4f50-9dba-6e5f2baac27d');\n",
              "          const dataTable =\n",
              "            await google.colab.kernel.invokeFunction('convertToInteractive',\n",
              "                                                     [key], {});\n",
              "          if (!dataTable) return;\n",
              "\n",
              "          const docLinkHtml = 'Like what you see? Visit the ' +\n",
              "            '<a target=\"_blank\" href=https://colab.research.google.com/notebooks/data_table.ipynb>data table notebook</a>'\n",
              "            + ' to learn more about interactive tables.';\n",
              "          element.innerHTML = '';\n",
              "          dataTable['output_type'] = 'display_data';\n",
              "          await google.colab.output.renderOutput(dataTable, element);\n",
              "          const docLink = document.createElement('div');\n",
              "          docLink.innerHTML = docLinkHtml;\n",
              "          element.appendChild(docLink);\n",
              "        }\n",
              "      </script>\n",
              "    </div>\n",
              "  </div>\n",
              "  "
            ]
          },
          "metadata": {},
          "execution_count": 252
        }
      ]
    },
    {
      "cell_type": "markdown",
      "source": [
        "##Создаем индикаторы уровня"
      ],
      "metadata": {
        "id": "Z2Hia95p8QYy"
      }
    },
    {
      "cell_type": "markdown",
      "source": [
        "Так как график работы - категориальный фактор, в котором 5 уровней, кодируем при помощи 0 и 1(фиктивные переменные - индикаторы уровня). В модель включаем n-1 признак(4). "
      ],
      "metadata": {
        "id": "7sjQ5d1iRaKb"
      }
    },
    {
      "cell_type": "code",
      "source": [
        "fl01 = pd.concat((df3,pd.get_dummies(df3.schedule, prefix=\"\", prefix_sep='',)),1)"
      ],
      "metadata": {
        "id": "EyPWtTzVfKrk"
      },
      "execution_count": null,
      "outputs": []
    },
    {
      "cell_type": "code",
      "source": [
        "fl01"
      ],
      "metadata": {
        "colab": {
          "base_uri": "https://localhost:8080/",
          "height": 361
        },
        "id": "DPinYMu-fwGx",
        "outputId": "92393052-57c7-45cd-a28c-139069c25a56"
      },
      "execution_count": null,
      "outputs": [
        {
          "output_type": "execute_result",
          "data": {
            "text/plain": [
              "               schedule          experience  Средняя_зп  Вахтовый_метод  \\\n",
              "12889  Удаленная_работа  От_1_года_до_3_лет    203000.0               0   \n",
              "12890       Полный_день       От_3_до_6_лет    120000.0               0   \n",
              "12891       Полный_день       От_3_до_6_лет    120000.0               0   \n",
              "12892  Удаленная_работа           Нет_опыта     35000.0               0   \n",
              "...                 ...                 ...         ...             ...   \n",
              "17279       Полный_день           Нет_опыта     25000.0               0   \n",
              "17282       Полный_день  От_1_года_до_3_лет    185000.0               0   \n",
              "17284       Полный_день  От_1_года_до_3_лет    100000.0               0   \n",
              "17287       Полный_день  От_1_года_до_3_лет    175000.0               0   \n",
              "\n",
              "       Гибкий_график  Полный_день  Сменный_график  Удаленная_работа  \n",
              "12889              0            0               0                 1  \n",
              "12890              0            1               0                 0  \n",
              "12891              0            1               0                 0  \n",
              "12892              0            0               0                 1  \n",
              "...              ...          ...             ...               ...  \n",
              "17279              0            1               0                 0  \n",
              "17282              0            1               0                 0  \n",
              "17284              0            1               0                 0  \n",
              "17287              0            1               0                 0  \n",
              "\n",
              "[2555 rows x 8 columns]"
            ],
            "text/html": [
              "\n",
              "  <div id=\"df-4f346543-7bb3-4994-a600-bea53794c774\">\n",
              "    <div class=\"colab-df-container\">\n",
              "      <div>\n",
              "<style scoped>\n",
              "    .dataframe tbody tr th:only-of-type {\n",
              "        vertical-align: middle;\n",
              "    }\n",
              "\n",
              "    .dataframe tbody tr th {\n",
              "        vertical-align: top;\n",
              "    }\n",
              "\n",
              "    .dataframe thead th {\n",
              "        text-align: right;\n",
              "    }\n",
              "</style>\n",
              "<table border=\"1\" class=\"dataframe\">\n",
              "  <thead>\n",
              "    <tr style=\"text-align: right;\">\n",
              "      <th></th>\n",
              "      <th>schedule</th>\n",
              "      <th>experience</th>\n",
              "      <th>Средняя_зп</th>\n",
              "      <th>Вахтовый_метод</th>\n",
              "      <th>Гибкий_график</th>\n",
              "      <th>Полный_день</th>\n",
              "      <th>Сменный_график</th>\n",
              "      <th>Удаленная_работа</th>\n",
              "    </tr>\n",
              "  </thead>\n",
              "  <tbody>\n",
              "    <tr>\n",
              "      <th>12889</th>\n",
              "      <td>Удаленная_работа</td>\n",
              "      <td>От_1_года_до_3_лет</td>\n",
              "      <td>203000.0</td>\n",
              "      <td>0</td>\n",
              "      <td>0</td>\n",
              "      <td>0</td>\n",
              "      <td>0</td>\n",
              "      <td>1</td>\n",
              "    </tr>\n",
              "    <tr>\n",
              "      <th>12890</th>\n",
              "      <td>Полный_день</td>\n",
              "      <td>От_3_до_6_лет</td>\n",
              "      <td>120000.0</td>\n",
              "      <td>0</td>\n",
              "      <td>0</td>\n",
              "      <td>1</td>\n",
              "      <td>0</td>\n",
              "      <td>0</td>\n",
              "    </tr>\n",
              "    <tr>\n",
              "      <th>12891</th>\n",
              "      <td>Полный_день</td>\n",
              "      <td>От_3_до_6_лет</td>\n",
              "      <td>120000.0</td>\n",
              "      <td>0</td>\n",
              "      <td>0</td>\n",
              "      <td>1</td>\n",
              "      <td>0</td>\n",
              "      <td>0</td>\n",
              "    </tr>\n",
              "    <tr>\n",
              "      <th>12892</th>\n",
              "      <td>Удаленная_работа</td>\n",
              "      <td>Нет_опыта</td>\n",
              "      <td>35000.0</td>\n",
              "      <td>0</td>\n",
              "      <td>0</td>\n",
              "      <td>0</td>\n",
              "      <td>0</td>\n",
              "      <td>1</td>\n",
              "    </tr>\n",
              "    <tr>\n",
              "      <th>...</th>\n",
              "      <td>...</td>\n",
              "      <td>...</td>\n",
              "      <td>...</td>\n",
              "      <td>...</td>\n",
              "      <td>...</td>\n",
              "      <td>...</td>\n",
              "      <td>...</td>\n",
              "      <td>...</td>\n",
              "    </tr>\n",
              "    <tr>\n",
              "      <th>17279</th>\n",
              "      <td>Полный_день</td>\n",
              "      <td>Нет_опыта</td>\n",
              "      <td>25000.0</td>\n",
              "      <td>0</td>\n",
              "      <td>0</td>\n",
              "      <td>1</td>\n",
              "      <td>0</td>\n",
              "      <td>0</td>\n",
              "    </tr>\n",
              "    <tr>\n",
              "      <th>17282</th>\n",
              "      <td>Полный_день</td>\n",
              "      <td>От_1_года_до_3_лет</td>\n",
              "      <td>185000.0</td>\n",
              "      <td>0</td>\n",
              "      <td>0</td>\n",
              "      <td>1</td>\n",
              "      <td>0</td>\n",
              "      <td>0</td>\n",
              "    </tr>\n",
              "    <tr>\n",
              "      <th>17284</th>\n",
              "      <td>Полный_день</td>\n",
              "      <td>От_1_года_до_3_лет</td>\n",
              "      <td>100000.0</td>\n",
              "      <td>0</td>\n",
              "      <td>0</td>\n",
              "      <td>1</td>\n",
              "      <td>0</td>\n",
              "      <td>0</td>\n",
              "    </tr>\n",
              "    <tr>\n",
              "      <th>17287</th>\n",
              "      <td>Полный_день</td>\n",
              "      <td>От_1_года_до_3_лет</td>\n",
              "      <td>175000.0</td>\n",
              "      <td>0</td>\n",
              "      <td>0</td>\n",
              "      <td>1</td>\n",
              "      <td>0</td>\n",
              "      <td>0</td>\n",
              "    </tr>\n",
              "  </tbody>\n",
              "</table>\n",
              "<p>2555 rows × 8 columns</p>\n",
              "</div>\n",
              "      <button class=\"colab-df-convert\" onclick=\"convertToInteractive('df-4f346543-7bb3-4994-a600-bea53794c774')\"\n",
              "              title=\"Convert this dataframe to an interactive table.\"\n",
              "              style=\"display:none;\">\n",
              "        \n",
              "  <svg xmlns=\"http://www.w3.org/2000/svg\" height=\"24px\"viewBox=\"0 0 24 24\"\n",
              "       width=\"24px\">\n",
              "    <path d=\"M0 0h24v24H0V0z\" fill=\"none\"/>\n",
              "    <path d=\"M18.56 5.44l.94 2.06.94-2.06 2.06-.94-2.06-.94-.94-2.06-.94 2.06-2.06.94zm-11 1L8.5 8.5l.94-2.06 2.06-.94-2.06-.94L8.5 2.5l-.94 2.06-2.06.94zm10 10l.94 2.06.94-2.06 2.06-.94-2.06-.94-.94-2.06-.94 2.06-2.06.94z\"/><path d=\"M17.41 7.96l-1.37-1.37c-.4-.4-.92-.59-1.43-.59-.52 0-1.04.2-1.43.59L10.3 9.45l-7.72 7.72c-.78.78-.78 2.05 0 2.83L4 21.41c.39.39.9.59 1.41.59.51 0 1.02-.2 1.41-.59l7.78-7.78 2.81-2.81c.8-.78.8-2.07 0-2.86zM5.41 20L4 18.59l7.72-7.72 1.47 1.35L5.41 20z\"/>\n",
              "  </svg>\n",
              "      </button>\n",
              "      \n",
              "  <style>\n",
              "    .colab-df-container {\n",
              "      display:flex;\n",
              "      flex-wrap:wrap;\n",
              "      gap: 12px;\n",
              "    }\n",
              "\n",
              "    .colab-df-convert {\n",
              "      background-color: #E8F0FE;\n",
              "      border: none;\n",
              "      border-radius: 50%;\n",
              "      cursor: pointer;\n",
              "      display: none;\n",
              "      fill: #1967D2;\n",
              "      height: 32px;\n",
              "      padding: 0 0 0 0;\n",
              "      width: 32px;\n",
              "    }\n",
              "\n",
              "    .colab-df-convert:hover {\n",
              "      background-color: #E2EBFA;\n",
              "      box-shadow: 0px 1px 2px rgba(60, 64, 67, 0.3), 0px 1px 3px 1px rgba(60, 64, 67, 0.15);\n",
              "      fill: #174EA6;\n",
              "    }\n",
              "\n",
              "    [theme=dark] .colab-df-convert {\n",
              "      background-color: #3B4455;\n",
              "      fill: #D2E3FC;\n",
              "    }\n",
              "\n",
              "    [theme=dark] .colab-df-convert:hover {\n",
              "      background-color: #434B5C;\n",
              "      box-shadow: 0px 1px 3px 1px rgba(0, 0, 0, 0.15);\n",
              "      filter: drop-shadow(0px 1px 2px rgba(0, 0, 0, 0.3));\n",
              "      fill: #FFFFFF;\n",
              "    }\n",
              "  </style>\n",
              "\n",
              "      <script>\n",
              "        const buttonEl =\n",
              "          document.querySelector('#df-4f346543-7bb3-4994-a600-bea53794c774 button.colab-df-convert');\n",
              "        buttonEl.style.display =\n",
              "          google.colab.kernel.accessAllowed ? 'block' : 'none';\n",
              "\n",
              "        async function convertToInteractive(key) {\n",
              "          const element = document.querySelector('#df-4f346543-7bb3-4994-a600-bea53794c774');\n",
              "          const dataTable =\n",
              "            await google.colab.kernel.invokeFunction('convertToInteractive',\n",
              "                                                     [key], {});\n",
              "          if (!dataTable) return;\n",
              "\n",
              "          const docLinkHtml = 'Like what you see? Visit the ' +\n",
              "            '<a target=\"_blank\" href=https://colab.research.google.com/notebooks/data_table.ipynb>data table notebook</a>'\n",
              "            + ' to learn more about interactive tables.';\n",
              "          element.innerHTML = '';\n",
              "          dataTable['output_type'] = 'display_data';\n",
              "          await google.colab.output.renderOutput(dataTable, element);\n",
              "          const docLink = document.createElement('div');\n",
              "          docLink.innerHTML = docLinkHtml;\n",
              "          element.appendChild(docLink);\n",
              "        }\n",
              "      </script>\n",
              "    </div>\n",
              "  </div>\n",
              "  "
            ]
          },
          "metadata": {},
          "execution_count": 254
        }
      ]
    },
    {
      "cell_type": "markdown",
      "source": [
        "##Находим значения статистического анализа"
      ],
      "metadata": {
        "id": "fIRup0lJ96X_"
      }
    },
    {
      "cell_type": "markdown",
      "source": [
        "###Зависимость зп от графика."
      ],
      "metadata": {
        "id": "ifsFkeGeAo6G"
      }
    },
    {
      "cell_type": "markdown",
      "source": [
        "Определяем статистические параметры зависимости средней заработной платы от графика работы."
      ],
      "metadata": {
        "id": "ev_IwZjcAjSp"
      }
    },
    {
      "cell_type": "code",
      "source": [
        "resultsm = smf.ols('Средняя_зп ~ Вахтовый_метод + Гибкий_график + Сменный_график + Удаленная_работа', data=fl01).fit()\n",
        "resultsm.summary()"
      ],
      "metadata": {
        "colab": {
          "base_uri": "https://localhost:8080/",
          "height": 516
        },
        "id": "i5PpvBbZAhTg",
        "outputId": "b4704227-8596-4701-a3e1-a2fd2807c979"
      },
      "execution_count": null,
      "outputs": [
        {
          "output_type": "execute_result",
          "data": {
            "text/plain": [
              "<class 'statsmodels.iolib.summary.Summary'>\n",
              "\"\"\"\n",
              "                            OLS Regression Results                            \n",
              "==============================================================================\n",
              "Dep. Variable:             Средняя_зп   R-squared:                       0.039\n",
              "Model:                            OLS   Adj. R-squared:                  0.037\n",
              "Method:                 Least Squares   F-statistic:                     25.53\n",
              "Date:                Sat, 16 Jul 2022   Prob (F-statistic):           9.09e-21\n",
              "Time:                        21:57:08   Log-Likelihood:                -31413.\n",
              "No. Observations:                2555   AIC:                         6.284e+04\n",
              "Df Residuals:                    2550   BIC:                         6.286e+04\n",
              "Df Model:                           4                                         \n",
              "Covariance Type:            nonrobust                                         \n",
              "====================================================================================\n",
              "                       coef    std err          t      P>|t|      [0.025      0.975]\n",
              "------------------------------------------------------------------------------------\n",
              "Intercept         1.146e+05   1222.620     93.737      0.000    1.12e+05    1.17e+05\n",
              "Вахтовый_метод     6.04e+04   5.29e+04      1.141      0.254   -4.34e+04    1.64e+05\n",
              "Гибкий_график     1.361e+04   6487.889      2.097      0.036     883.581    2.63e+04\n",
              "Сменный_график   -4.085e+04   2.16e+04     -1.888      0.059   -8.33e+04    1582.938\n",
              "Удаленная_работа  2.411e+04   2474.868      9.743      0.000    1.93e+04     2.9e+04\n",
              "==============================================================================\n",
              "Omnibus:                       73.704   Durbin-Watson:                   1.299\n",
              "Prob(Omnibus):                  0.000   Jarque-Bera (JB):               79.765\n",
              "Skew:                           0.432   Prob(JB):                     4.78e-18\n",
              "Kurtosis:                       2.952   Cond. No.                         52.3\n",
              "==============================================================================\n",
              "\n",
              "Warnings:\n",
              "[1] Standard Errors assume that the covariance matrix of the errors is correctly specified.\n",
              "\"\"\""
            ],
            "text/html": [
              "<table class=\"simpletable\">\n",
              "<caption>OLS Regression Results</caption>\n",
              "<tr>\n",
              "  <th>Dep. Variable:</th>       <td>Средняя_зп</td>    <th>  R-squared:         </th> <td>   0.039</td> \n",
              "</tr>\n",
              "<tr>\n",
              "  <th>Model:</th>                   <td>OLS</td>       <th>  Adj. R-squared:    </th> <td>   0.037</td> \n",
              "</tr>\n",
              "<tr>\n",
              "  <th>Method:</th>             <td>Least Squares</td>  <th>  F-statistic:       </th> <td>   25.53</td> \n",
              "</tr>\n",
              "<tr>\n",
              "  <th>Date:</th>             <td>Sat, 16 Jul 2022</td> <th>  Prob (F-statistic):</th> <td>9.09e-21</td> \n",
              "</tr>\n",
              "<tr>\n",
              "  <th>Time:</th>                 <td>21:57:08</td>     <th>  Log-Likelihood:    </th> <td> -31413.</td> \n",
              "</tr>\n",
              "<tr>\n",
              "  <th>No. Observations:</th>      <td>  2555</td>      <th>  AIC:               </th> <td>6.284e+04</td>\n",
              "</tr>\n",
              "<tr>\n",
              "  <th>Df Residuals:</th>          <td>  2550</td>      <th>  BIC:               </th> <td>6.286e+04</td>\n",
              "</tr>\n",
              "<tr>\n",
              "  <th>Df Model:</th>              <td>     4</td>      <th>                     </th>     <td> </td>    \n",
              "</tr>\n",
              "<tr>\n",
              "  <th>Covariance Type:</th>      <td>nonrobust</td>    <th>                     </th>     <td> </td>    \n",
              "</tr>\n",
              "</table>\n",
              "<table class=\"simpletable\">\n",
              "<tr>\n",
              "          <td></td>            <th>coef</th>     <th>std err</th>      <th>t</th>      <th>P>|t|</th>  <th>[0.025</th>    <th>0.975]</th>  \n",
              "</tr>\n",
              "<tr>\n",
              "  <th>Intercept</th>        <td> 1.146e+05</td> <td> 1222.620</td> <td>   93.737</td> <td> 0.000</td> <td> 1.12e+05</td> <td> 1.17e+05</td>\n",
              "</tr>\n",
              "<tr>\n",
              "  <th>Вахтовый_метод</th>   <td>  6.04e+04</td> <td> 5.29e+04</td> <td>    1.141</td> <td> 0.254</td> <td>-4.34e+04</td> <td> 1.64e+05</td>\n",
              "</tr>\n",
              "<tr>\n",
              "  <th>Гибкий_график</th>    <td> 1.361e+04</td> <td> 6487.889</td> <td>    2.097</td> <td> 0.036</td> <td>  883.581</td> <td> 2.63e+04</td>\n",
              "</tr>\n",
              "<tr>\n",
              "  <th>Сменный_график</th>   <td>-4.085e+04</td> <td> 2.16e+04</td> <td>   -1.888</td> <td> 0.059</td> <td>-8.33e+04</td> <td> 1582.938</td>\n",
              "</tr>\n",
              "<tr>\n",
              "  <th>Удаленная_работа</th> <td> 2.411e+04</td> <td> 2474.868</td> <td>    9.743</td> <td> 0.000</td> <td> 1.93e+04</td> <td>  2.9e+04</td>\n",
              "</tr>\n",
              "</table>\n",
              "<table class=\"simpletable\">\n",
              "<tr>\n",
              "  <th>Omnibus:</th>       <td>73.704</td> <th>  Durbin-Watson:     </th> <td>   1.299</td>\n",
              "</tr>\n",
              "<tr>\n",
              "  <th>Prob(Omnibus):</th> <td> 0.000</td> <th>  Jarque-Bera (JB):  </th> <td>  79.765</td>\n",
              "</tr>\n",
              "<tr>\n",
              "  <th>Skew:</th>          <td> 0.432</td> <th>  Prob(JB):          </th> <td>4.78e-18</td>\n",
              "</tr>\n",
              "<tr>\n",
              "  <th>Kurtosis:</th>      <td> 2.952</td> <th>  Cond. No.          </th> <td>    52.3</td>\n",
              "</tr>\n",
              "</table><br/><br/>Warnings:<br/>[1] Standard Errors assume that the covariance matrix of the errors is correctly specified."
            ]
          },
          "metadata": {},
          "execution_count": 257
        }
      ]
    },
    {
      "cell_type": "markdown",
      "source": [
        "###Зависимость зп от графика и от опыта работы."
      ],
      "metadata": {
        "id": "8ylrWiJzA09A"
      }
    },
    {
      "cell_type": "markdown",
      "source": [
        "Определяем статистические параметры зависимости средней заработной платы от графика работы и опыта соискателя."
      ],
      "metadata": {
        "id": "OgX4-dKbALJn"
      }
    },
    {
      "cell_type": "code",
      "source": [
        "resultsm = smf.ols('Средняя_зп ~ experience + Вахтовый_метод + Гибкий_график + Сменный_график + Удаленная_работа', data=fl01).fit()\n",
        "resultsm.summary()"
      ],
      "metadata": {
        "colab": {
          "base_uri": "https://localhost:8080/",
          "height": 580
        },
        "id": "lcYfxOJpgL6x",
        "outputId": "f20496b6-0a4a-444a-ed7b-1035a35903e7"
      },
      "execution_count": null,
      "outputs": [
        {
          "output_type": "execute_result",
          "data": {
            "text/plain": [
              "<class 'statsmodels.iolib.summary.Summary'>\n",
              "\"\"\"\n",
              "                            OLS Regression Results                            \n",
              "==============================================================================\n",
              "Dep. Variable:             Средняя_зп   R-squared:                       0.247\n",
              "Model:                            OLS   Adj. R-squared:                  0.245\n",
              "Method:                 Least Squares   F-statistic:                     119.2\n",
              "Date:                Sat, 16 Jul 2022   Prob (F-statistic):          9.45e-152\n",
              "Time:                        21:51:04   Log-Likelihood:                -31101.\n",
              "No. Observations:                2555   AIC:                         6.222e+04\n",
              "Df Residuals:                    2547   BIC:                         6.226e+04\n",
              "Df Model:                           7                                         \n",
              "Covariance Type:            nonrobust                                         \n",
              "====================================================================================================\n",
              "                                       coef    std err          t      P>|t|      [0.025      0.975]\n",
              "----------------------------------------------------------------------------------------------------\n",
              "Intercept                         1.776e+05   5277.821     33.641      0.000    1.67e+05    1.88e+05\n",
              "experience[T.Нет_опыта]          -1.203e+05   6287.563    -19.136      0.000   -1.33e+05   -1.08e+05\n",
              "experience[T.От_1_года_до_3_лет] -7.229e+04   5406.142    -13.373      0.000   -8.29e+04   -6.17e+04\n",
              "experience[T.От_3_до_6_лет]       -3.92e+04   5463.609     -7.174      0.000   -4.99e+04   -2.85e+04\n",
              "Вахтовый_метод                    3.665e+04   4.69e+04      0.781      0.435   -5.53e+04    1.29e+05\n",
              "Гибкий_график                     9067.8792   5754.648      1.576      0.115   -2216.386    2.04e+04\n",
              "Сменный_график                   -3.453e+04   1.92e+04     -1.802      0.072   -7.21e+04    3052.795\n",
              "Удаленная_работа                  1.587e+04   2223.072      7.139      0.000    1.15e+04    2.02e+04\n",
              "==============================================================================\n",
              "Omnibus:                      103.233   Durbin-Watson:                   1.393\n",
              "Prob(Omnibus):                  0.000   Jarque-Bera (JB):              116.478\n",
              "Skew:                           0.489   Prob(JB):                     5.09e-26\n",
              "Kurtosis:                       3.373   Cond. No.                         61.9\n",
              "==============================================================================\n",
              "\n",
              "Warnings:\n",
              "[1] Standard Errors assume that the covariance matrix of the errors is correctly specified.\n",
              "\"\"\""
            ],
            "text/html": [
              "<table class=\"simpletable\">\n",
              "<caption>OLS Regression Results</caption>\n",
              "<tr>\n",
              "  <th>Dep. Variable:</th>       <td>Средняя_зп</td>    <th>  R-squared:         </th> <td>   0.247</td> \n",
              "</tr>\n",
              "<tr>\n",
              "  <th>Model:</th>                   <td>OLS</td>       <th>  Adj. R-squared:    </th> <td>   0.245</td> \n",
              "</tr>\n",
              "<tr>\n",
              "  <th>Method:</th>             <td>Least Squares</td>  <th>  F-statistic:       </th> <td>   119.2</td> \n",
              "</tr>\n",
              "<tr>\n",
              "  <th>Date:</th>             <td>Sat, 16 Jul 2022</td> <th>  Prob (F-statistic):</th> <td>9.45e-152</td>\n",
              "</tr>\n",
              "<tr>\n",
              "  <th>Time:</th>                 <td>21:51:04</td>     <th>  Log-Likelihood:    </th> <td> -31101.</td> \n",
              "</tr>\n",
              "<tr>\n",
              "  <th>No. Observations:</th>      <td>  2555</td>      <th>  AIC:               </th> <td>6.222e+04</td>\n",
              "</tr>\n",
              "<tr>\n",
              "  <th>Df Residuals:</th>          <td>  2547</td>      <th>  BIC:               </th> <td>6.226e+04</td>\n",
              "</tr>\n",
              "<tr>\n",
              "  <th>Df Model:</th>              <td>     7</td>      <th>                     </th>     <td> </td>    \n",
              "</tr>\n",
              "<tr>\n",
              "  <th>Covariance Type:</th>      <td>nonrobust</td>    <th>                     </th>     <td> </td>    \n",
              "</tr>\n",
              "</table>\n",
              "<table class=\"simpletable\">\n",
              "<tr>\n",
              "                  <td></td>                    <th>coef</th>     <th>std err</th>      <th>t</th>      <th>P>|t|</th>  <th>[0.025</th>    <th>0.975]</th>  \n",
              "</tr>\n",
              "<tr>\n",
              "  <th>Intercept</th>                        <td> 1.776e+05</td> <td> 5277.821</td> <td>   33.641</td> <td> 0.000</td> <td> 1.67e+05</td> <td> 1.88e+05</td>\n",
              "</tr>\n",
              "<tr>\n",
              "  <th>experience[T.Нет_опыта]</th>          <td>-1.203e+05</td> <td> 6287.563</td> <td>  -19.136</td> <td> 0.000</td> <td>-1.33e+05</td> <td>-1.08e+05</td>\n",
              "</tr>\n",
              "<tr>\n",
              "  <th>experience[T.От_1_года_до_3_лет]</th> <td>-7.229e+04</td> <td> 5406.142</td> <td>  -13.373</td> <td> 0.000</td> <td>-8.29e+04</td> <td>-6.17e+04</td>\n",
              "</tr>\n",
              "<tr>\n",
              "  <th>experience[T.От_3_до_6_лет]</th>      <td> -3.92e+04</td> <td> 5463.609</td> <td>   -7.174</td> <td> 0.000</td> <td>-4.99e+04</td> <td>-2.85e+04</td>\n",
              "</tr>\n",
              "<tr>\n",
              "  <th>Вахтовый_метод</th>                   <td> 3.665e+04</td> <td> 4.69e+04</td> <td>    0.781</td> <td> 0.435</td> <td>-5.53e+04</td> <td> 1.29e+05</td>\n",
              "</tr>\n",
              "<tr>\n",
              "  <th>Гибкий_график</th>                    <td> 9067.8792</td> <td> 5754.648</td> <td>    1.576</td> <td> 0.115</td> <td>-2216.386</td> <td> 2.04e+04</td>\n",
              "</tr>\n",
              "<tr>\n",
              "  <th>Сменный_график</th>                   <td>-3.453e+04</td> <td> 1.92e+04</td> <td>   -1.802</td> <td> 0.072</td> <td>-7.21e+04</td> <td> 3052.795</td>\n",
              "</tr>\n",
              "<tr>\n",
              "  <th>Удаленная_работа</th>                 <td> 1.587e+04</td> <td> 2223.072</td> <td>    7.139</td> <td> 0.000</td> <td> 1.15e+04</td> <td> 2.02e+04</td>\n",
              "</tr>\n",
              "</table>\n",
              "<table class=\"simpletable\">\n",
              "<tr>\n",
              "  <th>Omnibus:</th>       <td>103.233</td> <th>  Durbin-Watson:     </th> <td>   1.393</td>\n",
              "</tr>\n",
              "<tr>\n",
              "  <th>Prob(Omnibus):</th> <td> 0.000</td>  <th>  Jarque-Bera (JB):  </th> <td> 116.478</td>\n",
              "</tr>\n",
              "<tr>\n",
              "  <th>Skew:</th>          <td> 0.489</td>  <th>  Prob(JB):          </th> <td>5.09e-26</td>\n",
              "</tr>\n",
              "<tr>\n",
              "  <th>Kurtosis:</th>      <td> 3.373</td>  <th>  Cond. No.          </th> <td>    61.9</td>\n",
              "</tr>\n",
              "</table><br/><br/>Warnings:<br/>[1] Standard Errors assume that the covariance matrix of the errors is correctly specified."
            ]
          },
          "metadata": {},
          "execution_count": 255
        }
      ]
    },
    {
      "cell_type": "markdown",
      "source": [
        "Детерминация R-squared:\t0.039 в случае, когда определяли зависимость только от графика работы  и 0.247, когда зависимость от опыта и графика, что говорит от езначительном влиянии фактора графика работы на уровень заработной платы. Чем ближе его значение коэффициента по модулю к 0, тем меньше связь результативного признака с исследуемыми факторами.\n",
        "Смотрим на p-value - P>|t| - по пунктам, связанным с графиком, кроме пунктов про опыт > 0.000, что подтверждает теорию о незначимости графика работы."
      ],
      "metadata": {
        "id": "9N1Dbgs9TS6U"
      }
    },
    {
      "cell_type": "markdown",
      "source": [
        "##Таблица сопряженности"
      ],
      "metadata": {
        "id": "0SChrk7VB2Mo"
      }
    },
    {
      "cell_type": "code",
      "source": [
        "wd=pd.crosstab(fl01['experience'],fl01['schedule']); wd"
      ],
      "metadata": {
        "colab": {
          "base_uri": "https://localhost:8080/",
          "height": 206
        },
        "id": "ibq9BpivB5wF",
        "outputId": "7f604a37-4c95-45ab-fdbb-0274491d81bf"
      },
      "execution_count": null,
      "outputs": [
        {
          "output_type": "execute_result",
          "data": {
            "text/plain": [
              "schedule            Вахтовый_метод  Гибкий_график  Полный_день  \\\n",
              "experience                                                       \n",
              "Более_6_лет                      0              6           59   \n",
              "Нет_опыта                        0              7          172   \n",
              "От_1_года_до_3_лет               0             30          993   \n",
              "От_3_до_6_лет                    1             26          650   \n",
              "\n",
              "schedule            Сменный_график  Удаленная_работа  \n",
              "experience                                            \n",
              "Более_6_лет                      0                15  \n",
              "Нет_опыта                        1                 5  \n",
              "От_1_года_до_3_лет               3               289  \n",
              "От_3_до_6_лет                    2               296  "
            ],
            "text/html": [
              "\n",
              "  <div id=\"df-d484d3e8-3be7-4493-8d0a-17c009bca662\">\n",
              "    <div class=\"colab-df-container\">\n",
              "      <div>\n",
              "<style scoped>\n",
              "    .dataframe tbody tr th:only-of-type {\n",
              "        vertical-align: middle;\n",
              "    }\n",
              "\n",
              "    .dataframe tbody tr th {\n",
              "        vertical-align: top;\n",
              "    }\n",
              "\n",
              "    .dataframe thead th {\n",
              "        text-align: right;\n",
              "    }\n",
              "</style>\n",
              "<table border=\"1\" class=\"dataframe\">\n",
              "  <thead>\n",
              "    <tr style=\"text-align: right;\">\n",
              "      <th>schedule</th>\n",
              "      <th>Вахтовый_метод</th>\n",
              "      <th>Гибкий_график</th>\n",
              "      <th>Полный_день</th>\n",
              "      <th>Сменный_график</th>\n",
              "      <th>Удаленная_работа</th>\n",
              "    </tr>\n",
              "    <tr>\n",
              "      <th>experience</th>\n",
              "      <th></th>\n",
              "      <th></th>\n",
              "      <th></th>\n",
              "      <th></th>\n",
              "      <th></th>\n",
              "    </tr>\n",
              "  </thead>\n",
              "  <tbody>\n",
              "    <tr>\n",
              "      <th>Более_6_лет</th>\n",
              "      <td>0</td>\n",
              "      <td>6</td>\n",
              "      <td>59</td>\n",
              "      <td>0</td>\n",
              "      <td>15</td>\n",
              "    </tr>\n",
              "    <tr>\n",
              "      <th>Нет_опыта</th>\n",
              "      <td>0</td>\n",
              "      <td>7</td>\n",
              "      <td>172</td>\n",
              "      <td>1</td>\n",
              "      <td>5</td>\n",
              "    </tr>\n",
              "    <tr>\n",
              "      <th>От_1_года_до_3_лет</th>\n",
              "      <td>0</td>\n",
              "      <td>30</td>\n",
              "      <td>993</td>\n",
              "      <td>3</td>\n",
              "      <td>289</td>\n",
              "    </tr>\n",
              "    <tr>\n",
              "      <th>От_3_до_6_лет</th>\n",
              "      <td>1</td>\n",
              "      <td>26</td>\n",
              "      <td>650</td>\n",
              "      <td>2</td>\n",
              "      <td>296</td>\n",
              "    </tr>\n",
              "  </tbody>\n",
              "</table>\n",
              "</div>\n",
              "      <button class=\"colab-df-convert\" onclick=\"convertToInteractive('df-d484d3e8-3be7-4493-8d0a-17c009bca662')\"\n",
              "              title=\"Convert this dataframe to an interactive table.\"\n",
              "              style=\"display:none;\">\n",
              "        \n",
              "  <svg xmlns=\"http://www.w3.org/2000/svg\" height=\"24px\"viewBox=\"0 0 24 24\"\n",
              "       width=\"24px\">\n",
              "    <path d=\"M0 0h24v24H0V0z\" fill=\"none\"/>\n",
              "    <path d=\"M18.56 5.44l.94 2.06.94-2.06 2.06-.94-2.06-.94-.94-2.06-.94 2.06-2.06.94zm-11 1L8.5 8.5l.94-2.06 2.06-.94-2.06-.94L8.5 2.5l-.94 2.06-2.06.94zm10 10l.94 2.06.94-2.06 2.06-.94-2.06-.94-.94-2.06-.94 2.06-2.06.94z\"/><path d=\"M17.41 7.96l-1.37-1.37c-.4-.4-.92-.59-1.43-.59-.52 0-1.04.2-1.43.59L10.3 9.45l-7.72 7.72c-.78.78-.78 2.05 0 2.83L4 21.41c.39.39.9.59 1.41.59.51 0 1.02-.2 1.41-.59l7.78-7.78 2.81-2.81c.8-.78.8-2.07 0-2.86zM5.41 20L4 18.59l7.72-7.72 1.47 1.35L5.41 20z\"/>\n",
              "  </svg>\n",
              "      </button>\n",
              "      \n",
              "  <style>\n",
              "    .colab-df-container {\n",
              "      display:flex;\n",
              "      flex-wrap:wrap;\n",
              "      gap: 12px;\n",
              "    }\n",
              "\n",
              "    .colab-df-convert {\n",
              "      background-color: #E8F0FE;\n",
              "      border: none;\n",
              "      border-radius: 50%;\n",
              "      cursor: pointer;\n",
              "      display: none;\n",
              "      fill: #1967D2;\n",
              "      height: 32px;\n",
              "      padding: 0 0 0 0;\n",
              "      width: 32px;\n",
              "    }\n",
              "\n",
              "    .colab-df-convert:hover {\n",
              "      background-color: #E2EBFA;\n",
              "      box-shadow: 0px 1px 2px rgba(60, 64, 67, 0.3), 0px 1px 3px 1px rgba(60, 64, 67, 0.15);\n",
              "      fill: #174EA6;\n",
              "    }\n",
              "\n",
              "    [theme=dark] .colab-df-convert {\n",
              "      background-color: #3B4455;\n",
              "      fill: #D2E3FC;\n",
              "    }\n",
              "\n",
              "    [theme=dark] .colab-df-convert:hover {\n",
              "      background-color: #434B5C;\n",
              "      box-shadow: 0px 1px 3px 1px rgba(0, 0, 0, 0.15);\n",
              "      filter: drop-shadow(0px 1px 2px rgba(0, 0, 0, 0.3));\n",
              "      fill: #FFFFFF;\n",
              "    }\n",
              "  </style>\n",
              "\n",
              "      <script>\n",
              "        const buttonEl =\n",
              "          document.querySelector('#df-d484d3e8-3be7-4493-8d0a-17c009bca662 button.colab-df-convert');\n",
              "        buttonEl.style.display =\n",
              "          google.colab.kernel.accessAllowed ? 'block' : 'none';\n",
              "\n",
              "        async function convertToInteractive(key) {\n",
              "          const element = document.querySelector('#df-d484d3e8-3be7-4493-8d0a-17c009bca662');\n",
              "          const dataTable =\n",
              "            await google.colab.kernel.invokeFunction('convertToInteractive',\n",
              "                                                     [key], {});\n",
              "          if (!dataTable) return;\n",
              "\n",
              "          const docLinkHtml = 'Like what you see? Visit the ' +\n",
              "            '<a target=\"_blank\" href=https://colab.research.google.com/notebooks/data_table.ipynb>data table notebook</a>'\n",
              "            + ' to learn more about interactive tables.';\n",
              "          element.innerHTML = '';\n",
              "          dataTable['output_type'] = 'display_data';\n",
              "          await google.colab.output.renderOutput(dataTable, element);\n",
              "          const docLink = document.createElement('div');\n",
              "          docLink.innerHTML = docLinkHtml;\n",
              "          element.appendChild(docLink);\n",
              "        }\n",
              "      </script>\n",
              "    </div>\n",
              "  </div>\n",
              "  "
            ]
          },
          "metadata": {},
          "execution_count": 258
        }
      ]
    },
    {
      "cell_type": "markdown",
      "source": [
        "Смотря на таблицу сопряженности можно сделать вывод о том, что основная масса вакансий требует работы в полный день, особенно соискателей с малым и среднем уровнем опыта работы. "
      ],
      "metadata": {
        "id": "y4nROsKCCRra"
      }
    },
    {
      "cell_type": "markdown",
      "source": [
        "##Критерий хи-квадрат для таблицы сопряженности.\n"
      ],
      "metadata": {
        "id": "nGtbgBpeDZt-"
      }
    },
    {
      "cell_type": "markdown",
      "source": [
        " Проверим связанные ли эти два признака."
      ],
      "metadata": {
        "id": "gUNDL-HBCrv3"
      }
    },
    {
      "cell_type": "code",
      "source": [
        "chi2, prob, df, expected = scipy.stats.chi2_contingency(wd)\n",
        "output = \"test Statistics: {}\\ndegrees of freedom: {}\\np-value: {}\\n\"\n",
        " \n",
        "print(output.format( chi2, df, prob))"
      ],
      "metadata": {
        "colab": {
          "base_uri": "https://localhost:8080/"
        },
        "id": "UnZdELkbCwyc",
        "outputId": "5aacc199-2aba-4c36-858a-dcbecb21784c"
      },
      "execution_count": null,
      "outputs": [
        {
          "output_type": "stream",
          "name": "stdout",
          "text": [
            "test Statistics: 82.74101215646456\n",
            "degrees of freedom: 12\n",
            "p-value: 1.2350559188536517e-12\n",
            "\n"
          ]
        }
      ]
    },
    {
      "cell_type": "markdown",
      "source": [
        "Получаем p-value: 1.2350559188536517e-12 >, чем 0.05, отклоняется нулевая гипотеза об отсутствии связи, следовательно признаки связанные."
      ],
      "metadata": {
        "id": "-zNA05EuC_hM"
      }
    },
    {
      "cell_type": "markdown",
      "source": [
        "Зависимый критерий можно исключить"
      ],
      "metadata": {
        "id": "h7moDLckEatw"
      }
    },
    {
      "cell_type": "code",
      "source": [
        "resultsm = smf.ols('Средняя_зп ~ experience', data=fl01).fit()\n",
        "resultsm.summary()"
      ],
      "metadata": {
        "colab": {
          "base_uri": "https://localhost:8080/",
          "height": 494
        },
        "id": "GM1xnRFtDhhE",
        "outputId": "17741a69-5cdb-47c0-8122-dcbbfc754808"
      },
      "execution_count": null,
      "outputs": [
        {
          "output_type": "execute_result",
          "data": {
            "text/plain": [
              "<class 'statsmodels.iolib.summary.Summary'>\n",
              "\"\"\"\n",
              "                            OLS Regression Results                            \n",
              "==============================================================================\n",
              "Dep. Variable:             Средняя_зп   R-squared:                       0.230\n",
              "Model:                            OLS   Adj. R-squared:                  0.229\n",
              "Method:                 Least Squares   F-statistic:                     254.2\n",
              "Date:                Sat, 16 Jul 2022   Prob (F-statistic):          2.47e-144\n",
              "Time:                        22:10:23   Log-Likelihood:                -31129.\n",
              "No. Observations:                2555   AIC:                         6.227e+04\n",
              "Df Residuals:                    2551   BIC:                         6.229e+04\n",
              "Df Model:                           3                                         \n",
              "Covariance Type:            nonrobust                                         \n",
              "====================================================================================================\n",
              "                                       coef    std err          t      P>|t|      [0.025      0.975]\n",
              "----------------------------------------------------------------------------------------------------\n",
              "Intercept                         1.812e+05   5293.869     34.229      0.000    1.71e+05    1.92e+05\n",
              "experience[T.Нет_опыта]          -1.234e+05   6335.929    -19.474      0.000   -1.36e+05   -1.11e+05\n",
              "experience[T.От_1_года_до_3_лет] -7.233e+04   5452.522    -13.266      0.000    -8.3e+04   -6.16e+04\n",
              "experience[T.От_3_до_6_лет]      -3.783e+04   5506.772     -6.869      0.000   -4.86e+04    -2.7e+04\n",
              "==============================================================================\n",
              "Omnibus:                       90.560   Durbin-Watson:                   1.403\n",
              "Prob(Omnibus):                  0.000   Jarque-Bera (JB):               99.632\n",
              "Skew:                           0.468   Prob(JB):                     2.32e-22\n",
              "Kurtosis:                       3.243   Cond. No.                         13.8\n",
              "==============================================================================\n",
              "\n",
              "Warnings:\n",
              "[1] Standard Errors assume that the covariance matrix of the errors is correctly specified.\n",
              "\"\"\""
            ],
            "text/html": [
              "<table class=\"simpletable\">\n",
              "<caption>OLS Regression Results</caption>\n",
              "<tr>\n",
              "  <th>Dep. Variable:</th>       <td>Средняя_зп</td>    <th>  R-squared:         </th> <td>   0.230</td> \n",
              "</tr>\n",
              "<tr>\n",
              "  <th>Model:</th>                   <td>OLS</td>       <th>  Adj. R-squared:    </th> <td>   0.229</td> \n",
              "</tr>\n",
              "<tr>\n",
              "  <th>Method:</th>             <td>Least Squares</td>  <th>  F-statistic:       </th> <td>   254.2</td> \n",
              "</tr>\n",
              "<tr>\n",
              "  <th>Date:</th>             <td>Sat, 16 Jul 2022</td> <th>  Prob (F-statistic):</th> <td>2.47e-144</td>\n",
              "</tr>\n",
              "<tr>\n",
              "  <th>Time:</th>                 <td>22:10:23</td>     <th>  Log-Likelihood:    </th> <td> -31129.</td> \n",
              "</tr>\n",
              "<tr>\n",
              "  <th>No. Observations:</th>      <td>  2555</td>      <th>  AIC:               </th> <td>6.227e+04</td>\n",
              "</tr>\n",
              "<tr>\n",
              "  <th>Df Residuals:</th>          <td>  2551</td>      <th>  BIC:               </th> <td>6.229e+04</td>\n",
              "</tr>\n",
              "<tr>\n",
              "  <th>Df Model:</th>              <td>     3</td>      <th>                     </th>     <td> </td>    \n",
              "</tr>\n",
              "<tr>\n",
              "  <th>Covariance Type:</th>      <td>nonrobust</td>    <th>                     </th>     <td> </td>    \n",
              "</tr>\n",
              "</table>\n",
              "<table class=\"simpletable\">\n",
              "<tr>\n",
              "                  <td></td>                    <th>coef</th>     <th>std err</th>      <th>t</th>      <th>P>|t|</th>  <th>[0.025</th>    <th>0.975]</th>  \n",
              "</tr>\n",
              "<tr>\n",
              "  <th>Intercept</th>                        <td> 1.812e+05</td> <td> 5293.869</td> <td>   34.229</td> <td> 0.000</td> <td> 1.71e+05</td> <td> 1.92e+05</td>\n",
              "</tr>\n",
              "<tr>\n",
              "  <th>experience[T.Нет_опыта]</th>          <td>-1.234e+05</td> <td> 6335.929</td> <td>  -19.474</td> <td> 0.000</td> <td>-1.36e+05</td> <td>-1.11e+05</td>\n",
              "</tr>\n",
              "<tr>\n",
              "  <th>experience[T.От_1_года_до_3_лет]</th> <td>-7.233e+04</td> <td> 5452.522</td> <td>  -13.266</td> <td> 0.000</td> <td> -8.3e+04</td> <td>-6.16e+04</td>\n",
              "</tr>\n",
              "<tr>\n",
              "  <th>experience[T.От_3_до_6_лет]</th>      <td>-3.783e+04</td> <td> 5506.772</td> <td>   -6.869</td> <td> 0.000</td> <td>-4.86e+04</td> <td> -2.7e+04</td>\n",
              "</tr>\n",
              "</table>\n",
              "<table class=\"simpletable\">\n",
              "<tr>\n",
              "  <th>Omnibus:</th>       <td>90.560</td> <th>  Durbin-Watson:     </th> <td>   1.403</td>\n",
              "</tr>\n",
              "<tr>\n",
              "  <th>Prob(Omnibus):</th> <td> 0.000</td> <th>  Jarque-Bera (JB):  </th> <td>  99.632</td>\n",
              "</tr>\n",
              "<tr>\n",
              "  <th>Skew:</th>          <td> 0.468</td> <th>  Prob(JB):          </th> <td>2.32e-22</td>\n",
              "</tr>\n",
              "<tr>\n",
              "  <th>Kurtosis:</th>      <td> 3.243</td> <th>  Cond. No.          </th> <td>    13.8</td>\n",
              "</tr>\n",
              "</table><br/><br/>Warnings:<br/>[1] Standard Errors assume that the covariance matrix of the errors is correctly specified."
            ]
          },
          "metadata": {},
          "execution_count": 261
        }
      ]
    },
    {
      "cell_type": "markdown",
      "source": [
        "##Вывод"
      ],
      "metadata": {
        "id": "sBuM9gliEp6H"
      }
    },
    {
      "cell_type": "markdown",
      "source": [
        ""
      ],
      "metadata": {
        "id": "JVh1PEYxFIWP"
      }
    },
    {
      "cell_type": "markdown",
      "source": [
        ""
      ],
      "metadata": {
        "id": "8HIiDjxBFITi"
      }
    },
    {
      "cell_type": "markdown",
      "source": [
        "Детерминация R-squared:\t0.039 в случае, когда определяли зависимость только от графика работы  и 0.247, когда зависимость от опыта и графика, что говорит от езначительном влиянии фактора графика работы на уровень заработной платы. Чем ближе его значение коэффициента по модулю к 0, тем меньше связь результативного признака с исследуемыми факторами.\n",
        "\n",
        "Смотрим на p-value - P>|t| - по пунктам, связанным с графиком, кроме пунктов про опыт > 0.000, что подтверждает теорию о незначимости графика работы.\n",
        "Получаем p-value: 1.2350559188536517e-12 >, чем 0.05, отклоняется нулевая гипотеза об отсутствии связи, следовательно признаки связанные.\n",
        "\n",
        "---\n",
        "\n"
      ],
      "metadata": {
        "id": "lHLYdekUEs2q"
      }
    },
    {
      "cell_type": "markdown",
      "source": [
        "Замечания по работе:\n",
        "1. При первичном открытии датасета оценить его размеры, выделить возможные проблемы (наличие пустых значений, дубликатов, несоответствие типов данных и т.д.) и продемонстрировать сам датасет\n",
        "2. При проверке второй статистической гипотезы наблюдение с \"вахтовым методом\" можно было исключить из рассмотрения, так как оно одно (из одного наблюдения хорошей информации не вытащишь) и рассматривать уже не 5, а 4 вида графика работы\n",
        "3. Отсутствуют комментарии в блоке множественной регрессии (какие признаки значимые, а от каких следует избавиться)\n",
        "4. Вы верно ввели 5 фиктивных переменных, характеризующих график работы, и верно встраивали в модель множественной регрессии только 4 из них, только следовало бы посмотреть какой вариант набора 4 из 5 дал бы лучший результат (Вы остановились на наборе Вахтовый_метод + Гибкий_график + Сменный_график + Удаленная_работа, хотя из значений p-value видим, что Вахтовый метод и сменный график не значимы)\n",
        "\n",
        "Рекомендации:\n",
        "1. Можно было включить в работу обработку выбросов"
      ],
      "metadata": {
        "id": "zyAPZtHNhK11"
      }
    }
  ]
}