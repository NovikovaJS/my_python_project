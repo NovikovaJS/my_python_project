{
  "nbformat": 4,
  "nbformat_minor": 0,
  "metadata": {
    "colab": {
      "name": "СТАТ.АНАЛИЗ Checkroi Новикова Юлия",
      "provenance": [],
      "collapsed_sections": [
        "0hZgxBzbIeSU",
        "n5QeE0mS72vw",
        "YvbRI8KOJnVu"
      ]
    },
    "kernelspec": {
      "name": "python3",
      "display_name": "Python 3"
    },
    "language_info": {
      "name": "python"
    }
  },
  "cells": [
    {
      "cell_type": "markdown",
      "source": [
        "##Подгрузка датасета"
      ],
      "metadata": {
        "id": "0hZgxBzbIeSU"
      }
    },
    {
      "cell_type": "code",
      "execution_count": null,
      "metadata": {
        "id": "0HtNyGBNIbM3",
        "colab": {
          "base_uri": "https://localhost:8080/"
        },
        "outputId": "f87e949c-c720-445c-ff53-b113128bc7a2"
      },
      "outputs": [
        {
          "output_type": "stream",
          "name": "stdout",
          "text": [
            "/usr/local/lib/python3.7/dist-packages/gdown/cli.py:131: FutureWarning: Option `--id` was deprecated in version 4.3.1 and will be removed in 5.0. You don't need to pass it anymore to use a file ID.\n",
            "  category=FutureWarning,\n",
            "Downloading...\n",
            "From: https://drive.google.com/uc?id=1I7w6Y4xcPmsA-rYLhhkCJupglvGN8Eg2\n",
            "To: /content/GROOPBYCHECROI.csv\n",
            "100% 1.26M/1.26M [00:00<00:00, 136MB/s]\n"
          ]
        }
      ],
      "source": [
        "!gdown --id 1I7w6Y4xcPmsA-rYLhhkCJupglvGN8Eg2"
      ]
    },
    {
      "cell_type": "markdown",
      "source": [
        "## Подгрузка данных в питон и начало работы с ними"
      ],
      "metadata": {
        "id": "n5QeE0mS72vw"
      }
    },
    {
      "cell_type": "code",
      "execution_count": null,
      "metadata": {
        "id": "u6djlDpb6C-N"
      },
      "outputs": [],
      "source": [
        "import pandas as pd"
      ]
    },
    {
      "cell_type": "code",
      "source": [
        "dataset = pd.read_csv('GROOPBYCHECROI.csv') #подругрузка файла"
      ],
      "metadata": {
        "id": "TKmrOuMb6MOx"
      },
      "execution_count": null,
      "outputs": []
    },
    {
      "cell_type": "code",
      "source": [
        "df = pd.DataFrame(dataset)"
      ],
      "metadata": {
        "id": "joqheZtu-71u"
      },
      "execution_count": null,
      "outputs": []
    },
    {
      "cell_type": "markdown",
      "source": [
        "##Отключение ограничения показа всех строк таблиц"
      ],
      "metadata": {
        "id": "YvbRI8KOJnVu"
      }
    },
    {
      "cell_type": "code",
      "source": [
        "#pd.set_option('display.max_rows', None)\n",
        "#pd.set_option('display.max_columns', None)\n",
        "#pd.set_option('display.max_colwidth', None)"
      ],
      "metadata": {
        "id": "v9LbIXaHeWGn"
      },
      "execution_count": null,
      "outputs": []
    },
    {
      "cell_type": "markdown",
      "source": [
        "##Подключение библиотек"
      ],
      "metadata": {
        "id": "DC8GLaTIIyEV"
      }
    },
    {
      "cell_type": "code",
      "source": [
        "%matplotlib inline\n",
        "import numpy as np\n",
        "import pandas as pd\n",
        "import matplotlib.pyplot as plt\n",
        "import scipy\n",
        "import scipy.stats as stats\n",
        "import seaborn as sns\n",
        "import sklearn.linear_model as lm\n",
        "import statsmodels.api as sm\n",
        "import statsmodels.formula.api as smf\n",
        "\n",
        "pd.options.display.max_rows = 8 #параметр отображения графиков\n",
        "\n",
        "import warnings\n",
        "warnings.filterwarnings('ignore') #отключение предупреждений библиотек"
      ],
      "metadata": {
        "id": "SFXC324zI7G-",
        "colab": {
          "base_uri": "https://localhost:8080/"
        },
        "outputId": "0d24f715-bf58-4891-ac95-94fad7f6ccdb"
      },
      "execution_count": null,
      "outputs": [
        {
          "output_type": "stream",
          "name": "stderr",
          "text": [
            "/usr/local/lib/python3.7/dist-packages/statsmodels/tools/_testing.py:19: FutureWarning: pandas.util.testing is deprecated. Use the functions in the public API at pandas.testing instead.\n",
            "  import pandas.util.testing as tm\n"
          ]
        }
      ]
    },
    {
      "cell_type": "markdown",
      "source": [
        "##Подготовка и просмотр датасета"
      ],
      "metadata": {
        "id": "hTNFbUSRen9T"
      }
    },
    {
      "cell_type": "code",
      "source": [
        "df.info()"
      ],
      "metadata": {
        "colab": {
          "base_uri": "https://localhost:8080/"
        },
        "id": "SGGJ3RFvdp0B",
        "outputId": "4565738f-7063-4184-9ada-dce57b225ad2"
      },
      "execution_count": null,
      "outputs": [
        {
          "output_type": "stream",
          "name": "stdout",
          "text": [
            "<class 'pandas.core.frame.DataFrame'>\n",
            "RangeIndex: 886 entries, 0 to 885\n",
            "Data columns (total 18 columns):\n",
            " #   Column             Non-Null Count  Dtype \n",
            "---  ------             --------------  ----- \n",
            " 0   name               886 non-null    object\n",
            " 1   name_school        886 non-null    object\n",
            " 2   price all          886 non-null    int64 \n",
            " 3   price sellary      886 non-null    int64 \n",
            " 4   kredit_v_monce     886 non-null    int64 \n",
            " 5   dlitelnost         886 non-null    object\n",
            " 6   tip_prof           886 non-null    object\n",
            " 7   ocenka             886 non-null    object\n",
            " 8   plus               738 non-null    object\n",
            " 9   minus              737 non-null    object\n",
            " 10  uroven_podgotovki  728 non-null    object\n",
            " 11  komu               880 non-null    object\n",
            " 12  chemy_nauchitsy    536 non-null    object\n",
            " 13  programm           606 non-null    object\n",
            " 14  napravleniya       886 non-null    object\n",
            " 15  tehnologii         758 non-null    object\n",
            " 16  soft_skills        818 non-null    object\n",
            " 17  name_all           886 non-null    object\n",
            "dtypes: int64(3), object(15)\n",
            "memory usage: 124.7+ KB\n"
          ]
        }
      ]
    },
    {
      "cell_type": "markdown",
      "source": [
        "Анализируемые столбцы не все имеют нужный тип данных, например оценка и длительность."
      ],
      "metadata": {
        "id": "nsW0ZALLIql0"
      }
    },
    {
      "cell_type": "markdown",
      "source": [
        "###Очистим столбец Оценка"
      ],
      "metadata": {
        "id": "InwPuXZFe52Y"
      }
    },
    {
      "cell_type": "code",
      "source": [
        "df['ocenka'] = df['ocenka'].replace(r'/10',\"\",regex=True)\n",
        "df[['ocenka']] = df[['ocenka']].astype(float)"
      ],
      "metadata": {
        "id": "jccu0dbqfDE4"
      },
      "execution_count": null,
      "outputs": []
    },
    {
      "cell_type": "markdown",
      "source": [
        "###Очистим столбец Длительность обучения"
      ],
      "metadata": {
        "id": "8dV89w1jjBD9"
      }
    },
    {
      "cell_type": "code",
      "source": [
        "df['dlitelnost'] = df['dlitelnost'].str.replace(r\"[^\\d\\.]\", \"\", regex=True)\n",
        "df[['dlitelnost']] = df[['dlitelnost']].astype(int)"
      ],
      "metadata": {
        "id": "czj4JoT_kO47"
      },
      "execution_count": null,
      "outputs": []
    },
    {
      "cell_type": "code",
      "source": [
        "df.info()"
      ],
      "metadata": {
        "colab": {
          "base_uri": "https://localhost:8080/"
        },
        "id": "SVON--A5jFB1",
        "outputId": "df75b69c-19f4-4cbd-ae75-7bda916a71ea"
      },
      "execution_count": null,
      "outputs": [
        {
          "output_type": "stream",
          "name": "stdout",
          "text": [
            "<class 'pandas.core.frame.DataFrame'>\n",
            "RangeIndex: 886 entries, 0 to 885\n",
            "Data columns (total 18 columns):\n",
            " #   Column             Non-Null Count  Dtype  \n",
            "---  ------             --------------  -----  \n",
            " 0   name               886 non-null    object \n",
            " 1   name_school        886 non-null    object \n",
            " 2   price all          886 non-null    int64  \n",
            " 3   price sellary      886 non-null    int64  \n",
            " 4   kredit_v_monce     886 non-null    int64  \n",
            " 5   dlitelnost         886 non-null    int64  \n",
            " 6   tip_prof           886 non-null    object \n",
            " 7   ocenka             886 non-null    float64\n",
            " 8   plus               738 non-null    object \n",
            " 9   minus              737 non-null    object \n",
            " 10  uroven_podgotovki  728 non-null    object \n",
            " 11  komu               880 non-null    object \n",
            " 12  chemy_nauchitsy    536 non-null    object \n",
            " 13  programm           606 non-null    object \n",
            " 14  napravleniya       886 non-null    object \n",
            " 15  tehnologii         758 non-null    object \n",
            " 16  soft_skills        818 non-null    object \n",
            " 17  name_all           886 non-null    object \n",
            "dtypes: float64(1), int64(4), object(13)\n",
            "memory usage: 124.7+ KB\n"
          ]
        }
      ]
    },
    {
      "cell_type": "markdown",
      "source": [
        "Типы данных соответствуют анализу."
      ],
      "metadata": {
        "id": "ECJ8hG-oI3-7"
      }
    },
    {
      "cell_type": "markdown",
      "source": [
        "##Проверим зависимость стоимости курса от рейтинга школы и длительности обучения"
      ],
      "metadata": {
        "id": "pPTu23-YVTnL"
      }
    },
    {
      "cell_type": "markdown",
      "source": [
        "Мы готовы совершить ошибку первого рода с вероятностью 0.05 (сравниваем с p-value)\n",
        "\n",
        "---\n",
        "\n"
      ],
      "metadata": {
        "id": "266wE1Bmm_sX"
      }
    },
    {
      "cell_type": "markdown",
      "source": [
        "###Фильтрация датафрейма по цене со скидкой,т.к. анализ по столбцу полной цены не целесообразен (скидка может быть фиктивная). У 200 курсов из 800 цена со скидкой не указана, можно ее не ввключать в выборку."
      ],
      "metadata": {
        "id": "Oaj0rr_dVahV"
      }
    },
    {
      "cell_type": "code",
      "source": [
        "df1 = df[df['price sellary'] > 0]"
      ],
      "metadata": {
        "id": "JPUoMQVlJQMb"
      },
      "execution_count": null,
      "outputs": []
    },
    {
      "cell_type": "markdown",
      "source": [
        "#Проведем статистический анализ курсов Аналитик данных"
      ],
      "metadata": {
        "id": "dXHshn-5Vyrl"
      }
    },
    {
      "cell_type": "code",
      "source": [
        "df2 = df1[df1[\"name_all\"] == \"Аналитик данных\"]"
      ],
      "metadata": {
        "id": "ezkDHF5WWpAn"
      },
      "execution_count": null,
      "outputs": []
    },
    {
      "cell_type": "markdown",
      "source": [
        "##Создадим новый датафрейм со столбцами оценка, длительность, стоимость"
      ],
      "metadata": {
        "id": "E0Mz-z8XbkoJ"
      }
    },
    {
      "cell_type": "code",
      "source": [
        "df3 = df2[['ocenka','dlitelnost','price sellary']]\n",
        "df3"
      ],
      "metadata": {
        "colab": {
          "base_uri": "https://localhost:8080/",
          "height": 361
        },
        "id": "n1m3UM-pOlsN",
        "outputId": "30fc6ee2-c2b6-4db3-facd-4318612a6355"
      },
      "execution_count": null,
      "outputs": [
        {
          "output_type": "execute_result",
          "data": {
            "text/plain": [
              "     ocenka  dlitelnost  price sellary\n",
              "23     10.0          12         106172\n",
              "68      9.8          11          78000\n",
              "72      9.8          12          74900\n",
              "99      9.5          12         109500\n",
              "..      ...         ...            ...\n",
              "733     8.7           8          84000\n",
              "741     8.5           4          71044\n",
              "786     8.4           2           5600\n",
              "867     8.0           6          41900\n",
              "\n",
              "[38 rows x 3 columns]"
            ],
            "text/html": [
              "\n",
              "  <div id=\"df-9cba62c3-28bb-4d21-8c6e-1a8eb0176a8e\">\n",
              "    <div class=\"colab-df-container\">\n",
              "      <div>\n",
              "<style scoped>\n",
              "    .dataframe tbody tr th:only-of-type {\n",
              "        vertical-align: middle;\n",
              "    }\n",
              "\n",
              "    .dataframe tbody tr th {\n",
              "        vertical-align: top;\n",
              "    }\n",
              "\n",
              "    .dataframe thead th {\n",
              "        text-align: right;\n",
              "    }\n",
              "</style>\n",
              "<table border=\"1\" class=\"dataframe\">\n",
              "  <thead>\n",
              "    <tr style=\"text-align: right;\">\n",
              "      <th></th>\n",
              "      <th>ocenka</th>\n",
              "      <th>dlitelnost</th>\n",
              "      <th>price sellary</th>\n",
              "    </tr>\n",
              "  </thead>\n",
              "  <tbody>\n",
              "    <tr>\n",
              "      <th>23</th>\n",
              "      <td>10.0</td>\n",
              "      <td>12</td>\n",
              "      <td>106172</td>\n",
              "    </tr>\n",
              "    <tr>\n",
              "      <th>68</th>\n",
              "      <td>9.8</td>\n",
              "      <td>11</td>\n",
              "      <td>78000</td>\n",
              "    </tr>\n",
              "    <tr>\n",
              "      <th>72</th>\n",
              "      <td>9.8</td>\n",
              "      <td>12</td>\n",
              "      <td>74900</td>\n",
              "    </tr>\n",
              "    <tr>\n",
              "      <th>99</th>\n",
              "      <td>9.5</td>\n",
              "      <td>12</td>\n",
              "      <td>109500</td>\n",
              "    </tr>\n",
              "    <tr>\n",
              "      <th>...</th>\n",
              "      <td>...</td>\n",
              "      <td>...</td>\n",
              "      <td>...</td>\n",
              "    </tr>\n",
              "    <tr>\n",
              "      <th>733</th>\n",
              "      <td>8.7</td>\n",
              "      <td>8</td>\n",
              "      <td>84000</td>\n",
              "    </tr>\n",
              "    <tr>\n",
              "      <th>741</th>\n",
              "      <td>8.5</td>\n",
              "      <td>4</td>\n",
              "      <td>71044</td>\n",
              "    </tr>\n",
              "    <tr>\n",
              "      <th>786</th>\n",
              "      <td>8.4</td>\n",
              "      <td>2</td>\n",
              "      <td>5600</td>\n",
              "    </tr>\n",
              "    <tr>\n",
              "      <th>867</th>\n",
              "      <td>8.0</td>\n",
              "      <td>6</td>\n",
              "      <td>41900</td>\n",
              "    </tr>\n",
              "  </tbody>\n",
              "</table>\n",
              "<p>38 rows × 3 columns</p>\n",
              "</div>\n",
              "      <button class=\"colab-df-convert\" onclick=\"convertToInteractive('df-9cba62c3-28bb-4d21-8c6e-1a8eb0176a8e')\"\n",
              "              title=\"Convert this dataframe to an interactive table.\"\n",
              "              style=\"display:none;\">\n",
              "        \n",
              "  <svg xmlns=\"http://www.w3.org/2000/svg\" height=\"24px\"viewBox=\"0 0 24 24\"\n",
              "       width=\"24px\">\n",
              "    <path d=\"M0 0h24v24H0V0z\" fill=\"none\"/>\n",
              "    <path d=\"M18.56 5.44l.94 2.06.94-2.06 2.06-.94-2.06-.94-.94-2.06-.94 2.06-2.06.94zm-11 1L8.5 8.5l.94-2.06 2.06-.94-2.06-.94L8.5 2.5l-.94 2.06-2.06.94zm10 10l.94 2.06.94-2.06 2.06-.94-2.06-.94-.94-2.06-.94 2.06-2.06.94z\"/><path d=\"M17.41 7.96l-1.37-1.37c-.4-.4-.92-.59-1.43-.59-.52 0-1.04.2-1.43.59L10.3 9.45l-7.72 7.72c-.78.78-.78 2.05 0 2.83L4 21.41c.39.39.9.59 1.41.59.51 0 1.02-.2 1.41-.59l7.78-7.78 2.81-2.81c.8-.78.8-2.07 0-2.86zM5.41 20L4 18.59l7.72-7.72 1.47 1.35L5.41 20z\"/>\n",
              "  </svg>\n",
              "      </button>\n",
              "      \n",
              "  <style>\n",
              "    .colab-df-container {\n",
              "      display:flex;\n",
              "      flex-wrap:wrap;\n",
              "      gap: 12px;\n",
              "    }\n",
              "\n",
              "    .colab-df-convert {\n",
              "      background-color: #E8F0FE;\n",
              "      border: none;\n",
              "      border-radius: 50%;\n",
              "      cursor: pointer;\n",
              "      display: none;\n",
              "      fill: #1967D2;\n",
              "      height: 32px;\n",
              "      padding: 0 0 0 0;\n",
              "      width: 32px;\n",
              "    }\n",
              "\n",
              "    .colab-df-convert:hover {\n",
              "      background-color: #E2EBFA;\n",
              "      box-shadow: 0px 1px 2px rgba(60, 64, 67, 0.3), 0px 1px 3px 1px rgba(60, 64, 67, 0.15);\n",
              "      fill: #174EA6;\n",
              "    }\n",
              "\n",
              "    [theme=dark] .colab-df-convert {\n",
              "      background-color: #3B4455;\n",
              "      fill: #D2E3FC;\n",
              "    }\n",
              "\n",
              "    [theme=dark] .colab-df-convert:hover {\n",
              "      background-color: #434B5C;\n",
              "      box-shadow: 0px 1px 3px 1px rgba(0, 0, 0, 0.15);\n",
              "      filter: drop-shadow(0px 1px 2px rgba(0, 0, 0, 0.3));\n",
              "      fill: #FFFFFF;\n",
              "    }\n",
              "  </style>\n",
              "\n",
              "      <script>\n",
              "        const buttonEl =\n",
              "          document.querySelector('#df-9cba62c3-28bb-4d21-8c6e-1a8eb0176a8e button.colab-df-convert');\n",
              "        buttonEl.style.display =\n",
              "          google.colab.kernel.accessAllowed ? 'block' : 'none';\n",
              "\n",
              "        async function convertToInteractive(key) {\n",
              "          const element = document.querySelector('#df-9cba62c3-28bb-4d21-8c6e-1a8eb0176a8e');\n",
              "          const dataTable =\n",
              "            await google.colab.kernel.invokeFunction('convertToInteractive',\n",
              "                                                     [key], {});\n",
              "          if (!dataTable) return;\n",
              "\n",
              "          const docLinkHtml = 'Like what you see? Visit the ' +\n",
              "            '<a target=\"_blank\" href=https://colab.research.google.com/notebooks/data_table.ipynb>data table notebook</a>'\n",
              "            + ' to learn more about interactive tables.';\n",
              "          element.innerHTML = '';\n",
              "          dataTable['output_type'] = 'display_data';\n",
              "          await google.colab.output.renderOutput(dataTable, element);\n",
              "          const docLink = document.createElement('div');\n",
              "          docLink.innerHTML = docLinkHtml;\n",
              "          element.appendChild(docLink);\n",
              "        }\n",
              "      </script>\n",
              "    </div>\n",
              "  </div>\n",
              "  "
            ]
          },
          "metadata": {},
          "execution_count": 13
        }
      ]
    },
    {
      "cell_type": "markdown",
      "source": [
        "##Описательные статистики"
      ],
      "metadata": {
        "id": "thyOHPxWYiQF"
      }
    },
    {
      "cell_type": "markdown",
      "source": [
        "Посмотрим описательные статистики для числовых переменных, т.е. для средней заработной платы"
      ],
      "metadata": {
        "id": "W5KloVicYvBl"
      }
    },
    {
      "cell_type": "code",
      "source": [
        "df3[['ocenka','dlitelnost','price sellary']].describe()"
      ],
      "metadata": {
        "colab": {
          "base_uri": "https://localhost:8080/",
          "height": 300
        },
        "id": "mFxUmR-mYmAx",
        "outputId": "160c4dd3-b919-422e-c4ec-57dbee301a97"
      },
      "execution_count": null,
      "outputs": [
        {
          "output_type": "execute_result",
          "data": {
            "text/plain": [
              "          ocenka  dlitelnost  price sellary\n",
              "count  38.000000   38.000000      38.000000\n",
              "mean    8.392105    6.315789   62690.973684\n",
              "std     0.881762    4.714012   35633.696159\n",
              "min     6.300000    1.000000    5000.000000\n",
              "25%     7.700000    4.000000   40325.000000\n",
              "50%     8.550000    6.000000   63950.000000\n",
              "75%     9.000000    6.750000   82144.000000\n",
              "max    10.000000   24.000000  162000.000000"
            ],
            "text/html": [
              "\n",
              "  <div id=\"df-59e48226-e031-4055-b622-80139b4790ea\">\n",
              "    <div class=\"colab-df-container\">\n",
              "      <div>\n",
              "<style scoped>\n",
              "    .dataframe tbody tr th:only-of-type {\n",
              "        vertical-align: middle;\n",
              "    }\n",
              "\n",
              "    .dataframe tbody tr th {\n",
              "        vertical-align: top;\n",
              "    }\n",
              "\n",
              "    .dataframe thead th {\n",
              "        text-align: right;\n",
              "    }\n",
              "</style>\n",
              "<table border=\"1\" class=\"dataframe\">\n",
              "  <thead>\n",
              "    <tr style=\"text-align: right;\">\n",
              "      <th></th>\n",
              "      <th>ocenka</th>\n",
              "      <th>dlitelnost</th>\n",
              "      <th>price sellary</th>\n",
              "    </tr>\n",
              "  </thead>\n",
              "  <tbody>\n",
              "    <tr>\n",
              "      <th>count</th>\n",
              "      <td>38.000000</td>\n",
              "      <td>38.000000</td>\n",
              "      <td>38.000000</td>\n",
              "    </tr>\n",
              "    <tr>\n",
              "      <th>mean</th>\n",
              "      <td>8.392105</td>\n",
              "      <td>6.315789</td>\n",
              "      <td>62690.973684</td>\n",
              "    </tr>\n",
              "    <tr>\n",
              "      <th>std</th>\n",
              "      <td>0.881762</td>\n",
              "      <td>4.714012</td>\n",
              "      <td>35633.696159</td>\n",
              "    </tr>\n",
              "    <tr>\n",
              "      <th>min</th>\n",
              "      <td>6.300000</td>\n",
              "      <td>1.000000</td>\n",
              "      <td>5000.000000</td>\n",
              "    </tr>\n",
              "    <tr>\n",
              "      <th>25%</th>\n",
              "      <td>7.700000</td>\n",
              "      <td>4.000000</td>\n",
              "      <td>40325.000000</td>\n",
              "    </tr>\n",
              "    <tr>\n",
              "      <th>50%</th>\n",
              "      <td>8.550000</td>\n",
              "      <td>6.000000</td>\n",
              "      <td>63950.000000</td>\n",
              "    </tr>\n",
              "    <tr>\n",
              "      <th>75%</th>\n",
              "      <td>9.000000</td>\n",
              "      <td>6.750000</td>\n",
              "      <td>82144.000000</td>\n",
              "    </tr>\n",
              "    <tr>\n",
              "      <th>max</th>\n",
              "      <td>10.000000</td>\n",
              "      <td>24.000000</td>\n",
              "      <td>162000.000000</td>\n",
              "    </tr>\n",
              "  </tbody>\n",
              "</table>\n",
              "</div>\n",
              "      <button class=\"colab-df-convert\" onclick=\"convertToInteractive('df-59e48226-e031-4055-b622-80139b4790ea')\"\n",
              "              title=\"Convert this dataframe to an interactive table.\"\n",
              "              style=\"display:none;\">\n",
              "        \n",
              "  <svg xmlns=\"http://www.w3.org/2000/svg\" height=\"24px\"viewBox=\"0 0 24 24\"\n",
              "       width=\"24px\">\n",
              "    <path d=\"M0 0h24v24H0V0z\" fill=\"none\"/>\n",
              "    <path d=\"M18.56 5.44l.94 2.06.94-2.06 2.06-.94-2.06-.94-.94-2.06-.94 2.06-2.06.94zm-11 1L8.5 8.5l.94-2.06 2.06-.94-2.06-.94L8.5 2.5l-.94 2.06-2.06.94zm10 10l.94 2.06.94-2.06 2.06-.94-2.06-.94-.94-2.06-.94 2.06-2.06.94z\"/><path d=\"M17.41 7.96l-1.37-1.37c-.4-.4-.92-.59-1.43-.59-.52 0-1.04.2-1.43.59L10.3 9.45l-7.72 7.72c-.78.78-.78 2.05 0 2.83L4 21.41c.39.39.9.59 1.41.59.51 0 1.02-.2 1.41-.59l7.78-7.78 2.81-2.81c.8-.78.8-2.07 0-2.86zM5.41 20L4 18.59l7.72-7.72 1.47 1.35L5.41 20z\"/>\n",
              "  </svg>\n",
              "      </button>\n",
              "      \n",
              "  <style>\n",
              "    .colab-df-container {\n",
              "      display:flex;\n",
              "      flex-wrap:wrap;\n",
              "      gap: 12px;\n",
              "    }\n",
              "\n",
              "    .colab-df-convert {\n",
              "      background-color: #E8F0FE;\n",
              "      border: none;\n",
              "      border-radius: 50%;\n",
              "      cursor: pointer;\n",
              "      display: none;\n",
              "      fill: #1967D2;\n",
              "      height: 32px;\n",
              "      padding: 0 0 0 0;\n",
              "      width: 32px;\n",
              "    }\n",
              "\n",
              "    .colab-df-convert:hover {\n",
              "      background-color: #E2EBFA;\n",
              "      box-shadow: 0px 1px 2px rgba(60, 64, 67, 0.3), 0px 1px 3px 1px rgba(60, 64, 67, 0.15);\n",
              "      fill: #174EA6;\n",
              "    }\n",
              "\n",
              "    [theme=dark] .colab-df-convert {\n",
              "      background-color: #3B4455;\n",
              "      fill: #D2E3FC;\n",
              "    }\n",
              "\n",
              "    [theme=dark] .colab-df-convert:hover {\n",
              "      background-color: #434B5C;\n",
              "      box-shadow: 0px 1px 3px 1px rgba(0, 0, 0, 0.15);\n",
              "      filter: drop-shadow(0px 1px 2px rgba(0, 0, 0, 0.3));\n",
              "      fill: #FFFFFF;\n",
              "    }\n",
              "  </style>\n",
              "\n",
              "      <script>\n",
              "        const buttonEl =\n",
              "          document.querySelector('#df-59e48226-e031-4055-b622-80139b4790ea button.colab-df-convert');\n",
              "        buttonEl.style.display =\n",
              "          google.colab.kernel.accessAllowed ? 'block' : 'none';\n",
              "\n",
              "        async function convertToInteractive(key) {\n",
              "          const element = document.querySelector('#df-59e48226-e031-4055-b622-80139b4790ea');\n",
              "          const dataTable =\n",
              "            await google.colab.kernel.invokeFunction('convertToInteractive',\n",
              "                                                     [key], {});\n",
              "          if (!dataTable) return;\n",
              "\n",
              "          const docLinkHtml = 'Like what you see? Visit the ' +\n",
              "            '<a target=\"_blank\" href=https://colab.research.google.com/notebooks/data_table.ipynb>data table notebook</a>'\n",
              "            + ' to learn more about interactive tables.';\n",
              "          element.innerHTML = '';\n",
              "          dataTable['output_type'] = 'display_data';\n",
              "          await google.colab.output.renderOutput(dataTable, element);\n",
              "          const docLink = document.createElement('div');\n",
              "          docLink.innerHTML = docLinkHtml;\n",
              "          element.appendChild(docLink);\n",
              "        }\n",
              "      </script>\n",
              "    </div>\n",
              "  </div>\n",
              "  "
            ]
          },
          "metadata": {},
          "execution_count": 14
        }
      ]
    },
    {
      "cell_type": "markdown",
      "source": [
        "Средняя стоимость курса аналитика данных 62690 руб, максимальная стоимость 162000, минимальная 5000.\n",
        "Среднее значение длительности чуть более 6 месяцев, минимальное 1 месяц, максимальное 24 месяца.\n",
        "Средняя оценка курсов по аналитике данных 8.4, мин. 6.3,макс. 10 баллов."
      ],
      "metadata": {
        "id": "9cyLJdBwZkRa"
      }
    },
    {
      "cell_type": "markdown",
      "source": [
        "##Проверка нормальности по критерию Шапиро-Уилка \n",
        "Нулевая гипотеза о том, что стоимость курсов подчиняется нормальному закону распрееления. "
      ],
      "metadata": {
        "id": "HkOwwzxuZ482"
      }
    },
    {
      "cell_type": "code",
      "source": [
        "stats.shapiro(df3['price sellary'])"
      ],
      "metadata": {
        "colab": {
          "base_uri": "https://localhost:8080/"
        },
        "id": "8AORLr_wZ7fT",
        "outputId": "05ffa7dd-142c-4c94-97ec-a0efe3d4c4d1"
      },
      "execution_count": null,
      "outputs": [
        {
          "output_type": "execute_result",
          "data": {
            "text/plain": [
              "ShapiroResult(statistic=0.9687438607215881, pvalue=0.3590436279773712)"
            ]
          },
          "metadata": {},
          "execution_count": 15
        }
      ]
    },
    {
      "cell_type": "markdown",
      "source": [
        "pvalue=0.359 больше, чем 0.05, следовательно не можем отклонить нулевую гипотезу, делаем вывод, что данные, скорее всего, взяты из гауссовского распределения.(можно работать как с нормальной и применять парамерические критерии)"
      ],
      "metadata": {
        "id": "R6fgSuV3ar3A"
      }
    },
    {
      "cell_type": "code",
      "source": [
        "df3[['ocenka','dlitelnost','price sellary']].mean() # среднее"
      ],
      "metadata": {
        "colab": {
          "base_uri": "https://localhost:8080/"
        },
        "id": "om1CCevaKm-b",
        "outputId": "1d761f18-aeb8-4205-a7b9-49908c0ace9a"
      },
      "execution_count": null,
      "outputs": [
        {
          "output_type": "execute_result",
          "data": {
            "text/plain": [
              "ocenka               8.392105\n",
              "dlitelnost           6.315789\n",
              "price sellary    62690.973684\n",
              "dtype: float64"
            ]
          },
          "metadata": {},
          "execution_count": 16
        }
      ]
    },
    {
      "cell_type": "code",
      "source": [
        "df3[['ocenka','dlitelnost','price sellary']].std()  # средне квадратическое отклонение. На сколько в стреднем отклоняется значение от среднего"
      ],
      "metadata": {
        "colab": {
          "base_uri": "https://localhost:8080/"
        },
        "id": "1922MROtKo8a",
        "outputId": "416fd59b-dbb6-4ccb-97ec-b299d1b7e3c6"
      },
      "execution_count": null,
      "outputs": [
        {
          "output_type": "execute_result",
          "data": {
            "text/plain": [
              "ocenka               0.881762\n",
              "dlitelnost           4.714012\n",
              "price sellary    35633.696159\n",
              "dtype: float64"
            ]
          },
          "metadata": {},
          "execution_count": 17
        }
      ]
    },
    {
      "cell_type": "code",
      "source": [
        "df3[['ocenka','dlitelnost','price sellary']].skew() # коэффициент асимметрии: есл положительные, говорит о левостороннем смещении макушки графика"
      ],
      "metadata": {
        "colab": {
          "base_uri": "https://localhost:8080/"
        },
        "id": "Yaipv1JZKrSP",
        "outputId": "64a6b450-d6fa-42ff-8816-5f98c662d20d"
      },
      "execution_count": null,
      "outputs": [
        {
          "output_type": "execute_result",
          "data": {
            "text/plain": [
              "ocenka          -0.047923\n",
              "dlitelnost       1.766345\n",
              "price sellary    0.557838\n",
              "dtype: float64"
            ]
          },
          "metadata": {},
          "execution_count": 18
        }
      ]
    },
    {
      "cell_type": "code",
      "source": [
        "df3[['ocenka','dlitelnost','price sellary']].kurtosis() # коэффициент эксцесса: если отрицательный- плосковершинность."
      ],
      "metadata": {
        "colab": {
          "base_uri": "https://localhost:8080/"
        },
        "id": "XrAj9Z9WKtpu",
        "outputId": "59199371-fc41-45dc-94cc-90eae02914d3"
      },
      "execution_count": null,
      "outputs": [
        {
          "output_type": "execute_result",
          "data": {
            "text/plain": [
              "ocenka          -0.628399\n",
              "dlitelnost       4.263077\n",
              "price sellary    0.251868\n",
              "dtype: float64"
            ]
          },
          "metadata": {},
          "execution_count": 19
        }
      ]
    },
    {
      "cell_type": "markdown",
      "source": [
        "###Гистограмма распределения стоимости курсов"
      ],
      "metadata": {
        "id": "r8oJvvvDF-l0"
      }
    },
    {
      "cell_type": "code",
      "source": [
        "df3['price sellary'].hist(bins=8)"
      ],
      "metadata": {
        "colab": {
          "base_uri": "https://localhost:8080/",
          "height": 282
        },
        "id": "pGwNflUTpMLw",
        "outputId": "fd421444-70a0-4ec1-f526-eeba6742e8e3"
      },
      "execution_count": null,
      "outputs": [
        {
          "output_type": "execute_result",
          "data": {
            "text/plain": [
              "<matplotlib.axes._subplots.AxesSubplot at 0x7f07292a2490>"
            ]
          },
          "metadata": {},
          "execution_count": 20
        },
        {
          "output_type": "display_data",
          "data": {
            "text/plain": [
              "<Figure size 432x288 with 1 Axes>"
            ],
            "image/png": "[encoded data removed]"
          },
          "metadata": {
            "needs_background": "light"
          }
        }
      ]
    },
    {
      "cell_type": "markdown",
      "source": [
        "# **Нулевая гипотеза №1** Рейтинг школы не влияет на ценообразование (Анализ влияния количественных признаков. Критерии сравнения групп.) \n",
        "Данные количественные, распределение нормальное, количество групп 2, поэтому применяем Критерий Стьюдента."
      ],
      "metadata": {
        "id": "2QXw08rEbe8J"
      }
    },
    {
      "cell_type": "markdown",
      "source": [
        "##Описательные статистики"
      ],
      "metadata": {
        "id": "wafoNnf30kej"
      }
    },
    {
      "cell_type": "markdown",
      "source": [
        "Рассмотрим как выглядит среднее значение цены курсов в зависимости от рейтинга школы"
      ],
      "metadata": {
        "id": "brDLV6vgby3d"
      }
    },
    {
      "cell_type": "code",
      "source": [
        "df3.groupby('ocenka')[['price sellary']].mean()"
      ],
      "metadata": {
        "colab": {
          "base_uri": "https://localhost:8080/",
          "height": 392
        },
        "id": "_IdJPPMPbcIB",
        "outputId": "ed80afc2-3179-4a61-c7bc-adbb57c28105"
      },
      "execution_count": null,
      "outputs": [
        {
          "output_type": "execute_result",
          "data": {
            "text/plain": [
              "        price sellary\n",
              "ocenka               \n",
              "6.3            5000.0\n",
              "7.2           25550.0\n",
              "7.3           61500.0\n",
              "7.5           52312.5\n",
              "...               ...\n",
              "9.5          109500.0\n",
              "9.6          104750.0\n",
              "9.8           76450.0\n",
              "10.0         106172.0\n",
              "\n",
              "[20 rows x 1 columns]"
            ],
            "text/html": [
              "\n",
              "  <div id=\"df-bd512289-a622-493a-b131-68144b98cfe8\">\n",
              "    <div class=\"colab-df-container\">\n",
              "      <div>\n",
              "<style scoped>\n",
              "    .dataframe tbody tr th:only-of-type {\n",
              "        vertical-align: middle;\n",
              "    }\n",
              "\n",
              "    .dataframe tbody tr th {\n",
              "        vertical-align: top;\n",
              "    }\n",
              "\n",
              "    .dataframe thead th {\n",
              "        text-align: right;\n",
              "    }\n",
              "</style>\n",
              "<table border=\"1\" class=\"dataframe\">\n",
              "  <thead>\n",
              "    <tr style=\"text-align: right;\">\n",
              "      <th></th>\n",
              "      <th>price sellary</th>\n",
              "    </tr>\n",
              "    <tr>\n",
              "      <th>ocenka</th>\n",
              "      <th></th>\n",
              "    </tr>\n",
              "  </thead>\n",
              "  <tbody>\n",
              "    <tr>\n",
              "      <th>6.3</th>\n",
              "      <td>5000.0</td>\n",
              "    </tr>\n",
              "    <tr>\n",
              "      <th>7.2</th>\n",
              "      <td>25550.0</td>\n",
              "    </tr>\n",
              "    <tr>\n",
              "      <th>7.3</th>\n",
              "      <td>61500.0</td>\n",
              "    </tr>\n",
              "    <tr>\n",
              "      <th>7.5</th>\n",
              "      <td>52312.5</td>\n",
              "    </tr>\n",
              "    <tr>\n",
              "      <th>...</th>\n",
              "      <td>...</td>\n",
              "    </tr>\n",
              "    <tr>\n",
              "      <th>9.5</th>\n",
              "      <td>109500.0</td>\n",
              "    </tr>\n",
              "    <tr>\n",
              "      <th>9.6</th>\n",
              "      <td>104750.0</td>\n",
              "    </tr>\n",
              "    <tr>\n",
              "      <th>9.8</th>\n",
              "      <td>76450.0</td>\n",
              "    </tr>\n",
              "    <tr>\n",
              "      <th>10.0</th>\n",
              "      <td>106172.0</td>\n",
              "    </tr>\n",
              "  </tbody>\n",
              "</table>\n",
              "<p>20 rows × 1 columns</p>\n",
              "</div>\n",
              "      <button class=\"colab-df-convert\" onclick=\"convertToInteractive('df-bd512289-a622-493a-b131-68144b98cfe8')\"\n",
              "              title=\"Convert this dataframe to an interactive table.\"\n",
              "              style=\"display:none;\">\n",
              "        \n",
              "  <svg xmlns=\"http://www.w3.org/2000/svg\" height=\"24px\"viewBox=\"0 0 24 24\"\n",
              "       width=\"24px\">\n",
              "    <path d=\"M0 0h24v24H0V0z\" fill=\"none\"/>\n",
              "    <path d=\"M18.56 5.44l.94 2.06.94-2.06 2.06-.94-2.06-.94-.94-2.06-.94 2.06-2.06.94zm-11 1L8.5 8.5l.94-2.06 2.06-.94-2.06-.94L8.5 2.5l-.94 2.06-2.06.94zm10 10l.94 2.06.94-2.06 2.06-.94-2.06-.94-.94-2.06-.94 2.06-2.06.94z\"/><path d=\"M17.41 7.96l-1.37-1.37c-.4-.4-.92-.59-1.43-.59-.52 0-1.04.2-1.43.59L10.3 9.45l-7.72 7.72c-.78.78-.78 2.05 0 2.83L4 21.41c.39.39.9.59 1.41.59.51 0 1.02-.2 1.41-.59l7.78-7.78 2.81-2.81c.8-.78.8-2.07 0-2.86zM5.41 20L4 18.59l7.72-7.72 1.47 1.35L5.41 20z\"/>\n",
              "  </svg>\n",
              "      </button>\n",
              "      \n",
              "  <style>\n",
              "    .colab-df-container {\n",
              "      display:flex;\n",
              "      flex-wrap:wrap;\n",
              "      gap: 12px;\n",
              "    }\n",
              "\n",
              "    .colab-df-convert {\n",
              "      background-color: #E8F0FE;\n",
              "      border: none;\n",
              "      border-radius: 50%;\n",
              "      cursor: pointer;\n",
              "      display: none;\n",
              "      fill: #1967D2;\n",
              "      height: 32px;\n",
              "      padding: 0 0 0 0;\n",
              "      width: 32px;\n",
              "    }\n",
              "\n",
              "    .colab-df-convert:hover {\n",
              "      background-color: #E2EBFA;\n",
              "      box-shadow: 0px 1px 2px rgba(60, 64, 67, 0.3), 0px 1px 3px 1px rgba(60, 64, 67, 0.15);\n",
              "      fill: #174EA6;\n",
              "    }\n",
              "\n",
              "    [theme=dark] .colab-df-convert {\n",
              "      background-color: #3B4455;\n",
              "      fill: #D2E3FC;\n",
              "    }\n",
              "\n",
              "    [theme=dark] .colab-df-convert:hover {\n",
              "      background-color: #434B5C;\n",
              "      box-shadow: 0px 1px 3px 1px rgba(0, 0, 0, 0.15);\n",
              "      filter: drop-shadow(0px 1px 2px rgba(0, 0, 0, 0.3));\n",
              "      fill: #FFFFFF;\n",
              "    }\n",
              "  </style>\n",
              "\n",
              "      <script>\n",
              "        const buttonEl =\n",
              "          document.querySelector('#df-bd512289-a622-493a-b131-68144b98cfe8 button.colab-df-convert');\n",
              "        buttonEl.style.display =\n",
              "          google.colab.kernel.accessAllowed ? 'block' : 'none';\n",
              "\n",
              "        async function convertToInteractive(key) {\n",
              "          const element = document.querySelector('#df-bd512289-a622-493a-b131-68144b98cfe8');\n",
              "          const dataTable =\n",
              "            await google.colab.kernel.invokeFunction('convertToInteractive',\n",
              "                                                     [key], {});\n",
              "          if (!dataTable) return;\n",
              "\n",
              "          const docLinkHtml = 'Like what you see? Visit the ' +\n",
              "            '<a target=\"_blank\" href=https://colab.research.google.com/notebooks/data_table.ipynb>data table notebook</a>'\n",
              "            + ' to learn more about interactive tables.';\n",
              "          element.innerHTML = '';\n",
              "          dataTable['output_type'] = 'display_data';\n",
              "          await google.colab.output.renderOutput(dataTable, element);\n",
              "          const docLink = document.createElement('div');\n",
              "          docLink.innerHTML = docLinkHtml;\n",
              "          element.appendChild(docLink);\n",
              "        }\n",
              "      </script>\n",
              "    </div>\n",
              "  </div>\n",
              "  "
            ]
          },
          "metadata": {},
          "execution_count": 21
        }
      ]
    },
    {
      "cell_type": "markdown",
      "source": [
        "Из таблицы уже видим, что минимальной оценке соответствует маленькая цена курса, также с повышением рейтинга цена не всегда, но возрастает."
      ],
      "metadata": {
        "id": "Xf1kZTUxiiif"
      }
    },
    {
      "cell_type": "markdown",
      "source": [
        "##Количество наблюдений"
      ],
      "metadata": {
        "id": "EP4dYIvJ1BTK"
      }
    },
    {
      "cell_type": "code",
      "source": [
        "df3['ocenka'].value_counts()"
      ],
      "metadata": {
        "colab": {
          "base_uri": "https://localhost:8080/"
        },
        "id": "htaoYiVLx8LQ",
        "outputId": "17b2c928-6167-430e-d307-a8a19fef4e82"
      },
      "execution_count": null,
      "outputs": [
        {
          "output_type": "execute_result",
          "data": {
            "text/plain": [
              "8.7    5\n",
              "7.5    4\n",
              "8.0    3\n",
              "7.8    3\n",
              "      ..\n",
              "7.2    1\n",
              "9.3    1\n",
              "9.5    1\n",
              "8.4    1\n",
              "Name: ocenka, Length: 20, dtype: int64"
            ]
          },
          "metadata": {},
          "execution_count": 22
        }
      ]
    },
    {
      "cell_type": "code",
      "source": [
        "df3.groupby('ocenka')[['price sellary']].count()"
      ],
      "metadata": {
        "colab": {
          "base_uri": "https://localhost:8080/",
          "height": 392
        },
        "id": "XAjo5mRNiY89",
        "outputId": "b5dc9bf2-93a9-4168-cd08-d52a07c4f90e"
      },
      "execution_count": null,
      "outputs": [
        {
          "output_type": "execute_result",
          "data": {
            "text/plain": [
              "        price sellary\n",
              "ocenka               \n",
              "6.3                 1\n",
              "7.2                 1\n",
              "7.3                 2\n",
              "7.5                 4\n",
              "...               ...\n",
              "9.5                 1\n",
              "9.6                 2\n",
              "9.8                 2\n",
              "10.0                1\n",
              "\n",
              "[20 rows x 1 columns]"
            ],
            "text/html": [
              "\n",
              "  <div id=\"df-db99d773-7a0c-48c2-9c33-7bfd6144161c\">\n",
              "    <div class=\"colab-df-container\">\n",
              "      <div>\n",
              "<style scoped>\n",
              "    .dataframe tbody tr th:only-of-type {\n",
              "        vertical-align: middle;\n",
              "    }\n",
              "\n",
              "    .dataframe tbody tr th {\n",
              "        vertical-align: top;\n",
              "    }\n",
              "\n",
              "    .dataframe thead th {\n",
              "        text-align: right;\n",
              "    }\n",
              "</style>\n",
              "<table border=\"1\" class=\"dataframe\">\n",
              "  <thead>\n",
              "    <tr style=\"text-align: right;\">\n",
              "      <th></th>\n",
              "      <th>price sellary</th>\n",
              "    </tr>\n",
              "    <tr>\n",
              "      <th>ocenka</th>\n",
              "      <th></th>\n",
              "    </tr>\n",
              "  </thead>\n",
              "  <tbody>\n",
              "    <tr>\n",
              "      <th>6.3</th>\n",
              "      <td>1</td>\n",
              "    </tr>\n",
              "    <tr>\n",
              "      <th>7.2</th>\n",
              "      <td>1</td>\n",
              "    </tr>\n",
              "    <tr>\n",
              "      <th>7.3</th>\n",
              "      <td>2</td>\n",
              "    </tr>\n",
              "    <tr>\n",
              "      <th>7.5</th>\n",
              "      <td>4</td>\n",
              "    </tr>\n",
              "    <tr>\n",
              "      <th>...</th>\n",
              "      <td>...</td>\n",
              "    </tr>\n",
              "    <tr>\n",
              "      <th>9.5</th>\n",
              "      <td>1</td>\n",
              "    </tr>\n",
              "    <tr>\n",
              "      <th>9.6</th>\n",
              "      <td>2</td>\n",
              "    </tr>\n",
              "    <tr>\n",
              "      <th>9.8</th>\n",
              "      <td>2</td>\n",
              "    </tr>\n",
              "    <tr>\n",
              "      <th>10.0</th>\n",
              "      <td>1</td>\n",
              "    </tr>\n",
              "  </tbody>\n",
              "</table>\n",
              "<p>20 rows × 1 columns</p>\n",
              "</div>\n",
              "      <button class=\"colab-df-convert\" onclick=\"convertToInteractive('df-db99d773-7a0c-48c2-9c33-7bfd6144161c')\"\n",
              "              title=\"Convert this dataframe to an interactive table.\"\n",
              "              style=\"display:none;\">\n",
              "        \n",
              "  <svg xmlns=\"http://www.w3.org/2000/svg\" height=\"24px\"viewBox=\"0 0 24 24\"\n",
              "       width=\"24px\">\n",
              "    <path d=\"M0 0h24v24H0V0z\" fill=\"none\"/>\n",
              "    <path d=\"M18.56 5.44l.94 2.06.94-2.06 2.06-.94-2.06-.94-.94-2.06-.94 2.06-2.06.94zm-11 1L8.5 8.5l.94-2.06 2.06-.94-2.06-.94L8.5 2.5l-.94 2.06-2.06.94zm10 10l.94 2.06.94-2.06 2.06-.94-2.06-.94-.94-2.06-.94 2.06-2.06.94z\"/><path d=\"M17.41 7.96l-1.37-1.37c-.4-.4-.92-.59-1.43-.59-.52 0-1.04.2-1.43.59L10.3 9.45l-7.72 7.72c-.78.78-.78 2.05 0 2.83L4 21.41c.39.39.9.59 1.41.59.51 0 1.02-.2 1.41-.59l7.78-7.78 2.81-2.81c.8-.78.8-2.07 0-2.86zM5.41 20L4 18.59l7.72-7.72 1.47 1.35L5.41 20z\"/>\n",
              "  </svg>\n",
              "      </button>\n",
              "      \n",
              "  <style>\n",
              "    .colab-df-container {\n",
              "      display:flex;\n",
              "      flex-wrap:wrap;\n",
              "      gap: 12px;\n",
              "    }\n",
              "\n",
              "    .colab-df-convert {\n",
              "      background-color: #E8F0FE;\n",
              "      border: none;\n",
              "      border-radius: 50%;\n",
              "      cursor: pointer;\n",
              "      display: none;\n",
              "      fill: #1967D2;\n",
              "      height: 32px;\n",
              "      padding: 0 0 0 0;\n",
              "      width: 32px;\n",
              "    }\n",
              "\n",
              "    .colab-df-convert:hover {\n",
              "      background-color: #E2EBFA;\n",
              "      box-shadow: 0px 1px 2px rgba(60, 64, 67, 0.3), 0px 1px 3px 1px rgba(60, 64, 67, 0.15);\n",
              "      fill: #174EA6;\n",
              "    }\n",
              "\n",
              "    [theme=dark] .colab-df-convert {\n",
              "      background-color: #3B4455;\n",
              "      fill: #D2E3FC;\n",
              "    }\n",
              "\n",
              "    [theme=dark] .colab-df-convert:hover {\n",
              "      background-color: #434B5C;\n",
              "      box-shadow: 0px 1px 3px 1px rgba(0, 0, 0, 0.15);\n",
              "      filter: drop-shadow(0px 1px 2px rgba(0, 0, 0, 0.3));\n",
              "      fill: #FFFFFF;\n",
              "    }\n",
              "  </style>\n",
              "\n",
              "      <script>\n",
              "        const buttonEl =\n",
              "          document.querySelector('#df-db99d773-7a0c-48c2-9c33-7bfd6144161c button.colab-df-convert');\n",
              "        buttonEl.style.display =\n",
              "          google.colab.kernel.accessAllowed ? 'block' : 'none';\n",
              "\n",
              "        async function convertToInteractive(key) {\n",
              "          const element = document.querySelector('#df-db99d773-7a0c-48c2-9c33-7bfd6144161c');\n",
              "          const dataTable =\n",
              "            await google.colab.kernel.invokeFunction('convertToInteractive',\n",
              "                                                     [key], {});\n",
              "          if (!dataTable) return;\n",
              "\n",
              "          const docLinkHtml = 'Like what you see? Visit the ' +\n",
              "            '<a target=\"_blank\" href=https://colab.research.google.com/notebooks/data_table.ipynb>data table notebook</a>'\n",
              "            + ' to learn more about interactive tables.';\n",
              "          element.innerHTML = '';\n",
              "          dataTable['output_type'] = 'display_data';\n",
              "          await google.colab.output.renderOutput(dataTable, element);\n",
              "          const docLink = document.createElement('div');\n",
              "          docLink.innerHTML = docLinkHtml;\n",
              "          element.appendChild(docLink);\n",
              "        }\n",
              "      </script>\n",
              "    </div>\n",
              "  </div>\n",
              "  "
            ]
          },
          "metadata": {},
          "execution_count": 23
        }
      ]
    },
    {
      "cell_type": "markdown",
      "source": [
        "Количество соответствий цены и оценки."
      ],
      "metadata": {
        "id": "FU159oahwy6p"
      }
    },
    {
      "cell_type": "markdown",
      "source": [
        "##Гистограмма зависимости Средней заработной платы от опыта работы"
      ],
      "metadata": {
        "id": "EatC8Zkj0yLu"
      }
    },
    {
      "cell_type": "code",
      "source": [
        "df3.plot('ocenka','price sellary',kind=\"scatter\")"
      ],
      "metadata": {
        "colab": {
          "base_uri": "https://localhost:8080/",
          "height": 296
        },
        "id": "CXnfC1s9vYlS",
        "outputId": "375aaf1d-de40-42ac-d88f-3b24c14c8db3"
      },
      "execution_count": null,
      "outputs": [
        {
          "output_type": "execute_result",
          "data": {
            "text/plain": [
              "<matplotlib.axes._subplots.AxesSubplot at 0x7f0728cfa8d0>"
            ]
          },
          "metadata": {},
          "execution_count": 24
        },
        {
          "output_type": "display_data",
          "data": {
            "text/plain": [
              "<Figure size 432x288 with 1 Axes>"
            ],
            "image/png": "[encoded data removed]"
          },
          "metadata": {
            "needs_background": "light"
          }
        }
      ]
    },
    {
      "cell_type": "code",
      "source": [
        "f, ax = plt.subplots(figsize=(6, 6))\n",
        "fig = sns.boxplot(x='ocenka', y='price sellary', data=df3)"
      ],
      "metadata": {
        "colab": {
          "base_uri": "https://localhost:8080/",
          "height": 388
        },
        "id": "nCncaHwdczcH",
        "outputId": "74a36f26-480c-4f54-9e0a-80f42201fdef"
      },
      "execution_count": null,
      "outputs": [
        {
          "output_type": "display_data",
          "data": {
            "text/plain": [
              "<Figure size 432x432 with 1 Axes>"
            ],
            "image/png": "[encoded data removed]"
          },
          "metadata": {
            "needs_background": "light"
          }
        }
      ]
    },
    {
      "cell_type": "markdown",
      "source": [
        "Из графика видим, что зависимость стоимости курсов от оценки неочевидна."
      ],
      "metadata": {
        "id": "d6NVMbgvc6Hf"
      }
    }
  ]
}