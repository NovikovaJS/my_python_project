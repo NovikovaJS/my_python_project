{
  "cells": [
    {
      "cell_type": "code",
      "execution_count": null,
      "metadata": {
        "id": "YAZgEIYq33i0"
      },
      "outputs": [],
      "source": [
        "!pip install scrapy"
      ]
    },
    {
      "cell_type": "code",
      "execution_count": null,
      "metadata": {
        "colab": {
          "base_uri": "https://localhost:8080/"
        },
        "id": "S3MHODpL3_RG",
        "outputId": "21343589-eeb0-4c1f-fef7-14b8a2e156f8"
      },
      "outputs": [
        {
          "output_type": "stream",
          "name": "stdout",
          "text": [
            "New Scrapy project 'datadiving_project', using template directory '/usr/local/lib/python3.7/dist-packages/scrapy/templates/project', created in:\n",
            "    /content/datadiving_project\n",
            "\n",
            "You can start your first spider with:\n",
            "    cd datadiving_project\n",
            "    scrapy genspider example example.com\n"
          ]
        }
      ],
      "source": [
        "!scrapy startproject datadiving_project"
      ]
    },
    {
      "cell_type": "code",
      "execution_count": null,
      "metadata": {
        "id": "7FiPVPsp4CJj"
      },
      "outputs": [],
      "source": [
        "import scrapy\n",
        "\n",
        "\n",
        "\n",
        "class SiteSpider(scrapy.Spider):\n",
        "  name = 'SiteSpider'\n",
        "  start_urls = [\"https://checkroi.ru/course/fakultet-data-engineering-ot-geekbrains/\"]\n",
        "\n",
        "  def parse(self, response):\n",
        "    link_list = response.css(\"h3.text-clamp a::attr(href)\")\n",
        "    for link in link_list:\n",
        "      yield response.follow(link, callback=self.parse_site)\n",
        "    \n",
        "    for num_page in range(0, 1):\n",
        "      link = f'hhttps://checkroi.ru/directory/page/{num_page}/?query_type_napravlenie=or&filter_napravlenie=analitika%2Cdizajn%2Cmarketing%2Cprikladnoe-iskusstvo%2Cprogrammirovanie%2Cupravlenie-i-biznes%2Cvideo-i-audio'\n",
        "      yield response.follow(link, callback=self.parse)\n",
        "\n",
        "  def parse_site(self, response):\n",
        "    yield {\n",
        "      \"name\": response.css(\"h1.product_title ::text\").get(),\n",
        "      \"price all\": response.css(\"p.price ::text\").get(),\n",
        "      \"price sellary\": response.css(\"p.price ins::text\").get(),\n",
        "      \"dlitelnost\" : response.css(\"div.ptb5 ::text\").getall(),\n",
        "      \"tip_prof\" : response.selector.xpath('//*[@id=\"product-2626\"]/div[1]/div/div[1]/div[3]/div[3]/span[3]/a/text()').extract(),\n",
        "      \"ocenka\" : response.css('span.score_text_r *::text').getall(),\n",
        "      \"plus\" : response.css('div.wpsm_pros li::text').getall(),\n",
        "      \"minus\" : response.css('div.wpsm_cons li::text').getall(),\n",
        "      \"uroven_podgotovki\" : response.css('ul.tabs-menu ::text').getall(),\n",
        "      \"komu\": response.css('tr.woocommerce-product-attributes-item.woocommerce-product-attributes-item--attribute_pa_komu-podojdjot span::text').getall(),\n",
        "      \"chemy_nauchitsy\" : response.css('div.rows-2-art *::text').getall(),\n",
        "      \"programm\" : response.selector.xpath('//*[@id=\"section-description\"]/div/ol/li/text()').extract(),\n",
        "      \"price\":response.css(\"div.col-lg-5 div::text\").getall(),\n",
        "      \"name_school\": response.css(\"span.val_no_link ::text\").get(),\n",
        "      \"napravleniya\" : response.css('span.val_link *::text').getall(),\n",
        "      \"tehnologii\":response.css('tr.woocommerce-product-attributes-item.woocommerce-product-attributes-item--attribute_pa_tehnologii span::text').getall(),\n",
        "      \"soft_skills\": response.css('tr.woocommerce-product-attributes-item.woocommerce-product-attributes-item--attribute_pa_chemu-nauchites span::text').getall()\n",
        "    }\n"
      ]
    },
    {
      "cell_type": "code",
      "execution_count": null,
      "metadata": {
        "id": "e0Zlid0d4Khs",
        "outputId": "060f6f07-f2cb-4ef0-c779-0a480b55a642",
        "colab": {
          "base_uri": "https://localhost:8080/"
        }
      },
      "outputs": [
        {
          "output_type": "stream",
          "name": "stdout",
          "text": [
            "/content/datadiving_project\n",
            "2022-07-01 12:58:17 [scrapy.utils.log] INFO: Scrapy 2.6.1 started (bot: datadiving_project)\n",
            "2022-07-01 12:58:17 [scrapy.utils.log] INFO: Versions: lxml 4.2.6.0, libxml2 2.9.8, cssselect 1.1.0, parsel 1.6.0, w3lib 1.22.0, Twisted 22.4.0, Python 3.7.13 (default, Apr 24 2022, 01:04:09) - [GCC 7.5.0], pyOpenSSL 22.0.0 (OpenSSL 3.0.3 3 May 2022), cryptography 37.0.2, Platform Linux-5.4.188+-x86_64-with-Ubuntu-18.04-bionic\n",
            "2022-07-01 12:58:17 [scrapy.crawler] INFO: Overridden settings:\n",
            "{'BOT_NAME': 'datadiving_project',\n",
            " 'NEWSPIDER_MODULE': 'datadiving_project.spiders',\n",
            " 'ROBOTSTXT_OBEY': True,\n",
            " 'SPIDER_LOADER_WARN_ONLY': True,\n",
            " 'SPIDER_MODULES': ['datadiving_project.spiders']}\n",
            "2022-07-01 12:58:17 [scrapy.utils.log] DEBUG: Using reactor: twisted.internet.epollreactor.EPollReactor\n",
            "2022-07-01 12:58:17 [scrapy.extensions.telnet] INFO: Telnet Password: 2f43d4a15afe4607\n",
            "2022-07-01 12:58:17 [scrapy.middleware] INFO: Enabled extensions:\n",
            "['scrapy.extensions.corestats.CoreStats',\n",
            " 'scrapy.extensions.telnet.TelnetConsole',\n",
            " 'scrapy.extensions.memusage.MemoryUsage',\n",
            " 'scrapy.extensions.feedexport.FeedExporter',\n",
            " 'scrapy.extensions.logstats.LogStats']\n",
            "2022-07-01 12:58:17 [scrapy.middleware] INFO: Enabled downloader middlewares:\n",
            "['scrapy.downloadermiddlewares.robotstxt.RobotsTxtMiddleware',\n",
            " 'scrapy.downloadermiddlewares.httpauth.HttpAuthMiddleware',\n",
            " 'scrapy.downloadermiddlewares.downloadtimeout.DownloadTimeoutMiddleware',\n",
            " 'scrapy.downloadermiddlewares.defaultheaders.DefaultHeadersMiddleware',\n",
            " 'scrapy.downloadermiddlewares.useragent.UserAgentMiddleware',\n",
            " 'scrapy.downloadermiddlewares.retry.RetryMiddleware',\n",
            " 'scrapy.downloadermiddlewares.redirect.MetaRefreshMiddleware',\n",
            " 'scrapy.downloadermiddlewares.httpcompression.HttpCompressionMiddleware',\n",
            " 'scrapy.downloadermiddlewares.redirect.RedirectMiddleware',\n",
            " 'scrapy.downloadermiddlewares.cookies.CookiesMiddleware',\n",
            " 'scrapy.downloadermiddlewares.httpproxy.HttpProxyMiddleware',\n",
            " 'scrapy.downloadermiddlewares.stats.DownloaderStats']\n",
            "2022-07-01 12:58:17 [scrapy.middleware] INFO: Enabled spider middlewares:\n",
            "['scrapy.spidermiddlewares.httperror.HttpErrorMiddleware',\n",
            " 'scrapy.spidermiddlewares.offsite.OffsiteMiddleware',\n",
            " 'scrapy.spidermiddlewares.referer.RefererMiddleware',\n",
            " 'scrapy.spidermiddlewares.urllength.UrlLengthMiddleware',\n",
            " 'scrapy.spidermiddlewares.depth.DepthMiddleware']\n",
            "2022-07-01 12:58:17 [scrapy.middleware] INFO: Enabled item pipelines:\n",
            "[]\n",
            "2022-07-01 12:58:17 [scrapy.core.engine] INFO: Spider opened\n",
            "2022-07-01 12:58:17 [scrapy.extensions.logstats] INFO: Crawled 0 pages (at 0 pages/min), scraped 0 items (at 0 items/min)\n",
            "2022-07-01 12:58:17 [scrapy.extensions.telnet] INFO: Telnet console listening on 127.0.0.1:6023\n",
            "2022-07-01 12:58:18 [scrapy.core.engine] DEBUG: Crawled (200) <GET https://checkroi.ru/robots.txt> (referer: None)\n",
            "2022-07-01 12:58:19 [scrapy.core.engine] DEBUG: Crawled (200) <GET https://checkroi.ru/course/fakultet-data-engineering-ot-geekbrains/> (referer: None)\n",
            "2022-07-01 12:58:19 [scrapy.downloadermiddlewares.robotstxt] DEBUG: Forbidden by robots.txt: <GET hhttps://checkroi.ru/directory/page/0/?query_type_napravlenie=or&filter_napravlenie=analitika%2Cdizajn%2Cmarketing%2Cprikladnoe-iskusstvo%2Cprogrammirovanie%2Cupravlenie-i-biznes%2Cvideo-i-audio>\n",
            "2022-07-01 12:58:20 [scrapy.core.engine] DEBUG: Crawled (200) <GET https://checkroi.ru/course/kurs-seo-20-ot-teachline-i-texterra/> (referer: https://checkroi.ru/course/fakultet-data-engineering-ot-geekbrains/)\n",
            "2022-07-01 12:58:20 [scrapy.core.engine] DEBUG: Crawled (200) <GET https://checkroi.ru/course/kurs-frontend-razrabotchik-s-nulya-ot-netologii/> (referer: https://checkroi.ru/course/fakultet-data-engineering-ot-geekbrains/)\n",
            "2022-07-01 12:58:21 [scrapy.core.scraper] DEBUG: Scraped from <200 https://checkroi.ru/course/kurs-seo-20-ot-teachline-i-texterra/>\n",
            "{'name': 'Курс «SEO 2.0» от\\xa0Teachline', 'price': '16\\xa0000\\xa0', 'price_with_discount': '14\\xa0000\\xa0', 'a': ['\\r\\n                                        ', ' ', ' Длительность:', '\\r\\n\\t\\t                                1 месяц                                    '], 'rating': ['7.7', '/10'], 'plus': ['диплом;\\r', 'быстрый курс.\\r'], 'minus': ['доступ не навсегда;\\r', 'нет трудоустройства.']}\n",
            "2022-07-01 12:58:21 [scrapy.core.scraper] DEBUG: Scraped from <200 https://checkroi.ru/course/kurs-frontend-razrabotchik-s-nulya-ot-netologii/>\n",
            "{'name': 'Курс «Frontend-разработчик с\\xa0нуля» от\\xa0Нетологии', 'price': '180\\xa0000\\xa0', 'price_with_discount': '108\\xa0000\\xa0', 'a': ['\\r\\n                                        ', ' ', ' Длительность:', '\\r\\n\\t\\t                                18 месяцев                                    '], 'rating': ['9.4', '/10'], 'plus': ['диплом\\r', 'портфолио\\r', 'нетворкинг\\r', 'упор на практику\\r', 'практика на реальных проектах\\r', 'дополнительные материалы\\r', 'бонусный модуль английского для разработчиков от языковой школы EnglishDom\\r', 'помощь с трудоустройством\\r', 'гарантия возврата денег через 3 занятия, если курс не подойдёт\\r', 'возврат 13% через налоговый вычет \\r'], 'minus': ['нет индивидуальных консультаций']}\n",
            "2022-07-01 12:58:26 [scrapy.core.engine] DEBUG: Crawled (200) <GET https://checkroi.ru/course/professiya-dizayner-intererov-ot-skillbox/> (referer: https://checkroi.ru/course/fakultet-data-engineering-ot-geekbrains/)\n",
            "2022-07-01 12:58:26 [scrapy.core.engine] DEBUG: Crawled (200) <GET https://checkroi.ru/course/kurs-targetirovannaya-reklama-ot-teachline/> (referer: https://checkroi.ru/course/fakultet-data-engineering-ot-geekbrains/)\n",
            "2022-07-01 12:58:26 [scrapy.core.engine] DEBUG: Crawled (200) <GET https://checkroi.ru/course/kurs-prodyuser-onlayn-kursov-ot-skillbox/> (referer: https://checkroi.ru/course/fakultet-data-engineering-ot-geekbrains/)\n",
            "2022-07-01 12:58:27 [scrapy.core.scraper] DEBUG: Scraped from <200 https://checkroi.ru/course/professiya-dizayner-intererov-ot-skillbox/>\n",
            "{'name': 'Профессия «Дизайнер интерьеров» от\\xa0Skillbox', 'price': '356\\xa0385\\xa0', 'price_with_discount': '213\\xa0831\\xa0', 'a': ['\\r\\n                                        ', ' ', ' Длительность:', '\\r\\n\\t\\t                                12 месяцев                                    '], 'rating': ['8.5', '/10'], 'plus': ['помощь в трудоустройстве;\\r', 'диплом;\\r', 'беспроцентная рассрочка;\\r', '\\r', 'гарантия возврата денег в течение 14 дней;\\r', '2 месяца английского языка в подарок!'], 'minus': ['дорогой курс (но это того стоит)']}\n",
            "2022-07-01 12:58:27 [scrapy.core.scraper] DEBUG: Scraped from <200 https://checkroi.ru/course/kurs-targetirovannaya-reklama-ot-teachline/>\n",
            "{'name': 'Курс «Таргетированная реклама» от\\xa0Teachline', 'price': '12\\xa0000\\xa0', 'price_with_discount': '10\\xa0000\\xa0', 'a': ['\\r\\n                                        ', ' ', ' Длительность:', '\\r\\n\\t\\t                                1 месяц                                    '], 'rating': ['7', '/10'], 'plus': ['бесплатный демо-урок;\\r', 'диплом;\\r', 'домашние задания с проверкой и обратной связью от преподавателя.'], 'minus': ['нет помощи в трудоустройстве;\\r', 'доступ к материалам не навсегда.']}\n",
            "2022-07-01 12:58:27 [scrapy.core.scraper] DEBUG: Scraped from <200 https://checkroi.ru/course/kurs-prodyuser-onlayn-kursov-ot-skillbox/>\n",
            "{'name': 'Курс «Продюсер онлайн-курсов» от\\xa0Skillbox', 'price': '101\\xa0500\\xa0', 'price_with_discount': '81\\xa0200\\xa0', 'a': ['\\r\\n                                        ', ' ', ' Длительность:', '\\r\\n\\t\\t                                                                    '], 'rating': ['8.2', '/10'], 'plus': ['диплом;\\r', 'стажировка;\\r', 'доступ к курсу сохраняется навсегда.'], 'minus': ['нет.']}\n",
            "2022-07-01 12:58:27 [scrapy.core.engine] INFO: Closing spider (finished)\n",
            "2022-07-01 12:58:27 [scrapy.extensions.feedexport] INFO: Stored csv feed (5 items) in: SiteSpider.csv\n",
            "2022-07-01 12:58:27 [scrapy.statscollectors] INFO: Dumping Scrapy stats:\n",
            "{'downloader/exception_count': 1,\n",
            " 'downloader/exception_type_count/scrapy.exceptions.IgnoreRequest': 1,\n",
            " 'downloader/request_bytes': 2169,\n",
            " 'downloader/request_count': 7,\n",
            " 'downloader/request_method_count/GET': 7,\n",
            " 'downloader/response_bytes': 325745,\n",
            " 'downloader/response_count': 7,\n",
            " 'downloader/response_status_count/200': 7,\n",
            " 'elapsed_time_seconds': 9.584701,\n",
            " 'feedexport/success_count/FileFeedStorage': 1,\n",
            " 'finish_reason': 'finished',\n",
            " 'finish_time': datetime.datetime(2022, 7, 1, 12, 58, 27, 62598),\n",
            " 'httpcompression/response_bytes': 1677759,\n",
            " 'httpcompression/response_count': 7,\n",
            " 'item_scraped_count': 5,\n",
            " 'log_count/DEBUG': 14,\n",
            " 'log_count/INFO': 11,\n",
            " 'memusage/max': 91373568,\n",
            " 'memusage/startup': 91373568,\n",
            " 'request_depth_max': 1,\n",
            " 'response_received_count': 7,\n",
            " 'robotstxt/forbidden': 1,\n",
            " 'robotstxt/request_count': 1,\n",
            " 'robotstxt/response_count': 1,\n",
            " 'robotstxt/response_status_count/200': 1,\n",
            " 'scheduler/dequeued': 7,\n",
            " 'scheduler/dequeued/memory': 7,\n",
            " 'scheduler/enqueued': 7,\n",
            " 'scheduler/enqueued/memory': 7,\n",
            " 'start_time': datetime.datetime(2022, 7, 1, 12, 58, 17, 477897)}\n",
            "2022-07-01 12:58:27 [scrapy.core.engine] INFO: Spider closed (finished)\n"
          ]
        }
      ],
      "source": [
        "%cd datadiving_project/\n",
        "!scrapy runspider /content/datadiving_project/datadiving_project/spiders/SiteSpider.py -o \"SiteSpider.csv\""
      ]
    },
    {
      "cell_type": "code",
      "execution_count": null,
      "metadata": {
        "colab": {
          "base_uri": "https://localhost:8080/"
        },
        "id": "WobBxAQh4PaM",
        "outputId": "c04295ae-fd92-4740-f3cc-21dee9cf149c"
      },
      "outputs": [
        {
          "metadata": {
            "tags": null
          },
          "name": "stdout",
          "output_type": "stream",
          "text": [
            "2022-07-01 13:05:55 [scrapy.utils.log] INFO: Scrapy 2.6.1 started (bot: datadiving_project)\n",
            "2022-07-01 13:05:55 [scrapy.utils.log] INFO: Versions: lxml 4.2.6.0, libxml2 2.9.8, cssselect 1.1.0, parsel 1.6.0, w3lib 1.22.0, Twisted 22.4.0, Python 3.7.13 (default, Apr 24 2022, 01:04:09) - [GCC 7.5.0], pyOpenSSL 22.0.0 (OpenSSL 3.0.3 3 May 2022), cryptography 37.0.2, Platform Linux-5.4.188+-x86_64-with-Ubuntu-18.04-bionic\n",
            "2022-07-01 13:05:55 [scrapy.crawler] INFO: Overridden settings:\n",
            "{'BOT_NAME': 'datadiving_project',\n",
            " 'DUPEFILTER_CLASS': 'scrapy.dupefilters.BaseDupeFilter',\n",
            " 'LOGSTATS_INTERVAL': 0,\n",
            " 'NEWSPIDER_MODULE': 'datadiving_project.spiders',\n",
            " 'ROBOTSTXT_OBEY': True,\n",
            " 'SPIDER_MODULES': ['datadiving_project.spiders']}\n",
            "2022-07-01 13:05:55 [scrapy.utils.log] DEBUG: Using reactor: twisted.internet.epollreactor.EPollReactor\n",
            "2022-07-01 13:05:55 [scrapy.extensions.telnet] INFO: Telnet Password: cef89f00c2e5f9a9\n",
            "2022-07-01 13:05:55 [scrapy.middleware] INFO: Enabled extensions:\n",
            "['scrapy.extensions.corestats.CoreStats',\n",
            " 'scrapy.extensions.telnet.TelnetConsole',\n",
            " 'scrapy.extensions.memusage.MemoryUsage']\n",
            "2022-07-01 13:05:56 [scrapy.middleware] INFO: Enabled downloader middlewares:\n",
            "['scrapy.downloadermiddlewares.robotstxt.RobotsTxtMiddleware',\n",
            " 'scrapy.downloadermiddlewares.httpauth.HttpAuthMiddleware',\n",
            " 'scrapy.downloadermiddlewares.downloadtimeout.DownloadTimeoutMiddleware',\n",
            " 'scrapy.downloadermiddlewares.defaultheaders.DefaultHeadersMiddleware',\n",
            " 'scrapy.downloadermiddlewares.useragent.UserAgentMiddleware',\n",
            " 'scrapy.downloadermiddlewares.retry.RetryMiddleware',\n",
            " 'scrapy.downloadermiddlewares.redirect.MetaRefreshMiddleware',\n",
            " 'scrapy.downloadermiddlewares.httpcompression.HttpCompressionMiddleware',\n",
            " 'scrapy.downloadermiddlewares.redirect.RedirectMiddleware',\n",
            " 'scrapy.downloadermiddlewares.cookies.CookiesMiddleware',\n",
            " 'scrapy.downloadermiddlewares.httpproxy.HttpProxyMiddleware',\n",
            " 'scrapy.downloadermiddlewares.stats.DownloaderStats']\n",
            "2022-07-01 13:05:56 [scrapy.middleware] INFO: Enabled spider middlewares:\n",
            "['scrapy.spidermiddlewares.httperror.HttpErrorMiddleware',\n",
            " 'scrapy.spidermiddlewares.offsite.OffsiteMiddleware',\n",
            " 'scrapy.spidermiddlewares.referer.RefererMiddleware',\n",
            " 'scrapy.spidermiddlewares.urllength.UrlLengthMiddleware',\n",
            " 'scrapy.spidermiddlewares.depth.DepthMiddleware']\n",
            "2022-07-01 13:05:56 [scrapy.middleware] INFO: Enabled item pipelines:\n",
            "[]\n",
            "2022-07-01 13:05:56 [scrapy.extensions.telnet] INFO: Telnet console listening on 127.0.0.1:6023\n",
            "[s] Available Scrapy objects:\n",
            "[s]   scrapy     scrapy module (contains scrapy.Request, scrapy.Selector, etc)\n",
            "[s]   crawler    <scrapy.crawler.Crawler object at 0x7f65611c37d0>\n",
            "[s]   item       {}\n",
            "[s]   settings   <scrapy.settings.Settings object at 0x7f65611c3350>\n",
            "[s] Useful shortcuts:\n",
            "[s]   fetch(url[, redirect=True]) Fetch URL and update local objects (by default, redirects are followed)\n",
            "[s]   fetch(req)                  Fetch a scrapy.Request and update local objects \n",
            "[s]   shelp()           Shell help (print this help)\n",
            "[s]   view(response)    View response in a browser\n",
            "\u001b[79Cn\u001b[0m\n",
            "\u001b[0;38;5;28m   ...: \u001b[0;38;5;130ms/\"\u001b[0m)\u001b[12D\u001b[0m\n",
            "\u001b[J\u001b[?7h\u001b[0m\u001b[?12l\u001b[?25h\u001b[?2004l2022-07-01 13:06:11 [scrapy.core.engine] INFO: Spider opened\n",
            "2022-07-01 13:06:12 [scrapy.core.engine] DEBUG: Crawled (200) <GET https://checkroi.ru/robots.txt> (referer: None)\n",
            "2022-07-01 13:06:13 [scrapy.core.engine] DEBUG: Crawled (200) <GET https://checkroi.ru/course/fakultet-data-engineering-ot-geekbrains/> (referer: None)\n",
            "\n",
            "\u001b[79Cn\u001b[0m\n",
            "\u001b[79Ca\u001b[0m\n",
            "\u001b[0;38;5;28m   ...: \u001b[0;38;5;130mnie,upravlenie-i-biznes,video-i-audio\"\u001b[0m)\u001b[47D\u001b[0m\n",
            "\u001b[J\u001b[?7h\u001b[0m\u001b[?12l\u001b[?25h\u001b[?2004l2022-07-01 13:06:23 [scrapy.downloadermiddlewares.robotstxt] DEBUG: Forbidden by robots.txt: <GET https://checkroi.ru/directory/?query_type_napravlenie=or&filter_napravlenie=analitika,dizajn,marketing,prikladnoe-iskusstvo,programmirovanie,upravlenie-i-biznes,video-i-audio>\n",
            "\n",
            "\u001b[?1l\u001b[6n\u001b[?2004h\u001b[?25l\u001b[0m\u001b[?7l\u001b[0m\u001b[J\u001b[0;38;5;28mIn [\u001b[0;38;5;10;1m3\u001b[0;38;5;28m]: \u001b[8D\u001b[8C\u001b[?7h\u001b[0m\u001b[?12l\u001b[?25h\u001b[?25l\u001b[?7l\u001b[?7h\u001b[0m\u001b[?12l\u001b[?25h\u001b[?25l\u001b[?7l\u001b[8D\u001b[0m\u001b[J\u001b[0;38;5;28mIn [\u001b[0;38;5;10;1m3\u001b[0;38;5;28m]: \u001b[0mresponse\u001b[0m.\u001b[0mcss\u001b[0m(\u001b[0;38;5;130m'ul.tabs-menu ::text'\u001b[0m)\u001b[0m.\u001b[0mgetall\u001b[0m()\u001b[52D\u001b[0m\n",
            "\u001b[J\u001b[?7h\u001b[0m\u001b[?12l\u001b[?25h\u001b[?2004l\u001b[0;31m\u001b[0m\n",
            "\u001b[0;31mAttributeError\u001b[0mTraceback (most recent call last)\n",
            "\u001b[0;32m<ipython-input-3-e3f275764813>\u001b[0m in \u001b[0;36m<module>\u001b[0;34m()\u001b[0m\n",
            "\u001b[0;32m----> 1\u001b[0;31m \u001b[0mresponse\u001b[0m\u001b[0;34m.\u001b[0m\u001b[0mcss\u001b[0m\u001b[0;34m(\u001b[0m\u001b[0;34m'ul.tabs-menu ::text'\u001b[0m\u001b[0;34m)\u001b[0m\u001b[0;34m.\u001b[0m\u001b[0mgetall\u001b[0m\u001b[0;34m(\u001b[0m\u001b[0;34m)\u001b[0m\u001b[0;34m\u001b[0m\u001b[0;34m\u001b[0m\u001b[0m\n",
            "\u001b[0m\n",
            "\u001b[0;31mAttributeError\u001b[0m: 'NoneType' object has no attribute 'css'\n",
            "\n",
            "\u001b[?1l\u001b[6n\u001b[?2004h\u001b[?25l\u001b[0m\u001b[?7l\u001b[0m\u001b[J\u001b[0;38;5;28mIn [\u001b[0;38;5;10;1m4\u001b[0;38;5;28m]: \u001b[8D\u001b[8C\u001b[?7h\u001b[0m\u001b[?12l\u001b[?25h\u001b[?25l\u001b[?7l\u001b[?7h\u001b[0m\u001b[?12l\u001b[?25h\u001b[?25l\u001b[?7l\u001b[8D\u001b[0m\u001b[J\u001b[0;38;5;28mIn [\u001b[0;38;5;10;1m4\u001b[0;38;5;28m]: \u001b[0mresponse\u001b[0m.\u001b[0mcss\u001b[0m(\u001b[0;38;5;130m'div.rows-2-art *::text'\u001b[0m)\u001b[0m.\u001b[0mgetall\u001b[0m()\u001b[55D\u001b[0m\n",
            "\u001b[J\u001b[?7h\u001b[0m\u001b[?12l\u001b[?25h\u001b[?2004l\u001b[0;31m\u001b[0m\n",
            "\u001b[0;31mAttributeError\u001b[0mTraceback (most recent call last)\n",
            "\u001b[0;32m<ipython-input-4-c1425359d913>\u001b[0m in \u001b[0;36m<module>\u001b[0;34m()\u001b[0m\n",
            "\u001b[0;32m----> 1\u001b[0;31m \u001b[0mresponse\u001b[0m\u001b[0;34m.\u001b[0m\u001b[0mcss\u001b[0m\u001b[0;34m(\u001b[0m\u001b[0;34m'div.rows-2-art *::text'\u001b[0m\u001b[0;34m)\u001b[0m\u001b[0;34m.\u001b[0m\u001b[0mgetall\u001b[0m\u001b[0;34m(\u001b[0m\u001b[0;34m)\u001b[0m\u001b[0;34m\u001b[0m\u001b[0;34m\u001b[0m\u001b[0m\n",
            "\u001b[0m\n",
            "\u001b[0;31mAttributeError\u001b[0m: 'NoneType' object has no attribute 'css'\n",
            "\n",
            "\u001b[79Cn\u001b[0m\n",
            "\u001b[79Ca\u001b[0m\n",
            "\u001b[0;38;5;28m   ...: \u001b[0;38;5;130mnie,upravlenie-i-biznes,video-i-audio\"\u001b[0m)\u001b[47D\u001b[0m\n",
            "\u001b[J\u001b[?7h\u001b[0m\u001b[?12l\u001b[?25h\u001b[?2004l2022-07-01 13:07:46 [scrapy.downloadermiddlewares.robotstxt] DEBUG: Forbidden by robots.txt: <GET https://checkroi.ru/directory/?query_type_napravlenie=or&filter_napravlenie=analitika,dizajn,marketing,prikladnoe-iskusstvo,programmirovanie,upravlenie-i-biznes,video-i-audio>\n",
            "\n",
            "\u001b[79Cn\u001b[0m\n",
            "\u001b[0;38;5;28m   ...: \u001b[0;38;5;130ms/\"\u001b[0m)\u001b[12D\u001b[0m\n",
            "\u001b[J\u001b[?7h\u001b[0m\u001b[?12l\u001b[?25h\u001b[?2004l2022-07-01 13:08:40 [scrapy.core.engine] DEBUG: Crawled (200) <GET https://checkroi.ru/course/fakultet-data-engineering-ot-geekbrains/> (referer: None)\n",
            "\n",
            "\u001b[?1l\u001b[6n\u001b[?2004h\u001b[?25l\u001b[0m\u001b[?7l\u001b[0m\u001b[J\u001b[0;38;5;28mIn [\u001b[0;38;5;10;1m7\u001b[0;38;5;28m]: \u001b[8D\u001b[8C\u001b[?7h\u001b[0m\u001b[?12l\u001b[?25h\u001b[?25l\u001b[?7l\u001b[?7h\u001b[0m\u001b[?12l\u001b[?25h"
          ]
        }
      ],
      "source": [
        "!scrapy shell"
      ]
    },
    {
      "cell_type": "code",
      "execution_count": null,
      "metadata": {
        "colab": {
          "base_uri": "https://localhost:8080/",
          "height": 200
        },
        "id": "3TMi1Z4x4fii",
        "outputId": "1030ff46-8324-453f-abc8-e4b7f1e0a80e"
      },
      "outputs": [
        {
          "ename": "NameError",
          "evalue": "ignored",
          "output_type": "error",
          "traceback": [
            "\u001b[0;31m---------------------------------------------------------------------------\u001b[0m",
            "\u001b[0;31mNameError\u001b[0m                                 Traceback (most recent call last)",
            "\u001b[0;32m<ipython-input-6-a42a60fb48e1>\u001b[0m in \u001b[0;36m<module>\u001b[0;34m()\u001b[0m\n\u001b[1;32m     11\u001b[0m \u001b[0;34m\u001b[0m\u001b[0m\n\u001b[1;32m     12\u001b[0m \u001b[0;31m# response.css(\"div.pagination a::text\")[-2].get() # Список ссылок на книги\u001b[0m\u001b[0;34m\u001b[0m\u001b[0;34m\u001b[0m\u001b[0;34m\u001b[0m\u001b[0m\n\u001b[0;32m---> 13\u001b[0;31m \u001b[0mresponse\u001b[0m\u001b[0;34m.\u001b[0m\u001b[0mrequest\u001b[0m\u001b[0;34m.\u001b[0m\u001b[0murl\u001b[0m\u001b[0;34m.\u001b[0m\u001b[0msplit\u001b[0m\u001b[0;34m(\u001b[0m\u001b[0;34m\"page=\"\u001b[0m\u001b[0;34m)\u001b[0m\u001b[0;34m[\u001b[0m\u001b[0;36m1\u001b[0m\u001b[0;34m]\u001b[0m \u001b[0;34m>\u001b[0m \u001b[0mresponse\u001b[0m\u001b[0;34m.\u001b[0m\u001b[0mcss\u001b[0m\u001b[0;34m(\u001b[0m\u001b[0;34m\"div.pagination a::attr(href)\"\u001b[0m\u001b[0;34m)\u001b[0m\u001b[0;34m[\u001b[0m\u001b[0;34m-\u001b[0m\u001b[0;36m1\u001b[0m\u001b[0;34m]\u001b[0m\u001b[0;34m.\u001b[0m\u001b[0mget\u001b[0m\u001b[0;34m(\u001b[0m\u001b[0;34m)\u001b[0m\u001b[0;34m.\u001b[0m\u001b[0msplit\u001b[0m\u001b[0;34m(\u001b[0m\u001b[0;34m\"page=\"\u001b[0m\u001b[0;34m)\u001b[0m\u001b[0;34m[\u001b[0m\u001b[0;36m1\u001b[0m\u001b[0;34m]\u001b[0m\u001b[0;34m\u001b[0m\u001b[0;34m\u001b[0m\u001b[0m\n\u001b[0m",
            "\u001b[0;31mNameError\u001b[0m: name 'response' is not defined"
          ]
        }
      ],
      "source": [
        "#fetch(\"https://checkroi.ru/course/fakultet-data-engineering-ot-geekbrains/\")\n",
        "#fetch(\"https://checkroi.ru/directory/?query_type_napravlenie=or&filter_napravlenie=analitika,dizajn,marketing,prikladnoe-iskusstvo,programmirovanie,upravlenie-i-biznes,video-i-audio\") стартовая страница\n",
        "#response.selector.xpath('//*[@id=\"product-2626\"]/div[1]/div/div[1]/div[3]/h1/text()').extract() название и школа\n",
        "#response.css(\"h1.product_title ::text\").get() - название курса и школы\n",
        "#response.css(\"p.price ::text\").get() - цена полная\n",
        "#response.css(\"p.price ins::text\").get() - цена со скидкой\n",
        "#response.css(\"div.ptb5 ::text\").getall() - лишнее удалить\n",
        "#response.css('span.score_text_r *::text').getall()- средняя оценка\n",
        "#response.css('div.wpsm_pros li::text').getall()- плюсы ПОЧИСТИТЬ\n",
        "#response.css('div.wpsm_cons li::text').getall()-минусы\n",
        "#response.css('ul.tabs-menu ::text').getall() - для кого\n",
        "#response.css('div.rows-2-art *::text').getall()-чему вы науитесь"
      ]
    },
    {
      "cell_type": "code",
      "execution_count": null,
      "metadata": {
        "id": "oxFUG1Zx4UaH"
      },
      "outputs": [],
      "source": [
        ""
      ]
    }
  ],
  "metadata": {
    "colab": {
      "collapsed_sections": [],
      "name": "Курсыcheckroi.ru",
      "provenance": []
    },
    "kernelspec": {
      "display_name": "Python 3",
      "name": "python3"
    },
    "language_info": {
      "name": "python"
    }
  },
  "nbformat": 4,
  "nbformat_minor": 0
}